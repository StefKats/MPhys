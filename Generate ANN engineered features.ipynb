{
 "cells": [
  {
   "cell_type": "code",
   "execution_count": 1,
   "id": "7b409329",
   "metadata": {},
   "outputs": [],
   "source": [
    "import os\n",
    "import numpy as np\n",
    "import pandas as pd\n",
    "import matplotlib.pyplot as plt\n",
    "import random as rn\n",
    "import math\n",
    "\n",
    "%matplotlib inline\n",
    "\n",
    "from pylorentz import Momentum4"
   ]
  },
  {
   "cell_type": "code",
   "execution_count": 2,
   "id": "e61a32f1",
   "metadata": {},
   "outputs": [],
   "source": [
    "col_names = [\"isPassed\",\"m_catCoup_HybridFullRun2\",\"m_weightCatCoup_HybridFullRun2\",\"m_weight_MC\",\n",
    "             \"y1.Pt\",\"y1.Eta\",\"y1.Phi\",\"y1.E\",\n",
    "             \"y2.Pt*1000.\",\"y2.Eta\",\"y2.Phi\",\"y2.E\",\n",
    "             \"jet0.pt\",\"jet0.eta\",\"jet0.phi\",\"jet0.e\",\n",
    "             \"jet1.pt\",\"jet1.eta\",\"jet1.phi\",\"jet1.e\",\n",
    "             \"jet2.pt\",\"jet2.eta\",\"jet2.phi\",\"jet2.e\",\n",
    "             \"jet3.pt\",\"jet3.eta\",\"jet3.phi\",\"jet3.e\",\n",
    "             \"jet4.pt\",\"jet4.eta\",\"jet4.phi\",\"jet4.e\",\n",
    "             \"jet5.pt\",\"jet5.eta\",\"jet5.phi\",\"jet5.e\",\n",
    "             \"jet6.pt\",\"jet6.eta\",\"jet6.phi\",\"jet6.e\",\n",
    "             \"jet7.pt\",\"jet7.eta\",\"jet7.phi\",\"jet7.e\",\n",
    "             \"jet8.pt\",\"jet8.eta\",\"jet8.phi\",\"jet8.e\",\n",
    "             \"jet9.pt\",\"jet9.eta\",\"jet9.phi\",\"jet9.e\",\n",
    "             \"jet10.pt\",\"jet10.eta\",\"jet10.phi\",\"jet10.e\"] "
   ]
  },
  {
   "cell_type": "markdown",
   "id": "196277e0",
   "metadata": {},
   "source": [
    "### Loading data (10% of total)"
   ]
  },
  {
   "cell_type": "code",
   "execution_count": 3,
   "id": "d4d8a15c",
   "metadata": {},
   "outputs": [],
   "source": [
    "signal = pd.read_csv(\"PowhegPy8EG_NNPDF30_VBFH125mc16a.csv\",names=col_names,dtype=\"float32\",nrows=104e3)#,nrows=104e3)\n",
    "background = pd.read_csv(\"Sherpa2_yyjj_njetGeq2_mjj_gt350.csv\",names=col_names,dtype=\"float32\",nrows=302e3)#,nrows=256e3)"
   ]
  },
  {
   "cell_type": "code",
   "execution_count": 4,
   "id": "e3f89ebc",
   "metadata": {},
   "outputs": [
    {
     "data": {
      "text/plain": [
       "((104000, 56), (302000, 56))"
      ]
     },
     "execution_count": 4,
     "metadata": {},
     "output_type": "execute_result"
    }
   ],
   "source": [
    "signal.shape,background.shape"
   ]
  },
  {
   "cell_type": "code",
   "execution_count": 5,
   "id": "e6346e28",
   "metadata": {},
   "outputs": [],
   "source": [
    "signal[\"signal\"]= np.ones(signal.shape[0])\n",
    "background[\"signal\"] = np.zeros(background.shape[0])"
   ]
  },
  {
   "cell_type": "code",
   "execution_count": 6,
   "id": "f1e612eb",
   "metadata": {},
   "outputs": [],
   "source": [
    "total_event_count = signal.shape[0]+background.shape[0]"
   ]
  },
  {
   "cell_type": "code",
   "execution_count": 7,
   "id": "eabf5d4e",
   "metadata": {},
   "outputs": [
    {
     "data": {
      "text/plain": [
       "406000"
      ]
     },
     "execution_count": 7,
     "metadata": {},
     "output_type": "execute_result"
    }
   ],
   "source": [
    "total_event_count"
   ]
  },
  {
   "cell_type": "markdown",
   "id": "5ec8ee11",
   "metadata": {},
   "source": [
    "## Combine signal and background"
   ]
  },
  {
   "cell_type": "code",
   "execution_count": 13,
   "id": "6491619d",
   "metadata": {},
   "outputs": [],
   "source": [
    "df = pd.concat([signal,background], sort=False)"
   ]
  },
  {
   "cell_type": "code",
   "execution_count": 14,
   "id": "44d77d18",
   "metadata": {},
   "outputs": [],
   "source": [
    "df.reset_index(drop=True, inplace=True)"
   ]
  },
  {
   "cell_type": "markdown",
   "id": "943f574d",
   "metadata": {},
   "source": [
    "### Separate features and target columns"
   ]
  },
  {
   "cell_type": "code",
   "execution_count": 17,
   "id": "034cb720",
   "metadata": {},
   "outputs": [
    {
     "data": {
      "text/plain": [
       "((406000, 52), (406000,))"
      ]
     },
     "execution_count": 17,
     "metadata": {},
     "output_type": "execute_result"
    }
   ],
   "source": [
    "X = df.drop([\"isPassed\",\"m_catCoup_HybridFullRun2\",\"m_weightCatCoup_HybridFullRun2\",\"m_weight_MC\",\n",
    "             \"signal\"],axis=1)\n",
    "y = df[\"signal\"]\n",
    "X.shape,y.shape"
   ]
  },
  {
   "cell_type": "markdown",
   "id": "ecb9733a",
   "metadata": {},
   "source": [
    "### ATLAS feature engineering"
   ]
  },
  {
   "cell_type": "code",
   "execution_count": 19,
   "id": "1be57c20",
   "metadata": {},
   "outputs": [],
   "source": [
    "def Plot_normalised_feature(var,bins,label):\n",
    "    labels = [\"non. res.\",\"VBF\"]\n",
    "    for signal in [0,1]:\n",
    "        mask = df.signal == signal\n",
    "        non_zero = np.count_nonzero(~np.isnan(var[mask]))\n",
    "        weights = np.ones_like(var[mask])/float(non_zero)\n",
    "        plt.hist(var[mask],alpha=0.5, label=labels[signal],bins = bins,weights=weights)\n",
    "    plt.xlabel(label)\n",
    "    plt.ylabel(\"Fraction\")\n",
    "    plt.legend()\n",
    "    plt.show()"
   ]
  },
  {
   "cell_type": "code",
   "execution_count": 20,
   "id": "c490305b",
   "metadata": {},
   "outputs": [],
   "source": [
    "jets_e = [\"jet0.e\",\"jet1.e\",\"jet2.e\",\"jet3.e\",\"jet4.e\",\"jet5.e\",\"jet6.e\",\"jet7.e\",\"jet8.e\",\"jet9.e\",\"jet10.e\"]"
   ]
  },
  {
   "cell_type": "code",
   "execution_count": 21,
   "id": "06b4e748",
   "metadata": {},
   "outputs": [],
   "source": [
    "jets_pt = [\"jet0.pt\",\"jet1.pt\",\"jet2.pt\",\"jet3.pt\",\"jet4.pt\",\"jet5.pt\",\"jet6.pt\",\"jet7.pt\",\"jet8.pt\",\"jet9.pt\",\n",
    "             \"jet10.pt\"]"
   ]
  },
  {
   "cell_type": "code",
   "execution_count": 22,
   "id": "f1ddfe79",
   "metadata": {},
   "outputs": [],
   "source": [
    "jets_eta = [\"jet0.eta\",\"jet1.eta\",\"jet2.eta\",\"jet3.eta\",\"jet4.eta\",\"jet5.eta\",\"jet6.eta\",\"jet7.eta\",\"jet8.eta\",\"jet9.eta\",\n",
    "             \"jet10.eta\"]"
   ]
  },
  {
   "cell_type": "code",
   "execution_count": 23,
   "id": "da2106f3",
   "metadata": {},
   "outputs": [],
   "source": [
    "jets_phi = [\"jet0.phi\",\"jet1.phi\",\"jet2.phi\",\"jet3.phi\",\"jet4.phi\",\"jet5.phi\",\"jet6.phi\",\"jet7.phi\",\"jet8.phi\",\"jet9.phi\",\n",
    "             \"jet10.phi\"]"
   ]
  },
  {
   "cell_type": "code",
   "execution_count": 24,
   "id": "4168c046",
   "metadata": {},
   "outputs": [],
   "source": [
    "particles_e = [\"y1.E\",\"y2.E\",\"jet0.e\",\"jet1.e\",\"jet2.e\",\"jet3.e\",\"jet4.e\",\"jet5.e\",\"jet6.e\",\"jet7.e\",\"jet8.e\",\n",
    "               \"jet9.e\",\"jet10.e\"]"
   ]
  },
  {
   "cell_type": "code",
   "execution_count": 25,
   "id": "e941305f",
   "metadata": {},
   "outputs": [],
   "source": [
    "particles_pt = [\"y1.Pt\",\"y2.Pt*1000.\",\"jet0.pt\",\"jet1.pt\",\"jet2.pt\",\"jet3.pt\",\"jet4.pt\",\"jet5.pt\",\"jet6.pt\",\"jet7.pt\",\n",
    "                \"jet8.pt\",\"jet9.pt\",\"jet10.pt\"]"
   ]
  },
  {
   "cell_type": "code",
   "execution_count": 26,
   "id": "ffc346ea",
   "metadata": {},
   "outputs": [],
   "source": [
    "particles_eta = [\"y1.Eta\",\"y2.Eta\",\"jet0.eta\",\"jet1.eta\",\"jet2.eta\",\"jet3.eta\",\"jet4.eta\",\"jet5.eta\",\"jet6.eta\",\n",
    "                 \"jet7.eta\",\"jet8.eta\",\"jet9.eta\",\"jet10.eta\"]"
   ]
  },
  {
   "cell_type": "code",
   "execution_count": 27,
   "id": "4499e11b",
   "metadata": {},
   "outputs": [],
   "source": [
    "particles_phi = [\"y1.Phi\",\"y2.Phi\",\"jet0.phi\",\"jet1.phi\",\"jet2.phi\",\"jet3.phi\",\"jet4.phi\",\"jet5.phi\",\"jet6.phi\",\"jet7.phi\",\"jet8.phi\",\"jet9.phi\",\n",
    "             \"jet10.phi\"]"
   ]
  },
  {
   "cell_type": "code",
   "execution_count": 28,
   "id": "ee55bfbb",
   "metadata": {},
   "outputs": [],
   "source": [
    "#terminal_output = open(1, 'w')"
   ]
  },
  {
   "cell_type": "markdown",
   "id": "221166a0",
   "metadata": {},
   "source": [
    "#### njets"
   ]
  },
  {
   "cell_type": "code",
   "execution_count": 29,
   "id": "0e59e2ea",
   "metadata": {},
   "outputs": [],
   "source": [
    "njets = np.sum(np.where(X[jets_e]>0,1,0),axis=1)"
   ]
  },
  {
   "cell_type": "code",
   "execution_count": 30,
   "id": "d2134941",
   "metadata": {},
   "outputs": [],
   "source": [
    "np.savetxt(\"njets(10%total,VBF,non_res).txt\",njets)"
   ]
  },
  {
   "cell_type": "code",
   "execution_count": 31,
   "id": "c22ebd99",
   "metadata": {},
   "outputs": [
    {
     "data": {
      "image/png": "[encoded data removed]",
      "text/plain": [
       "<Figure size 640x480 with 1 Axes>"
      ]
     },
     "metadata": {},
     "output_type": "display_data"
    }
   ],
   "source": [
    "Plot_normalised_feature(njets,np.linspace(-0.5,6.5,8),\"njets\")"
   ]
  },
  {
   "cell_type": "code",
   "execution_count": 32,
   "id": "396f2d4d",
   "metadata": {},
   "outputs": [],
   "source": [
    "#print(\"njets[0]\",file=terminal_output)"
   ]
  },
  {
   "cell_type": "markdown",
   "id": "06971754",
   "metadata": {},
   "source": [
    "#### pT of highest pT jet"
   ]
  },
  {
   "cell_type": "code",
   "execution_count": 33,
   "id": "7039d445",
   "metadata": {},
   "outputs": [],
   "source": [
    "pt_highest_pt_jet = X[\"jet0.pt\"]"
   ]
  },
  {
   "cell_type": "code",
   "execution_count": 34,
   "id": "2da3b4da",
   "metadata": {},
   "outputs": [],
   "source": [
    "np.savetxt(\"pt_highest_pt_jet(10%total,VBF,non_res).txt\",pt_highest_pt_jet)"
   ]
  },
  {
   "cell_type": "code",
   "execution_count": 35,
   "id": "365deb7b",
   "metadata": {},
   "outputs": [
    {
     "data": {
      "image/png": "[encoded data removed]",
      "text/plain": [
       "<Figure size 640x480 with 1 Axes>"
      ]
     },
     "metadata": {},
     "output_type": "display_data"
    }
   ],
   "source": [
    "Plot_normalised_feature(pt_highest_pt_jet,np.linspace(0,1e6,20),\"pt_highest_pt_jet\")"
   ]
  },
  {
   "cell_type": "code",
   "execution_count": 36,
   "id": "98c82ecc",
   "metadata": {},
   "outputs": [],
   "source": [
    "#print(\"pt_highest_pt_jet[1]\",file=terminal_output)"
   ]
  },
  {
   "cell_type": "markdown",
   "id": "64398c38",
   "metadata": {},
   "source": [
    "#### Scalar sum of pT of all jets"
   ]
  },
  {
   "cell_type": "code",
   "execution_count": 37,
   "id": "72466a4c",
   "metadata": {},
   "outputs": [],
   "source": [
    "sum_pt_all_jets = np.nansum(X[jets_pt].values,axis=1)"
   ]
  },
  {
   "cell_type": "code",
   "execution_count": 38,
   "id": "73dea9c7",
   "metadata": {},
   "outputs": [],
   "source": [
    "np.savetxt(\"sum_pt_all_jets(10%total,VBF,non_res).txt\",sum_pt_all_jets)"
   ]
  },
  {
   "cell_type": "code",
   "execution_count": 39,
   "id": "b4ca42d4",
   "metadata": {},
   "outputs": [
    {
     "data": {
      "image/png": "[encoded data removed]",
      "text/plain": [
       "<Figure size 640x480 with 1 Axes>"
      ]
     },
     "metadata": {},
     "output_type": "display_data"
    }
   ],
   "source": [
    "Plot_normalised_feature(sum_pt_all_jets,np.linspace(0,1e6,20),\"sum_pt_all_jets\")"
   ]
  },
  {
   "cell_type": "code",
   "execution_count": 40,
   "id": "e1c64d05",
   "metadata": {},
   "outputs": [],
   "source": [
    "#print(\"sum_pt_all_jets[2]\",file=terminal_output)"
   ]
  },
  {
   "cell_type": "markdown",
   "id": "5cb3974e",
   "metadata": {},
   "source": [
    "#### Number of central jets"
   ]
  },
  {
   "cell_type": "code",
   "execution_count": 41,
   "id": "98416098",
   "metadata": {},
   "outputs": [],
   "source": [
    "number_central_jets = np.sum(abs(X[jets_eta])<2.5,axis=1)"
   ]
  },
  {
   "cell_type": "code",
   "execution_count": 42,
   "id": "573bb57b",
   "metadata": {},
   "outputs": [],
   "source": [
    "np.savetxt(\"number_central_jets(10%total,VBF,non_res).txt\",number_central_jets)"
   ]
  },
  {
   "cell_type": "code",
   "execution_count": 43,
   "id": "66fbfd5f",
   "metadata": {},
   "outputs": [
    {
     "data": {
      "image/png": "[encoded data removed]",
      "text/plain": [
       "<Figure size 640x480 with 1 Axes>"
      ]
     },
     "metadata": {},
     "output_type": "display_data"
    }
   ],
   "source": [
    "Plot_normalised_feature(number_central_jets,np.linspace(-0.5,6.5,8),\"number_central_jets\")"
   ]
  },
  {
   "cell_type": "code",
   "execution_count": 44,
   "id": "4e03125b",
   "metadata": {},
   "outputs": [],
   "source": [
    "#print(\"number_central_jets[3]\",file=terminal_output)"
   ]
  },
  {
   "cell_type": "markdown",
   "id": "419e5d33",
   "metadata": {},
   "source": [
    "#### Invariant mass of the jet system"
   ]
  },
  {
   "cell_type": "code",
   "execution_count": 45,
   "id": "a3c4c282",
   "metadata": {},
   "outputs": [],
   "source": [
    "energies = X[jets_e].values"
   ]
  },
  {
   "cell_type": "code",
   "execution_count": 46,
   "id": "a4390093",
   "metadata": {},
   "outputs": [],
   "source": [
    "pts = X[jets_pt].values"
   ]
  },
  {
   "cell_type": "code",
   "execution_count": 47,
   "id": "2157323f",
   "metadata": {},
   "outputs": [],
   "source": [
    "etas = X[jets_eta].values"
   ]
  },
  {
   "cell_type": "code",
   "execution_count": 48,
   "id": "1e51ea20",
   "metadata": {},
   "outputs": [],
   "source": [
    "phis = X[jets_phi].values"
   ]
  },
  {
   "cell_type": "code",
   "execution_count": 49,
   "id": "f3551769",
   "metadata": {},
   "outputs": [
    {
     "name": "stdout",
     "output_type": "stream",
     "text": [
      "0\n",
      "100000\n",
      "200000\n",
      "300000\n",
      "400000\n"
     ]
    }
   ],
   "source": [
    "total_events = X.shape[0]\n",
    "invariant_mass_jet_system = np.array([])\n",
    "#total_events = 100000\n",
    "for i in range(0,total_events):\n",
    "    jet_4vec = Momentum4.e_eta_phi_pt(0, 0, 0, 0) # Initiate jet 4-vector\n",
    "    #print(\"Number of jets: \", njets[i])\n",
    "    if i%100000==0:\n",
    "        print(i)\n",
    "    for j in range(0,njets[i]):\n",
    "        jet_4vec += Momentum4.e_eta_phi_pt(energies[i,j], etas[i,j], phis[i,j], pts[i,j])\n",
    "        #print(j)\n",
    "        #print(jet_4vec)\n",
    "        #print(jet_4vec.m)\n",
    "    invariant_mass_jet_system = np.append(invariant_mass_jet_system,jet_4vec.m)"
   ]
  },
  {
   "cell_type": "code",
   "execution_count": 50,
   "id": "93d73c16",
   "metadata": {},
   "outputs": [
    {
     "data": {
      "text/plain": [
       "array([1071162.21223574,  970789.76520321,  918564.97603065, ...,\n",
       "       1640213.3606687 , 1031692.69000686,  778774.59791159])"
      ]
     },
     "execution_count": 50,
     "metadata": {},
     "output_type": "execute_result"
    }
   ],
   "source": [
    "invariant_mass_jet_system.real"
   ]
  },
  {
   "cell_type": "code",
   "execution_count": 51,
   "id": "1c7bada7",
   "metadata": {},
   "outputs": [],
   "source": [
    "np.savetxt(\"invariant_mass_jet_system_real(10%total,VBF,non_res).txt\",invariant_mass_jet_system.real)"
   ]
  },
  {
   "cell_type": "code",
   "execution_count": 52,
   "id": "f97cc040",
   "metadata": {},
   "outputs": [
    {
     "data": {
      "image/png": "[encoded data removed]",
      "text/plain": [
       "<Figure size 640x480 with 1 Axes>"
      ]
     },
     "metadata": {},
     "output_type": "display_data"
    }
   ],
   "source": [
    "Plot_normalised_feature(invariant_mass_jet_system.real,np.linspace(0,1e6,20),\"Invariant mass jet system\")"
   ]
  },
  {
   "cell_type": "code",
   "execution_count": 53,
   "id": "38b97321",
   "metadata": {},
   "outputs": [],
   "source": [
    "#print(\"invariant_mass_jet_system_real[4]\",file=terminal_output)"
   ]
  },
  {
   "cell_type": "markdown",
   "id": "80681cbe",
   "metadata": {},
   "source": [
    "#### Scalar sum of transverse energy of all particles"
   ]
  },
  {
   "cell_type": "code",
   "execution_count": 54,
   "id": "c90d1fe1",
   "metadata": {},
   "outputs": [],
   "source": [
    "particles_e = [\"y1.E\",\"y2.E\",\"jet0.e\",\"jet1.e\",\"jet2.e\",\"jet3.e\",\"jet4.e\",\"jet5.e\",\"jet6.e\",\"jet7.e\",\"jet8.e\",\n",
    "               \"jet9.e\",\"jet10.e\"]"
   ]
  },
  {
   "cell_type": "code",
   "execution_count": 55,
   "id": "25a41961",
   "metadata": {},
   "outputs": [],
   "source": [
    "particles_pt = [\"y1.Pt\",\"y2.Pt*1000.\",\"jet0.pt\",\"jet1.pt\",\"jet2.pt\",\"jet3.pt\",\"jet4.pt\",\"jet5.pt\",\"jet6.pt\",\"jet7.pt\",\n",
    "                \"jet8.pt\",\"jet9.pt\",\"jet10.pt\"]"
   ]
  },
  {
   "cell_type": "code",
   "execution_count": 56,
   "id": "9abff653",
   "metadata": {},
   "outputs": [],
   "source": [
    "particles_eta = [\"y1.Eta\",\"y2.Eta\",\"jet0.eta\",\"jet1.eta\",\"jet2.eta\",\"jet3.eta\",\"jet4.eta\",\"jet5.eta\",\"jet6.eta\",\n",
    "                 \"jet7.eta\",\"jet8.eta\",\"jet9.eta\",\"jet10.eta\"]"
   ]
  },
  {
   "cell_type": "code",
   "execution_count": 57,
   "id": "59184b58",
   "metadata": {},
   "outputs": [],
   "source": [
    "particles_phi = [\"y1.Phi\",\"y2.Phi\",\"jet0.phi\",\"jet1.phi\",\"jet2.phi\",\"jet3.phi\",\"jet4.phi\",\"jet5.phi\",\"jet6.phi\",\"jet7.phi\",\"jet8.phi\",\"jet9.phi\",\n",
    "             \"jet10.phi\"]"
   ]
  },
  {
   "cell_type": "code",
   "execution_count": 58,
   "id": "fcb12929",
   "metadata": {},
   "outputs": [],
   "source": [
    "energies = X[particles_e].values"
   ]
  },
  {
   "cell_type": "code",
   "execution_count": 59,
   "id": "77f591f7",
   "metadata": {},
   "outputs": [],
   "source": [
    "pts = X[particles_pt].values"
   ]
  },
  {
   "cell_type": "code",
   "execution_count": 60,
   "id": "de81e150",
   "metadata": {},
   "outputs": [],
   "source": [
    "etas = X[particles_eta].values"
   ]
  },
  {
   "cell_type": "code",
   "execution_count": 61,
   "id": "334b86c1",
   "metadata": {},
   "outputs": [],
   "source": [
    "phis = X[particles_phi].values"
   ]
  },
  {
   "cell_type": "code",
   "execution_count": 62,
   "id": "e576d03a",
   "metadata": {},
   "outputs": [
    {
     "name": "stdout",
     "output_type": "stream",
     "text": [
      "0\n",
      "100000\n",
      "200000\n",
      "300000\n",
      "400000\n"
     ]
    }
   ],
   "source": [
    "total_events = X.shape[0]\n",
    "sum_trans_energy_particles = np.array([])\n",
    "#total_events = 100000\n",
    "for i in range(0,total_events):\n",
    "    #print(\"Number of particles: \", njets[i]+2)\n",
    "    particles_trans_energy = 0 # Initiate energy sum\n",
    "    if i%100000==0:\n",
    "        print(i)\n",
    "    for j in range(0,njets[i]+2):\n",
    "        particles_trans_energy += Momentum4.e_eta_phi_pt(energies[i,j], etas[i,j], phis[i,j], pts[i,j]).trans\n",
    "        #print(j)\n",
    "        #print(jet_4vec)\n",
    "        #print(jet_4vec.m)\n",
    "    sum_trans_energy_particles = np.append(sum_trans_energy_particles,particles_trans_energy)"
   ]
  },
  {
   "cell_type": "code",
   "execution_count": 63,
   "id": "0158959e",
   "metadata": {},
   "outputs": [
    {
     "data": {
      "text/plain": [
       "array([ 321465.19402858,  423821.50969948,  271610.89932799, ...,\n",
       "       1247427.39864192,  195557.60338281,  613155.71646671])"
      ]
     },
     "execution_count": 63,
     "metadata": {},
     "output_type": "execute_result"
    }
   ],
   "source": [
    "sum_trans_energy_particles"
   ]
  },
  {
   "cell_type": "code",
   "execution_count": 64,
   "id": "066d9e59",
   "metadata": {},
   "outputs": [],
   "source": [
    "np.savetxt(\"sum_trans_energy_particles(10%total,VBF,non_res).txt\",sum_trans_energy_particles)"
   ]
  },
  {
   "cell_type": "code",
   "execution_count": 65,
   "id": "05b51cbb",
   "metadata": {},
   "outputs": [
    {
     "data": {
      "image/png": "[encoded data removed]",
      "text/plain": [
       "<Figure size 640x480 with 1 Axes>"
      ]
     },
     "metadata": {},
     "output_type": "display_data"
    }
   ],
   "source": [
    "Plot_normalised_feature(sum_trans_energy_particles,np.linspace(0,1e6,20),\"Sum trans energy all particles\")"
   ]
  },
  {
   "cell_type": "code",
   "execution_count": 66,
   "id": "0d8e54d0",
   "metadata": {},
   "outputs": [],
   "source": [
    "#print(\"sum_trans_energy_particles[5]\",file=terminal_output)"
   ]
  },
  {
   "cell_type": "markdown",
   "id": "0e079dde",
   "metadata": {},
   "source": [
    "#### Delta phi between yy and jets"
   ]
  },
  {
   "cell_type": "code",
   "execution_count": 67,
   "id": "4c7acc69",
   "metadata": {},
   "outputs": [
    {
     "name": "stdout",
     "output_type": "stream",
     "text": [
      "0\n",
      "100000\n",
      "200000\n",
      "300000\n",
      "400000\n"
     ]
    }
   ],
   "source": [
    "total_events = X.shape[0]\n",
    "delta_phi_yy_jets = np.array([])\n",
    "#total_events = 5\n",
    "for i in range(0,total_events):\n",
    "    #print(\"Number of particles: \", njets[i]+2)\n",
    "    photon_4vec = Momentum4.e_eta_phi_pt(0, 0, 0, 0) # Initiate yy 4-vector\n",
    "    jet_4vec = Momentum4.e_eta_phi_pt(0, 0, 0, 0) # Initiate jet 4-vector\n",
    "    if i%100000==0:\n",
    "        print(i)\n",
    "    for j in range(0,2):\n",
    "        photon_4vec += Momentum4.e_eta_phi_pt(energies[i,j], etas[i,j], phis[i,j], pts[i,j])\n",
    "    for k in range(2,njets[i]+2):\n",
    "        jet_4vec += Momentum4.e_eta_phi_pt(energies[i,k], etas[i,k], phis[i,k], pts[i,k])\n",
    "        #print(j)\n",
    "        #print(jet_4vec)\n",
    "        #print(jet_4vec.m)\n",
    "    delta_phi = abs(photon_4vec.phi-jet_4vec.phi)\n",
    "    #print(photon_4vec.phi,jet_4vec.phi)\n",
    "    #print(delta_phi)\n",
    "    delta_phi_yy_jets = np.append(delta_phi_yy_jets,delta_phi)"
   ]
  },
  {
   "cell_type": "code",
   "execution_count": 68,
   "id": "91d5b604",
   "metadata": {},
   "outputs": [
    {
     "data": {
      "text/plain": [
       "array([2.93551108, 3.12655866, 2.94792253, ..., 1.90000244, 4.56566599,\n",
       "       2.49898511])"
      ]
     },
     "execution_count": 68,
     "metadata": {},
     "output_type": "execute_result"
    }
   ],
   "source": [
    "delta_phi_yy_jets"
   ]
  },
  {
   "cell_type": "code",
   "execution_count": 69,
   "id": "8cb9fd53",
   "metadata": {},
   "outputs": [],
   "source": [
    "np.savetxt(\"delta_phi_yy_jets(10%total,VBF,non_res).txt\",delta_phi_yy_jets)"
   ]
  },
  {
   "cell_type": "code",
   "execution_count": 70,
   "id": "5bf29d51",
   "metadata": {},
   "outputs": [
    {
     "data": {
      "image/png": "[encoded data removed]",
      "text/plain": [
       "<Figure size 640x480 with 1 Axes>"
      ]
     },
     "metadata": {},
     "output_type": "display_data"
    }
   ],
   "source": [
    "Plot_normalised_feature(delta_phi_yy_jets,np.linspace(0,4,20),\"delta_phi_yy_jets\")"
   ]
  },
  {
   "cell_type": "code",
   "execution_count": 71,
   "id": "3dea3399",
   "metadata": {},
   "outputs": [],
   "source": [
    "#print(\"delta_phi_yy_jets[6]\",file=terminal_output)"
   ]
  },
  {
   "cell_type": "markdown",
   "id": "d0ac2f9d",
   "metadata": {},
   "source": [
    "#### Delta rapidity between yy and jets"
   ]
  },
  {
   "cell_type": "code",
   "execution_count": 72,
   "id": "4f8e8185",
   "metadata": {},
   "outputs": [
    {
     "name": "stdout",
     "output_type": "stream",
     "text": [
      "0\n"
     ]
    },
    {
     "name": "stderr",
     "output_type": "stream",
     "text": [
      "/tmp/ipykernel_537988/4018634410.py:18: RuntimeWarning: invalid value encountered in scalar divide\n",
      "  rapidity_jets = jet_4vec.eta-(np.cos(jet_4vec.theta)*(jet_4vec.m/jet_4vec.p_t)**2)\n"
     ]
    },
    {
     "name": "stdout",
     "output_type": "stream",
     "text": [
      "100000\n",
      "200000\n",
      "300000\n",
      "400000\n"
     ]
    }
   ],
   "source": [
    "total_events = X.shape[0]\n",
    "delta_rapidity_yy_jets = np.array([])\n",
    "#total_events = 5\n",
    "for i in range(0,total_events):\n",
    "    #print(\"Number of particles: \", njets[i]+2)\n",
    "    photon_4vec = Momentum4.e_eta_phi_pt(0, 0, 0, 0) # Initiate yy 4-vector\n",
    "    jet_4vec = Momentum4.e_eta_phi_pt(0, 0, 0, 0) # Initiate jet 4-vector\n",
    "    if i%100000==0:\n",
    "        print(i)\n",
    "    for j in range(0,2):\n",
    "        photon_4vec += Momentum4.e_eta_phi_pt(energies[i,j], etas[i,j], phis[i,j], pts[i,j])\n",
    "    for k in range(2,njets[i]+2):\n",
    "        jet_4vec += Momentum4.e_eta_phi_pt(energies[i,k], etas[i,k], phis[i,k], pts[i,k])\n",
    "        #print(j)\n",
    "        #print(jet_4vec)\n",
    "        #print(jet_4vec.m)\n",
    "    rapidity_photons = photon_4vec.eta-(np.cos(photon_4vec.theta)*(photon_4vec.m/photon_4vec.p_t)**2)\n",
    "    rapidity_jets = jet_4vec.eta-(np.cos(jet_4vec.theta)*(jet_4vec.m/jet_4vec.p_t)**2)\n",
    "    delta_rapidity = abs(rapidity_photons-rapidity_jets)\n",
    "    #print(photon_4vec.phi,jet_4vec.phi)\n",
    "    #print(delta_phi)\n",
    "    delta_rapidity_yy_jets = np.append(delta_rapidity_yy_jets,delta_rapidity)"
   ]
  },
  {
   "cell_type": "code",
   "execution_count": 73,
   "id": "492f8439",
   "metadata": {},
   "outputs": [
    {
     "data": {
      "text/plain": [
       "array([ 330.06675344,   17.88647488,  173.38006244, ...,  125.07597764,\n",
       "       1193.88742191, 1831.75853123])"
      ]
     },
     "execution_count": 73,
     "metadata": {},
     "output_type": "execute_result"
    }
   ],
   "source": [
    "delta_rapidity_yy_jets"
   ]
  },
  {
   "cell_type": "code",
   "execution_count": 74,
   "id": "26063963",
   "metadata": {},
   "outputs": [],
   "source": [
    "np.savetxt(\"delta_rapidity_yy_jets(10%total,VBF,non_res).txt\",delta_rapidity_yy_jets)"
   ]
  },
  {
   "cell_type": "code",
   "execution_count": 75,
   "id": "5e3dc259",
   "metadata": {},
   "outputs": [
    {
     "data": {
      "image/png": "[encoded data removed]",
      "text/plain": [
       "<Figure size 640x480 with 1 Axes>"
      ]
     },
     "metadata": {},
     "output_type": "display_data"
    }
   ],
   "source": [
    "Plot_normalised_feature(delta_rapidity_yy_jets,np.linspace(0,60,20),\"delta_rapidity_yy_jets\")"
   ]
  },
  {
   "cell_type": "code",
   "execution_count": 76,
   "id": "4dc6ae3c",
   "metadata": {},
   "outputs": [],
   "source": [
    "#print(\"delta_rapidity_yy_jets[7]\",file=terminal_output)"
   ]
  },
  {
   "cell_type": "markdown",
   "id": "633713fa",
   "metadata": {},
   "source": [
    "#### pT j1 and j2"
   ]
  },
  {
   "cell_type": "code",
   "execution_count": 77,
   "id": "69029de4",
   "metadata": {},
   "outputs": [],
   "source": [
    "energies = X[jets_e].values"
   ]
  },
  {
   "cell_type": "code",
   "execution_count": 78,
   "id": "285f59fc",
   "metadata": {},
   "outputs": [],
   "source": [
    "pts = X[jets_pt].values"
   ]
  },
  {
   "cell_type": "code",
   "execution_count": 79,
   "id": "46cf19bc",
   "metadata": {},
   "outputs": [],
   "source": [
    "etas = X[jets_eta].values"
   ]
  },
  {
   "cell_type": "code",
   "execution_count": 80,
   "id": "50f0c9ac",
   "metadata": {},
   "outputs": [],
   "source": [
    "phis = X[jets_phi].values"
   ]
  },
  {
   "cell_type": "code",
   "execution_count": 81,
   "id": "025b3099",
   "metadata": {},
   "outputs": [
    {
     "name": "stdout",
     "output_type": "stream",
     "text": [
      "0\n",
      "100000\n",
      "200000\n",
      "300000\n",
      "400000\n"
     ]
    }
   ],
   "source": [
    "total_events = X.shape[0]\n",
    "pt_j1_j2 = np.array([])\n",
    "#total_events = 5\n",
    "for i in range(0,total_events):\n",
    "    #print(\"Number of particles: \", njets[i]+2)\n",
    "    jet_4vec = Momentum4.e_eta_phi_pt(0, 0, 0, 0) # Initiate jet 4-vector\n",
    "    if i%100000==0:\n",
    "        print(i)\n",
    "    for j in range(0,2):\n",
    "        jet_4vec += Momentum4.e_eta_phi_pt(energies[i,j], etas[i,j], phis[i,j], pts[i,j])\n",
    "        #print(j)\n",
    "        #print(jet_4vec)\n",
    "        #print(jet_4vec.m)\n",
    "    pt_j1_j2 = np.append(pt_j1_j2,jet_4vec.p_t)"
   ]
  },
  {
   "cell_type": "code",
   "execution_count": 82,
   "id": "150a46e0",
   "metadata": {},
   "outputs": [
    {
     "data": {
      "text/plain": [
       "array([ 28820.59060969, 182404.01350489,  32352.68642143, ...,\n",
       "       177591.50062225,  29153.29272275,  32084.04453522])"
      ]
     },
     "execution_count": 82,
     "metadata": {},
     "output_type": "execute_result"
    }
   ],
   "source": [
    "pt_j1_j2"
   ]
  },
  {
   "cell_type": "code",
   "execution_count": 83,
   "id": "d9a278c4",
   "metadata": {},
   "outputs": [],
   "source": [
    "np.savetxt(\"pt_j1_j2(10%total,VBF,non_res).txt\",pt_j1_j2)"
   ]
  },
  {
   "cell_type": "code",
   "execution_count": 84,
   "id": "d5cc719c",
   "metadata": {},
   "outputs": [
    {
     "data": {
      "image/png": "[encoded data removed]",
      "text/plain": [
       "<Figure size 640x480 with 1 Axes>"
      ]
     },
     "metadata": {},
     "output_type": "display_data"
    }
   ],
   "source": [
    "Plot_normalised_feature(pt_j1_j2,np.linspace(0,0.5e6,20),\"pt_j1_j2\")"
   ]
  },
  {
   "cell_type": "code",
   "execution_count": 85,
   "id": "c60e0400",
   "metadata": {},
   "outputs": [],
   "source": [
    "#print(\"pt_j1_j2[8]\",file=terminal_output)"
   ]
  },
  {
   "cell_type": "markdown",
   "id": "d4ce32ac",
   "metadata": {},
   "source": [
    "#### mass j1 j2"
   ]
  },
  {
   "cell_type": "code",
   "execution_count": 86,
   "id": "d95ca59e",
   "metadata": {},
   "outputs": [
    {
     "name": "stdout",
     "output_type": "stream",
     "text": [
      "0\n",
      "100000\n",
      "200000\n",
      "300000\n",
      "400000\n"
     ]
    }
   ],
   "source": [
    "total_events = X.shape[0]\n",
    "m_j1_j2 = np.array([])\n",
    "#total_events = 5\n",
    "for i in range(0,total_events):\n",
    "    #print(\"Number of particles: \", njets[i]+2)\n",
    "    jet_4vec = Momentum4.e_eta_phi_pt(0, 0, 0, 0) # Initiate jet 4-vector\n",
    "    if i%100000==0:\n",
    "        print(i)\n",
    "    for j in range(0,2):\n",
    "        jet_4vec += Momentum4.e_eta_phi_pt(energies[i,j], etas[i,j], phis[i,j], pts[i,j])\n",
    "        #print(j)\n",
    "        #print(jet_4vec)\n",
    "        #print(jet_4vec.m)\n",
    "    m_j1_j2 = np.append(m_j1_j2,jet_4vec.m)"
   ]
  },
  {
   "cell_type": "code",
   "execution_count": 87,
   "id": "4d3504b0",
   "metadata": {},
   "outputs": [
    {
     "data": {
      "text/plain": [
       "array([ 744594.10799383+0.j,  826044.29934838+0.j,  564857.2080069 +0.j,\n",
       "       ..., 1506675.44446145+0.j, 1031692.69000686+0.j,\n",
       "        422720.78920087+0.j])"
      ]
     },
     "execution_count": 87,
     "metadata": {},
     "output_type": "execute_result"
    }
   ],
   "source": [
    "m_j1_j2"
   ]
  },
  {
   "cell_type": "code",
   "execution_count": 88,
   "id": "854c5911",
   "metadata": {},
   "outputs": [
    {
     "data": {
      "text/plain": [
       "array([ 744594.10799383,  826044.29934838,  564857.2080069 , ...,\n",
       "       1506675.44446145, 1031692.69000686,  422720.78920087])"
      ]
     },
     "execution_count": 88,
     "metadata": {},
     "output_type": "execute_result"
    }
   ],
   "source": [
    "m_j1_j2.real"
   ]
  },
  {
   "cell_type": "code",
   "execution_count": 89,
   "id": "f9b5941d",
   "metadata": {},
   "outputs": [],
   "source": [
    "np.savetxt(\"m_j1_j2_real(10%total,VBF,non_res).txt\",m_j1_j2.real)"
   ]
  },
  {
   "cell_type": "code",
   "execution_count": 90,
   "id": "0b8a0a09",
   "metadata": {},
   "outputs": [
    {
     "data": {
      "image/png": "[encoded data removed]",
      "text/plain": [
       "<Figure size 640x480 with 1 Axes>"
      ]
     },
     "metadata": {},
     "output_type": "display_data"
    }
   ],
   "source": [
    "Plot_normalised_feature(m_j1_j2.real,np.linspace(0,1e6,20),\"m_j1_j2\")"
   ]
  },
  {
   "cell_type": "code",
   "execution_count": 91,
   "id": "0729cd24",
   "metadata": {},
   "outputs": [],
   "source": [
    "#print(\"m_j1_j2_real[9]\",file=terminal_output)"
   ]
  },
  {
   "cell_type": "markdown",
   "id": "10402a95",
   "metadata": {},
   "source": [
    "#### Delta rapidity j1 j2"
   ]
  },
  {
   "cell_type": "code",
   "execution_count": 92,
   "id": "3de88ade",
   "metadata": {},
   "outputs": [
    {
     "name": "stdout",
     "output_type": "stream",
     "text": [
      "0\n"
     ]
    },
    {
     "name": "stderr",
     "output_type": "stream",
     "text": [
      "/tmp/ipykernel_537988/905473587.py:15: RuntimeWarning: invalid value encountered in scalar divide\n",
      "  rapidity_j2 = jet2_4vec.eta-(np.cos(jet2_4vec.theta)*(jet2_4vec.m/jet2_4vec.p_t)**2)\n",
      "/tmp/ipykernel_537988/905473587.py:14: RuntimeWarning: invalid value encountered in scalar divide\n",
      "  rapidity_j1 = jet1_4vec.eta-(np.cos(jet1_4vec.theta)*(jet1_4vec.m/jet1_4vec.p_t)**2)\n"
     ]
    },
    {
     "name": "stdout",
     "output_type": "stream",
     "text": [
      "100000\n",
      "200000\n",
      "300000\n",
      "400000\n"
     ]
    }
   ],
   "source": [
    "total_events = X.shape[0]\n",
    "delta_y_j1_j2 = np.array([])\n",
    "#total_events = 5\n",
    "for i in range(0,total_events):\n",
    "    #print(\"Number of particles: \", njets[i]+2)\n",
    "    #jet_4vec = Momentum4.e_eta_phi_pt(0, 0, 0, 0) # Initiate jet 4-vector\n",
    "    if i%100000==0:\n",
    "        print(i)\n",
    "    jet1_4vec = Momentum4.e_eta_phi_pt(energies[i,0], etas[i,0], phis[i,0], pts[i,0])\n",
    "    jet2_4vec = Momentum4.e_eta_phi_pt(energies[i,1], etas[i,1], phis[i,1], pts[i,1])\n",
    "        #print(j)\n",
    "        #print(jet_4vec)\n",
    "        #print(jet_4vec.m)\n",
    "    rapidity_j1 = jet1_4vec.eta-(np.cos(jet1_4vec.theta)*(jet1_4vec.m/jet1_4vec.p_t)**2)\n",
    "    rapidity_j2 = jet2_4vec.eta-(np.cos(jet2_4vec.theta)*(jet2_4vec.m/jet2_4vec.p_t)**2)\n",
    "    delta_rapidity = abs(rapidity_j1-rapidity_j2)\n",
    "    delta_y_j1_j2 = np.append(delta_y_j1_j2,delta_rapidity)"
   ]
  },
  {
   "cell_type": "code",
   "execution_count": 93,
   "id": "d38bbe7f",
   "metadata": {},
   "outputs": [
    {
     "data": {
      "text/plain": [
       "array([4.52701092, 4.60944552, 5.06203057, ..., 1.82944182, 6.64055926,\n",
       "       1.22321746])"
      ]
     },
     "execution_count": 93,
     "metadata": {},
     "output_type": "execute_result"
    }
   ],
   "source": [
    "delta_y_j1_j2"
   ]
  },
  {
   "cell_type": "code",
   "execution_count": 94,
   "id": "656cc0eb",
   "metadata": {},
   "outputs": [],
   "source": [
    "np.savetxt(\"delta_y_j1_j2(10%total,VBF,non_res).txt\",delta_y_j1_j2)"
   ]
  },
  {
   "cell_type": "code",
   "execution_count": 95,
   "id": "44083352",
   "metadata": {},
   "outputs": [
    {
     "data": {
      "image/png": "[encoded data removed]",
      "text/plain": [
       "<Figure size 640x480 with 1 Axes>"
      ]
     },
     "metadata": {},
     "output_type": "display_data"
    }
   ],
   "source": [
    "Plot_normalised_feature(delta_y_j1_j2,np.linspace(0,9,20),\"delta_y_j1_j2\")"
   ]
  },
  {
   "cell_type": "code",
   "execution_count": 96,
   "id": "e3f9b07a",
   "metadata": {},
   "outputs": [],
   "source": [
    "#print(\"delta_y_j1_j2[10]\",file=terminal_output)"
   ]
  },
  {
   "cell_type": "markdown",
   "id": "2499abf7",
   "metadata": {},
   "source": [
    "#### Delta phi j1 j2"
   ]
  },
  {
   "cell_type": "code",
   "execution_count": 97,
   "id": "db0b2627",
   "metadata": {},
   "outputs": [
    {
     "name": "stdout",
     "output_type": "stream",
     "text": [
      "0\n",
      "100000\n",
      "200000\n",
      "300000\n",
      "400000\n"
     ]
    }
   ],
   "source": [
    "total_events = X.shape[0]\n",
    "delta_phi_j1_j2 = np.array([])\n",
    "#total_events = 5\n",
    "for i in range(0,total_events):\n",
    "    #print(\"Number of particles: \", njets[i]+2)\n",
    "    #jet_4vec = Momentum4.e_eta_phi_pt(0, 0, 0, 0) # Initiate jet 4-vector\n",
    "    if i%100000==0:\n",
    "        print(i)\n",
    "    jet1_phi = Momentum4.e_eta_phi_pt(energies[i,0], etas[i,0], phis[i,0], pts[i,0]).phi\n",
    "    jet2_phi = Momentum4.e_eta_phi_pt(energies[i,1], etas[i,1], phis[i,1], pts[i,1]).phi\n",
    "        #print(j)\n",
    "        #print(jet_4vec)\n",
    "        #print(jet_4vec.m)\n",
    "    delta_phi = abs(jet1_phi-jet2_phi)\n",
    "    delta_phi_j1_j2 = np.append(delta_phi_j1_j2,delta_phi)"
   ]
  },
  {
   "cell_type": "code",
   "execution_count": 98,
   "id": "ecc88be2",
   "metadata": {},
   "outputs": [
    {
     "data": {
      "text/plain": [
       "array([3.43223699, 0.25651002, 2.44279992, ..., 3.14475698, 3.95067997,\n",
       "       3.07080099])"
      ]
     },
     "execution_count": 98,
     "metadata": {},
     "output_type": "execute_result"
    }
   ],
   "source": [
    "delta_phi_j1_j2"
   ]
  },
  {
   "cell_type": "code",
   "execution_count": 99,
   "id": "bc839235",
   "metadata": {},
   "outputs": [],
   "source": [
    "np.savetxt(\"delta_phi_j1_j2(10%total,VBF,non_res).txt\",delta_phi_j1_j2)"
   ]
  },
  {
   "cell_type": "code",
   "execution_count": 100,
   "id": "6bd6bd97",
   "metadata": {},
   "outputs": [
    {
     "data": {
      "image/png": "[encoded data removed]",
      "text/plain": [
       "<Figure size 640x480 with 1 Axes>"
      ]
     },
     "metadata": {},
     "output_type": "display_data"
    }
   ],
   "source": [
    "Plot_normalised_feature(delta_phi_j1_j2,np.linspace(0,6,20),\"delta_phi_j1_j2\")"
   ]
  },
  {
   "cell_type": "code",
   "execution_count": 101,
   "id": "c0dcda27",
   "metadata": {},
   "outputs": [],
   "source": [
    "#print(\"delta_phi_j1_j2[11]\",file=terminal_output)"
   ]
  },
  {
   "cell_type": "markdown",
   "id": "24abf2d3",
   "metadata": {},
   "source": [
    "#### Delta eta j1 j2"
   ]
  },
  {
   "cell_type": "code",
   "execution_count": 102,
   "id": "8e717d50",
   "metadata": {},
   "outputs": [
    {
     "name": "stdout",
     "output_type": "stream",
     "text": [
      "0\n",
      "100000\n",
      "200000\n",
      "300000\n",
      "400000\n"
     ]
    }
   ],
   "source": [
    "total_events = X.shape[0]\n",
    "delta_eta_j1_j2 = np.array([])\n",
    "#total_events = 5\n",
    "for i in range(0,total_events):\n",
    "    #print(\"Number of particles: \", njets[i]+2)\n",
    "    #jet_4vec = Momentum4.e_eta_phi_pt(0, 0, 0, 0) # Initiate jet 4-vector\n",
    "    if i%100000==0:\n",
    "        print(i)\n",
    "    jet1_eta = Momentum4.e_eta_phi_pt(energies[i,0], etas[i,0], phis[i,0], pts[i,0]).eta\n",
    "    jet2_eta = Momentum4.e_eta_phi_pt(energies[i,1], etas[i,1], phis[i,1], pts[i,1]).eta\n",
    "        #print(j)\n",
    "        #print(jet_4vec)\n",
    "        #print(jet_4vec.m)\n",
    "    delta_eta = abs(jet1_eta-jet2_eta)\n",
    "    delta_eta_j1_j2 = np.append(delta_eta_j1_j2,delta_eta)"
   ]
  },
  {
   "cell_type": "code",
   "execution_count": 103,
   "id": "c22e13a3",
   "metadata": {},
   "outputs": [
    {
     "data": {
      "text/plain": [
       "array([4.56928024, 4.62570465, 5.08450884, ..., 1.8379794 , 6.65254945,\n",
       "       1.2233762 ])"
      ]
     },
     "execution_count": 103,
     "metadata": {},
     "output_type": "execute_result"
    }
   ],
   "source": [
    "delta_eta_j1_j2"
   ]
  },
  {
   "cell_type": "code",
   "execution_count": 104,
   "id": "6d123ee4",
   "metadata": {},
   "outputs": [],
   "source": [
    "np.savetxt(\"delta_eta_j1_j2(10%total,VBF,non_res).txt\",delta_eta_j1_j2)"
   ]
  },
  {
   "cell_type": "code",
   "execution_count": 105,
   "id": "3b275ce2",
   "metadata": {},
   "outputs": [
    {
     "data": {
      "image/png": "[encoded data removed]",
      "text/plain": [
       "<Figure size 640x480 with 1 Axes>"
      ]
     },
     "metadata": {},
     "output_type": "display_data"
    }
   ],
   "source": [
    "Plot_normalised_feature(delta_eta_j1_j2,np.linspace(0,9,20),\"delta_eta_j1_j2\")"
   ]
  },
  {
   "cell_type": "code",
   "execution_count": 106,
   "id": "8abe852c",
   "metadata": {},
   "outputs": [],
   "source": [
    "#print(\"delta_eta_j1_j2[12]\",file=terminal_output)"
   ]
  },
  {
   "cell_type": "markdown",
   "id": "de848178",
   "metadata": {},
   "source": [
    "#### pT yyj1"
   ]
  },
  {
   "cell_type": "code",
   "execution_count": 107,
   "id": "b9a7ae8f",
   "metadata": {},
   "outputs": [],
   "source": [
    "energies = X[particles_e].values"
   ]
  },
  {
   "cell_type": "code",
   "execution_count": 108,
   "id": "661323a9",
   "metadata": {},
   "outputs": [],
   "source": [
    "pts = X[particles_pt].values"
   ]
  },
  {
   "cell_type": "code",
   "execution_count": 109,
   "id": "1d21f676",
   "metadata": {},
   "outputs": [],
   "source": [
    "etas = X[particles_eta].values"
   ]
  },
  {
   "cell_type": "code",
   "execution_count": 110,
   "id": "4f770159",
   "metadata": {},
   "outputs": [],
   "source": [
    "phis = X[particles_phi].values"
   ]
  },
  {
   "cell_type": "code",
   "execution_count": 111,
   "id": "6acf9f0b",
   "metadata": {},
   "outputs": [
    {
     "name": "stdout",
     "output_type": "stream",
     "text": [
      "0\n",
      "100000\n",
      "200000\n",
      "300000\n",
      "400000\n"
     ]
    }
   ],
   "source": [
    "total_events = X.shape[0]\n",
    "pt_yy_j1 = np.array([])\n",
    "#total_events = 5\n",
    "for i in range(0,total_events):\n",
    "    #print(\"Number of particles: \", njets[i]+2)\n",
    "    if i%100000==0:\n",
    "        print(i)\n",
    "    photon1 = Momentum4.e_eta_phi_pt(energies[i,0], etas[i,0], phis[i,0], pts[i,0])\n",
    "    photon2 = Momentum4.e_eta_phi_pt(energies[i,1], etas[i,1], phis[i,1], pts[i,1])\n",
    "    jet1 =  Momentum4.e_eta_phi_pt(energies[i,2], etas[i,2], phis[i,2], pts[i,2])\n",
    "    system = photon1+photon2+jet1\n",
    "        #print(j)\n",
    "        #print(jet_4vec)\n",
    "        #print(jet_4vec.m)\n",
    "    pt_yy_j1 = np.append(pt_yy_j1,system.p_t)"
   ]
  },
  {
   "cell_type": "code",
   "execution_count": 112,
   "id": "6d74cd78",
   "metadata": {},
   "outputs": [
    {
     "data": {
      "text/plain": [
       "array([ 97847.83672113,  74676.54355812,  90471.74046012, ...,\n",
       "       611788.60352554,  46952.29489742, 136052.24457921])"
      ]
     },
     "execution_count": 112,
     "metadata": {},
     "output_type": "execute_result"
    }
   ],
   "source": [
    "pt_yy_j1"
   ]
  },
  {
   "cell_type": "code",
   "execution_count": 113,
   "id": "6bd70577",
   "metadata": {},
   "outputs": [],
   "source": [
    "np.savetxt(\"pt_yy_j1(10%total,VBF,non_res).txt\",pt_yy_j1)"
   ]
  },
  {
   "cell_type": "code",
   "execution_count": 114,
   "id": "f8093b13",
   "metadata": {},
   "outputs": [
    {
     "data": {
      "image/png": "[encoded data removed]",
      "text/plain": [
       "<Figure size 640x480 with 1 Axes>"
      ]
     },
     "metadata": {},
     "output_type": "display_data"
    }
   ],
   "source": [
    "Plot_normalised_feature(pt_yy_j1,np.linspace(0,0.2e6,20),\"pt_yy_j1\")"
   ]
  },
  {
   "cell_type": "code",
   "execution_count": 115,
   "id": "9b80d93f",
   "metadata": {},
   "outputs": [],
   "source": [
    "#print(\"pt_yy_j1[13]\",file=terminal_output)"
   ]
  },
  {
   "cell_type": "markdown",
   "id": "12f5e56a",
   "metadata": {},
   "source": [
    "#### mass yyj1\n"
   ]
  },
  {
   "cell_type": "code",
   "execution_count": 116,
   "id": "115436ef",
   "metadata": {},
   "outputs": [
    {
     "name": "stdout",
     "output_type": "stream",
     "text": [
      "0\n",
      "100000\n",
      "200000\n",
      "300000\n",
      "400000\n"
     ]
    }
   ],
   "source": [
    "total_events = X.shape[0]\n",
    "m_yy_j1 = np.array([])\n",
    "#total_events = 5\n",
    "for i in range(0,total_events):\n",
    "    #print(\"Number of particles: \", njets[i]+2)\n",
    "    if i%100000==0:\n",
    "        print(i)\n",
    "    photon1 = Momentum4.e_eta_phi_pt(energies[i,0], etas[i,0], phis[i,0], pts[i,0])\n",
    "    photon2 = Momentum4.e_eta_phi_pt(energies[i,1], etas[i,1], phis[i,1], pts[i,1])\n",
    "    jet1 =  Momentum4.e_eta_phi_pt(energies[i,2], etas[i,2], phis[i,2], pts[i,2])\n",
    "    system = photon1+photon2+jet1\n",
    "        #print(j)\n",
    "        #print(jet_4vec)\n",
    "        #print(jet_4vec.m)\n",
    "    m_yy_j1 = np.append(m_yy_j1,system.m)"
   ]
  },
  {
   "cell_type": "code",
   "execution_count": 117,
   "id": "ebd66128",
   "metadata": {},
   "outputs": [
    {
     "data": {
      "text/plain": [
       "array([440391.34516817, 397303.82700211, 295701.41520775, ...,\n",
       "       545206.6263131 , 435109.03095124, 564937.7738262 ])"
      ]
     },
     "execution_count": 117,
     "metadata": {},
     "output_type": "execute_result"
    }
   ],
   "source": [
    "m_yy_j1.real"
   ]
  },
  {
   "cell_type": "code",
   "execution_count": 118,
   "id": "cac6a0f2",
   "metadata": {},
   "outputs": [],
   "source": [
    "np.savetxt(\"m_yy_j1_real(10%total,VBF,non_res).txt\",m_yy_j1.real)"
   ]
  },
  {
   "cell_type": "code",
   "execution_count": 119,
   "id": "0699f962",
   "metadata": {},
   "outputs": [
    {
     "name": "stderr",
     "output_type": "stream",
     "text": [
      "/opt/anaconda-2022.10/envs/daml/lib/python3.9/site-packages/matplotlib/axes/_axes.py:6739: ComplexWarning: Casting complex values to real discards the imaginary part\n",
      "  tops = np.array(tops, float)  # causes problems later if it's an int\n"
     ]
    },
    {
     "data": {
      "image/png": "[encoded data removed]",
      "text/plain": [
       "<Figure size 640x480 with 1 Axes>"
      ]
     },
     "metadata": {},
     "output_type": "display_data"
    }
   ],
   "source": [
    "Plot_normalised_feature(m_yy_j1,np.linspace(0,1e6,20),\"m_yy_j1\")"
   ]
  },
  {
   "cell_type": "code",
   "execution_count": 120,
   "id": "f224a7dd",
   "metadata": {},
   "outputs": [],
   "source": [
    "#print(\"m_yy_j1_real[14]\",file=terminal_output)"
   ]
  },
  {
   "cell_type": "markdown",
   "id": "c12b690e",
   "metadata": {},
   "source": [
    "#### pT yy jj"
   ]
  },
  {
   "cell_type": "code",
   "execution_count": 121,
   "id": "bf57d192",
   "metadata": {},
   "outputs": [
    {
     "name": "stdout",
     "output_type": "stream",
     "text": [
      "0\n",
      "100000\n",
      "200000\n",
      "300000\n",
      "400000\n"
     ]
    }
   ],
   "source": [
    "total_events = X.shape[0]\n",
    "pt_yy_jj = np.array([])\n",
    "#total_events = 5\n",
    "for i in range(0,total_events):\n",
    "    #print(\"Number of particles: \", njets[i]+2)\n",
    "    if i%100000==0:\n",
    "        print(i)\n",
    "    photon1 = Momentum4.e_eta_phi_pt(energies[i,0], etas[i,0], phis[i,0], pts[i,0])\n",
    "    photon2 = Momentum4.e_eta_phi_pt(energies[i,1], etas[i,1], phis[i,1], pts[i,1])\n",
    "    jet1 =  Momentum4.e_eta_phi_pt(energies[i,2], etas[i,2], phis[i,2], pts[i,2])\n",
    "    jet2 =  Momentum4.e_eta_phi_pt(energies[i,3], etas[i,3], phis[i,3], pts[i,3])\n",
    "    system = photon1+photon2+jet1+jet2\n",
    "        #print(j)\n",
    "        #print(jet_4vec)\n",
    "        #print(jet_4vec.m)\n",
    "    pt_yy_jj = np.append(pt_yy_jj,system.p_t)"
   ]
  },
  {
   "cell_type": "code",
   "execution_count": 122,
   "id": "4e119ca2",
   "metadata": {},
   "outputs": [
    {
     "data": {
      "text/plain": [
       "array([ 35055.31974365,  25130.14826707,  61163.35452309, ...,\n",
       "       180860.95731023,  29632.78641022,  27031.02522609])"
      ]
     },
     "execution_count": 122,
     "metadata": {},
     "output_type": "execute_result"
    }
   ],
   "source": [
    "pt_yy_jj"
   ]
  },
  {
   "cell_type": "code",
   "execution_count": 123,
   "id": "5b68e6aa",
   "metadata": {},
   "outputs": [],
   "source": [
    "np.savetxt(\"pt_yy_jj(10%total,VBF,non_res).txt\",pt_yy_jj)"
   ]
  },
  {
   "cell_type": "code",
   "execution_count": 124,
   "id": "e7bf4105",
   "metadata": {},
   "outputs": [
    {
     "data": {
      "image/png": "[encoded data removed]",
      "text/plain": [
       "<Figure size 640x480 with 1 Axes>"
      ]
     },
     "metadata": {},
     "output_type": "display_data"
    }
   ],
   "source": [
    "Plot_normalised_feature(pt_yy_jj,np.linspace(0,0.2e6,20),\"pt_yy_jj\")"
   ]
  },
  {
   "cell_type": "code",
   "execution_count": 125,
   "id": "6144ba03",
   "metadata": {},
   "outputs": [],
   "source": [
    "#print(\"pt_yy_jj[15]\",file=terminal_output)"
   ]
  },
  {
   "cell_type": "markdown",
   "id": "003ed255",
   "metadata": {},
   "source": [
    "#### Mass yy jj"
   ]
  },
  {
   "cell_type": "code",
   "execution_count": 126,
   "id": "19b5aa66",
   "metadata": {},
   "outputs": [
    {
     "name": "stdout",
     "output_type": "stream",
     "text": [
      "0\n",
      "100000\n",
      "200000\n",
      "300000\n",
      "400000\n"
     ]
    }
   ],
   "source": [
    "total_events = X.shape[0]\n",
    "m_yy_jj = np.array([])\n",
    "#total_events = 5\n",
    "for i in range(0,total_events):\n",
    "    #print(\"Number of particles: \", njets[i]+2)\n",
    "    if i%100000==0:\n",
    "        print(i)\n",
    "    photon1 = Momentum4.e_eta_phi_pt(energies[i,0], etas[i,0], phis[i,0], pts[i,0])\n",
    "    photon2 = Momentum4.e_eta_phi_pt(energies[i,1], etas[i,1], phis[i,1], pts[i,1])\n",
    "    jet1 =  Momentum4.e_eta_phi_pt(energies[i,2], etas[i,2], phis[i,2], pts[i,2])\n",
    "    jet2 =  Momentum4.e_eta_phi_pt(energies[i,3], etas[i,3], phis[i,3], pts[i,3])\n",
    "    system = photon1+photon2+jet1+jet2\n",
    "        #print(j)\n",
    "        #print(jet_4vec)\n",
    "        #print(jet_4vec.m)\n",
    "    m_yy_jj = np.append(m_yy_jj,system.m)"
   ]
  },
  {
   "cell_type": "code",
   "execution_count": 127,
   "id": "d572fade",
   "metadata": {},
   "outputs": [
    {
     "data": {
      "text/plain": [
       "array([ 898605.95037854, 1192722.22010151,  722886.58759043, ...,\n",
       "       1684488.18952927, 1159431.34315475,  746003.86403423])"
      ]
     },
     "execution_count": 127,
     "metadata": {},
     "output_type": "execute_result"
    }
   ],
   "source": [
    "m_yy_jj.real"
   ]
  },
  {
   "cell_type": "code",
   "execution_count": 128,
   "id": "1f3f26e4",
   "metadata": {},
   "outputs": [],
   "source": [
    "np.savetxt(\"m_yy_jj_real(10%total,VBF,non_res).txt\",m_yy_jj.real)"
   ]
  },
  {
   "cell_type": "code",
   "execution_count": 129,
   "id": "1c778398",
   "metadata": {},
   "outputs": [
    {
     "data": {
      "image/png": "[encoded data removed]",
      "text/plain": [
       "<Figure size 640x480 with 1 Axes>"
      ]
     },
     "metadata": {},
     "output_type": "display_data"
    }
   ],
   "source": [
    "Plot_normalised_feature(m_yy_jj.real,np.linspace(0,1e6,20),\"m_yy_jj\")"
   ]
  },
  {
   "cell_type": "code",
   "execution_count": 130,
   "id": "13b40fb7",
   "metadata": {},
   "outputs": [],
   "source": [
    "#print(\"m_yy_jj_real[16]\",file=terminal_output)"
   ]
  },
  {
   "cell_type": "markdown",
   "id": "893d4145",
   "metadata": {},
   "source": [
    "#### eta photon1"
   ]
  },
  {
   "cell_type": "code",
   "execution_count": 131,
   "id": "6a46e193",
   "metadata": {},
   "outputs": [],
   "source": [
    "eta_photon1 = X[\"y1.Eta\"]"
   ]
  },
  {
   "cell_type": "code",
   "execution_count": 132,
   "id": "3e9549db",
   "metadata": {},
   "outputs": [],
   "source": [
    "np.savetxt(\"eta_photon1(10%total,VBF,non_res).txt\",eta_photon1)"
   ]
  },
  {
   "cell_type": "code",
   "execution_count": 133,
   "id": "fe272731",
   "metadata": {},
   "outputs": [
    {
     "data": {
      "image/png": "[encoded data removed]",
      "text/plain": [
       "<Figure size 640x480 with 1 Axes>"
      ]
     },
     "metadata": {},
     "output_type": "display_data"
    }
   ],
   "source": [
    "Plot_normalised_feature(eta_photon1,np.linspace(-2.5,2.5,20),\"eta_photon1\")"
   ]
  },
  {
   "cell_type": "code",
   "execution_count": 134,
   "id": "a0e732ac",
   "metadata": {},
   "outputs": [],
   "source": [
    "#print(\"eta_photon1[17]\",file=terminal_output)"
   ]
  },
  {
   "cell_type": "markdown",
   "id": "6b265ec6",
   "metadata": {},
   "source": [
    "#### eta photon2"
   ]
  },
  {
   "cell_type": "code",
   "execution_count": 135,
   "id": "b650cd83",
   "metadata": {},
   "outputs": [],
   "source": [
    "eta_photon2 = X[\"y2.Eta\"]"
   ]
  },
  {
   "cell_type": "code",
   "execution_count": 136,
   "id": "e72bfb1a",
   "metadata": {},
   "outputs": [],
   "source": [
    "np.savetxt(\"eta_photon2(10%total,VBF,non_res).txt\",eta_photon2)"
   ]
  },
  {
   "cell_type": "code",
   "execution_count": 137,
   "id": "a0d94ea8",
   "metadata": {},
   "outputs": [
    {
     "data": {
      "image/png": "[encoded data removed]",
      "text/plain": [
       "<Figure size 640x480 with 1 Axes>"
      ]
     },
     "metadata": {},
     "output_type": "display_data"
    }
   ],
   "source": [
    "Plot_normalised_feature(eta_photon2,np.linspace(-2.5,2.5,20),\"eta_photon2\")"
   ]
  },
  {
   "cell_type": "code",
   "execution_count": 138,
   "id": "8b8f1f40",
   "metadata": {},
   "outputs": [],
   "source": [
    "#print(\"eta_photon2[18]\",file=terminal_output)"
   ]
  },
  {
   "cell_type": "markdown",
   "id": "6ebd0cec",
   "metadata": {},
   "source": [
    "#### pT yy"
   ]
  },
  {
   "cell_type": "code",
   "execution_count": 139,
   "id": "3baeef23",
   "metadata": {},
   "outputs": [
    {
     "name": "stdout",
     "output_type": "stream",
     "text": [
      "0\n",
      "100000\n",
      "200000\n",
      "300000\n",
      "400000\n"
     ]
    }
   ],
   "source": [
    "total_events = X.shape[0]\n",
    "pt_yy = np.array([])\n",
    "#total_events = 5\n",
    "for i in range(0,total_events):\n",
    "    #print(\"Number of particles: \", njets[i]+2)\n",
    "    if i%100000==0:\n",
    "        print(i)\n",
    "    photon1 = Momentum4.e_eta_phi_pt(energies[i,0], etas[i,0], phis[i,0], pts[i,0])\n",
    "    photon2 = Momentum4.e_eta_phi_pt(energies[i,1], etas[i,1], phis[i,1], pts[i,1])\n",
    "    system = photon1+photon2\n",
    "        #print(j)\n",
    "        #print(jet_4vec)\n",
    "        #print(jet_4vec.m)\n",
    "    pt_yy = np.append(pt_yy,system.p_t)"
   ]
  },
  {
   "cell_type": "code",
   "execution_count": 140,
   "id": "13880f58",
   "metadata": {},
   "outputs": [
    {
     "data": {
      "text/plain": [
       "array([ 44990.14101107, 206883.97374592,  89070.76251289, ...,\n",
       "        49598.4683753 ,  11070.45233257,  55574.48238858])"
      ]
     },
     "execution_count": 140,
     "metadata": {},
     "output_type": "execute_result"
    }
   ],
   "source": [
    "pt_yy"
   ]
  },
  {
   "cell_type": "code",
   "execution_count": 141,
   "id": "e77b3ac6",
   "metadata": {},
   "outputs": [],
   "source": [
    "np.savetxt(\"pt_yy(10%total,VBF,non_res).txt\",pt_yy)"
   ]
  },
  {
   "cell_type": "code",
   "execution_count": 142,
   "id": "c655df1a",
   "metadata": {},
   "outputs": [
    {
     "data": {
      "image/png": "[encoded data removed]",
      "text/plain": [
       "<Figure size 640x480 with 1 Axes>"
      ]
     },
     "metadata": {},
     "output_type": "display_data"
    }
   ],
   "source": [
    "Plot_normalised_feature(pt_yy,np.linspace(0,0.2e6,20),\"pt_yy\")"
   ]
  },
  {
   "cell_type": "code",
   "execution_count": 143,
   "id": "909fb77b",
   "metadata": {},
   "outputs": [],
   "source": [
    "#print(\"pt_yy[19]\",file=terminal_output)"
   ]
  },
  {
   "cell_type": "markdown",
   "id": "12d1b9d6",
   "metadata": {},
   "source": [
    "#### Rapidity yy"
   ]
  },
  {
   "cell_type": "code",
   "execution_count": 144,
   "id": "1066d750",
   "metadata": {},
   "outputs": [
    {
     "name": "stdout",
     "output_type": "stream",
     "text": [
      "0\n",
      "100000\n",
      "200000\n",
      "300000\n",
      "400000\n"
     ]
    }
   ],
   "source": [
    "total_events = X.shape[0]\n",
    "rapidity_yy = np.array([])\n",
    "#total_events = 5\n",
    "for i in range(0,total_events):\n",
    "    #print(\"Number of particles: \", njets[i]+2)\n",
    "    if i%100000==0:\n",
    "        print(i)\n",
    "    photon1 = Momentum4.e_eta_phi_pt(energies[i,0], etas[i,0], phis[i,0], pts[i,0])\n",
    "    photon2 = Momentum4.e_eta_phi_pt(energies[i,1], etas[i,1], phis[i,1], pts[i,1])\n",
    "    system = photon1+photon2\n",
    "        #print(j)\n",
    "        #print(jet_4vec)\n",
    "        #print(jet_4vec.m)\n",
    "    rapidity_system = system.eta-(np.cos(system.theta)*(system.m/system.p_t)**2)\n",
    "    rapidity_yy = np.append(rapidity_yy,rapidity_system)"
   ]
  },
  {
   "cell_type": "code",
   "execution_count": 145,
   "id": "77280ac5",
   "metadata": {},
   "outputs": [
    {
     "data": {
      "text/plain": [
       "array([ -5.73736742,  -0.22577775,   0.34131966, ...,   9.07874977,\n",
       "       -51.860697  ,   2.92164419])"
      ]
     },
     "execution_count": 145,
     "metadata": {},
     "output_type": "execute_result"
    }
   ],
   "source": [
    "rapidity_yy.real"
   ]
  },
  {
   "cell_type": "code",
   "execution_count": 146,
   "id": "9d9b344a",
   "metadata": {},
   "outputs": [],
   "source": [
    "np.savetxt(\"rapidity_yy_real(10%total,VBF,non_res).txt\",rapidity_yy.real)"
   ]
  },
  {
   "cell_type": "code",
   "execution_count": 147,
   "id": "4aea0266",
   "metadata": {},
   "outputs": [
    {
     "data": {
      "image/png": "[encoded data removed]",
      "text/plain": [
       "<Figure size 640x480 with 1 Axes>"
      ]
     },
     "metadata": {},
     "output_type": "display_data"
    }
   ],
   "source": [
    "Plot_normalised_feature(rapidity_yy.real,np.linspace(0,20,20),\"rapidity_yy\")"
   ]
  },
  {
   "cell_type": "code",
   "execution_count": 148,
   "id": "73b5b0cf",
   "metadata": {},
   "outputs": [],
   "source": [
    "#print(\"rapidity_yy_real[20]\",file=terminal_output)"
   ]
  },
  {
   "cell_type": "markdown",
   "id": "2b8b9fc6",
   "metadata": {},
   "source": [
    "#### eta most forward jet"
   ]
  },
  {
   "cell_type": "code",
   "execution_count": 149,
   "id": "7861372d",
   "metadata": {},
   "outputs": [],
   "source": [
    "etas = X[jets_eta].values"
   ]
  },
  {
   "cell_type": "code",
   "execution_count": 150,
   "id": "1c922597",
   "metadata": {},
   "outputs": [],
   "source": [
    "forward_jet = np.argmax(np.nan_to_num(abs(etas), copy=True, nan=0.0),axis=1)"
   ]
  },
  {
   "cell_type": "code",
   "execution_count": 151,
   "id": "5dae83c5",
   "metadata": {},
   "outputs": [],
   "source": [
    "forward_jet_etas = etas[np.arange(0,total_events),forward_jet]"
   ]
  },
  {
   "cell_type": "code",
   "execution_count": 152,
   "id": "2bcf64fd",
   "metadata": {},
   "outputs": [],
   "source": [
    "np.savetxt(\"forward_jet_etas(10%total,VBF,non_res).txt\",forward_jet_etas)"
   ]
  },
  {
   "cell_type": "code",
   "execution_count": 153,
   "id": "a752a6ec",
   "metadata": {},
   "outputs": [
    {
     "data": {
      "image/png": "[encoded data removed]",
      "text/plain": [
       "<Figure size 640x480 with 1 Axes>"
      ]
     },
     "metadata": {},
     "output_type": "display_data"
    }
   ],
   "source": [
    "Plot_normalised_feature(forward_jet_etas,np.linspace(-4,4,20),\"forward_jet_etas\")"
   ]
  },
  {
   "cell_type": "code",
   "execution_count": 154,
   "id": "9eea00a8",
   "metadata": {},
   "outputs": [],
   "source": [
    "#print(\"forward_jet_etas[21]\",file=terminal_output)"
   ]
  },
  {
   "cell_type": "markdown",
   "id": "8dfd536f",
   "metadata": {},
   "source": [
    "#### mass yy jF"
   ]
  },
  {
   "cell_type": "code",
   "execution_count": 155,
   "id": "8ab8519c",
   "metadata": {},
   "outputs": [],
   "source": [
    "energies = X[particles_e].values"
   ]
  },
  {
   "cell_type": "code",
   "execution_count": 156,
   "id": "8b72c47b",
   "metadata": {},
   "outputs": [],
   "source": [
    "pts = X[particles_pt].values"
   ]
  },
  {
   "cell_type": "code",
   "execution_count": 157,
   "id": "0e6e7c44",
   "metadata": {},
   "outputs": [],
   "source": [
    "etas = X[particles_eta].values"
   ]
  },
  {
   "cell_type": "code",
   "execution_count": 158,
   "id": "18bb3dae",
   "metadata": {},
   "outputs": [],
   "source": [
    "phis = X[particles_phi].values"
   ]
  },
  {
   "cell_type": "code",
   "execution_count": 159,
   "id": "15a5c167",
   "metadata": {},
   "outputs": [
    {
     "name": "stdout",
     "output_type": "stream",
     "text": [
      "0\n",
      "100000\n",
      "200000\n",
      "300000\n",
      "400000\n"
     ]
    }
   ],
   "source": [
    "total_events = X.shape[0]\n",
    "m_yy_jF = np.array([])\n",
    "#total_events = 5\n",
    "for i in range(0,total_events):\n",
    "    #print(\"Number of particles: \", njets[i]+2)\n",
    "    if i%100000==0:\n",
    "        print(i)\n",
    "    photon1 = Momentum4.e_eta_phi_pt(energies[i,0], etas[i,0], phis[i,0], pts[i,0])\n",
    "    photon2 = Momentum4.e_eta_phi_pt(energies[i,1], etas[i,1], phis[i,1], pts[i,1])\n",
    "    jet_F = Momentum4.e_eta_phi_pt(energies[i,forward_jet[i]+2], etas[i,forward_jet[i]+2], \n",
    "                                   phis[i,forward_jet[i]+2], pts[i,forward_jet[i]+2])\n",
    "    system = photon1+photon2+jet_F\n",
    "        #print(j)\n",
    "        #print(jet_4vec)\n",
    "        #print(jet_4vec.m)\n",
    "    m_yy_jF = np.append(m_yy_jF,system.m)"
   ]
  },
  {
   "cell_type": "code",
   "execution_count": 160,
   "id": "0835eb13",
   "metadata": {},
   "outputs": [
    {
     "data": {
      "text/plain": [
       "array([283693.48499073, 773648.2830065 , 458532.65606773, ...,\n",
       "       269661.49647696, 435109.03095124, 564937.7738262 ])"
      ]
     },
     "execution_count": 160,
     "metadata": {},
     "output_type": "execute_result"
    }
   ],
   "source": [
    "m_yy_jF.real"
   ]
  },
  {
   "cell_type": "code",
   "execution_count": 161,
   "id": "f5ba06d2",
   "metadata": {},
   "outputs": [],
   "source": [
    "np.savetxt(\"m_yy_jF_real(10%total,VBF,non_res).txt\",m_yy_jF.real)"
   ]
  },
  {
   "cell_type": "code",
   "execution_count": 162,
   "id": "e14789cc",
   "metadata": {},
   "outputs": [
    {
     "data": {
      "image/png": "[encoded data removed]",
      "text/plain": [
       "<Figure size 640x480 with 1 Axes>"
      ]
     },
     "metadata": {},
     "output_type": "display_data"
    }
   ],
   "source": [
    "Plot_normalised_feature(m_yy_jF.real,np.linspace(0,500e3,20),\"m_yy_jF\")"
   ]
  },
  {
   "cell_type": "code",
   "execution_count": 163,
   "id": "7f50a054",
   "metadata": {},
   "outputs": [],
   "source": [
    "#print(\"m_yy_jF_real[22]\",file=terminal_output)"
   ]
  },
  {
   "cell_type": "markdown",
   "id": "00948c5e",
   "metadata": {},
   "source": [
    "#### p^{H}_{T}"
   ]
  },
  {
   "cell_type": "code",
   "execution_count": 164,
   "id": "96059d48",
   "metadata": {},
   "outputs": [],
   "source": [
    "energies = X[particles_e].values"
   ]
  },
  {
   "cell_type": "code",
   "execution_count": 165,
   "id": "bc2ed2fd",
   "metadata": {},
   "outputs": [],
   "source": [
    "pts = X[particles_pt].values"
   ]
  },
  {
   "cell_type": "code",
   "execution_count": 166,
   "id": "fd0fb205",
   "metadata": {},
   "outputs": [],
   "source": [
    "etas = X[particles_eta].values"
   ]
  },
  {
   "cell_type": "code",
   "execution_count": 167,
   "id": "153dbad0",
   "metadata": {},
   "outputs": [],
   "source": [
    "phis = X[particles_phi].values"
   ]
  },
  {
   "cell_type": "code",
   "execution_count": 168,
   "id": "30b2139b",
   "metadata": {},
   "outputs": [
    {
     "name": "stdout",
     "output_type": "stream",
     "text": [
      "0\n",
      "100000\n",
      "200000\n",
      "300000\n",
      "400000\n"
     ]
    }
   ],
   "source": [
    "total_events = X.shape[0]\n",
    "p_H_T = np.array([])\n",
    "#total_events = 5\n",
    "for i in range(0,total_events):\n",
    "    #print(\"Number of particles: \", njets[i]+2)\n",
    "    if i%100000==0:\n",
    "        print(i)\n",
    "    photon1 = Momentum4.e_eta_phi_pt(energies[i,0], etas[i,0], phis[i,0], pts[i,0])\n",
    "    photon2 = Momentum4.e_eta_phi_pt(energies[i,1], etas[i,1], phis[i,1], pts[i,1])\n",
    "    photon_system = photon1+photon2\n",
    "        #print(j)\n",
    "        #print(jet_4vec)\n",
    "        #print(jet_4vec.m)\n",
    "    p_H_T = np.append(p_H_T,photon_system.p_t)"
   ]
  },
  {
   "cell_type": "code",
   "execution_count": 169,
   "id": "441e39a8",
   "metadata": {},
   "outputs": [],
   "source": [
    "np.savetxt(\"p_H_T(10%total,VBF,non_res).txt\",p_H_T)"
   ]
  },
  {
   "cell_type": "code",
   "execution_count": 170,
   "id": "9f762083",
   "metadata": {},
   "outputs": [
    {
     "data": {
      "image/png": "[encoded data removed]",
      "text/plain": [
       "<Figure size 640x480 with 1 Axes>"
      ]
     },
     "metadata": {},
     "output_type": "display_data"
    }
   ],
   "source": [
    "Plot_normalised_feature(p_H_T,np.linspace(0,500e3,20),\"p_H_T\")"
   ]
  },
  {
   "cell_type": "code",
   "execution_count": 171,
   "id": "6444b09b",
   "metadata": {},
   "outputs": [],
   "source": [
    "#print(\"p_H_T[23]\",file=terminal_output)"
   ]
  },
  {
   "cell_type": "markdown",
   "id": "03579396",
   "metadata": {},
   "source": [
    "#### m_yy"
   ]
  },
  {
   "cell_type": "code",
   "execution_count": 21,
   "id": "a99e1ee3",
   "metadata": {},
   "outputs": [],
   "source": [
    "energies = X[particles_e].values"
   ]
  },
  {
   "cell_type": "code",
   "execution_count": 22,
   "id": "2eebfcf7",
   "metadata": {},
   "outputs": [],
   "source": [
    "pts = X[particles_pt].values"
   ]
  },
  {
   "cell_type": "code",
   "execution_count": 23,
   "id": "8397008d",
   "metadata": {},
   "outputs": [],
   "source": [
    "etas = X[particles_eta].values"
   ]
  },
  {
   "cell_type": "code",
   "execution_count": 24,
   "id": "79a0bdd9",
   "metadata": {},
   "outputs": [],
   "source": [
    "phis = X[particles_phi].values"
   ]
  },
  {
   "cell_type": "code",
   "execution_count": 25,
   "id": "0be949ee",
   "metadata": {},
   "outputs": [
    {
     "name": "stdout",
     "output_type": "stream",
     "text": [
      "0\n",
      "100000\n",
      "200000\n",
      "300000\n",
      "400000\n"
     ]
    }
   ],
   "source": [
    "total_events = df.shape[0]\n",
    "m_yy = np.array([])\n",
    "#total_events = 5\n",
    "for i in range(0,total_events):\n",
    "    #print(\"Number of particles: \", njets[i]+2)\n",
    "    if i%100000==0:\n",
    "        print(i)\n",
    "    photon1 = Momentum4.e_eta_phi_pt(energies[i,0], etas[i,0], phis[i,0], pts[i,0])\n",
    "    photon2 = Momentum4.e_eta_phi_pt(energies[i,1], etas[i,1], phis[i,1], pts[i,1])\n",
    "    #jet1 =  Momentum4.e_eta_phi_pt(energies[i,2], etas[i,2], phis[i,2], pts[i,2])\n",
    "    system = photon1+photon2\n",
    "        #print(j)\n",
    "        #print(jet_4vec)\n",
    "        #print(jet_4vec.m)\n",
    "    m_yy = np.append(m_yy,system.m)"
   ]
  },
  {
   "cell_type": "code",
   "execution_count": 26,
   "id": "25be89b2",
   "metadata": {},
   "outputs": [],
   "source": [
    "m_yy = np.real(m_yy)"
   ]
  },
  {
   "cell_type": "code",
   "execution_count": 27,
   "id": "736680f8",
   "metadata": {},
   "outputs": [],
   "source": [
    "np.savetxt(\"m_yy(10%total,VBF,non_res).txt\",m_yy)"
   ]
  },
  {
   "cell_type": "code",
   "execution_count": 28,
   "id": "08bd8956",
   "metadata": {},
   "outputs": [
    {
     "data": {
      "image/png": "[encoded data removed]",
      "text/plain": [
       "<Figure size 640x480 with 1 Axes>"
      ]
     },
     "metadata": {},
     "output_type": "display_data"
    }
   ],
   "source": [
    "Plot_normalised_feature(m_yy,np.linspace(80e3,180e3,80),\"m_yy\")"
   ]
  },
  {
   "cell_type": "markdown",
   "id": "639bedf5",
   "metadata": {},
   "source": [
    "#### pt_y1"
   ]
  },
  {
   "cell_type": "code",
   "execution_count": 30,
   "id": "9b15beca",
   "metadata": {},
   "outputs": [],
   "source": [
    "pt_y1 = pts[:,0]"
   ]
  },
  {
   "cell_type": "code",
   "execution_count": 31,
   "id": "8ba50e7d",
   "metadata": {},
   "outputs": [],
   "source": [
    "np.savetxt(\"pt_y1(10%total,VBF,non_res).txt\",pt_y1)"
   ]
  },
  {
   "cell_type": "code",
   "execution_count": 32,
   "id": "c0b38f57",
   "metadata": {},
   "outputs": [
    {
     "data": {
      "image/png": "[encoded data removed]",
      "text/plain": [
       "<Figure size 640x480 with 1 Axes>"
      ]
     },
     "metadata": {},
     "output_type": "display_data"
    }
   ],
   "source": [
    "Plot_normalised_feature(pt_y1,np.linspace(0,500e3,20),\"pt_y1\")"
   ]
  },
  {
   "cell_type": "markdown",
   "id": "486ca08d",
   "metadata": {},
   "source": [
    "#### pt_y2"
   ]
  },
  {
   "cell_type": "code",
   "execution_count": 33,
   "id": "bd66cd45",
   "metadata": {},
   "outputs": [],
   "source": [
    "pt_y2 = pts[:,1]"
   ]
  },
  {
   "cell_type": "code",
   "execution_count": 34,
   "id": "5dcf0bee",
   "metadata": {},
   "outputs": [],
   "source": [
    "np.savetxt(\"pt_y2(10%total,VBF,non_res).txt\",pt_y2)"
   ]
  },
  {
   "cell_type": "code",
   "execution_count": 35,
   "id": "1d15dc44",
   "metadata": {},
   "outputs": [
    {
     "data": {
      "image/png": "[encoded data removed]",
      "text/plain": [
       "<Figure size 640x480 with 1 Axes>"
      ]
     },
     "metadata": {},
     "output_type": "display_data"
    }
   ],
   "source": [
    "Plot_normalised_feature(pt_y2,np.linspace(0,500e3,20),\"pt_y2\")"
   ]
  },
  {
   "cell_type": "markdown",
   "id": "e9b06979",
   "metadata": {},
   "source": [
    "### Extra binary training variables"
   ]
  },
  {
   "cell_type": "code",
   "execution_count": 21,
   "id": "ff80f808",
   "metadata": {},
   "outputs": [],
   "source": [
    "energies = X[particles_e].values"
   ]
  },
  {
   "cell_type": "code",
   "execution_count": 22,
   "id": "f2406aa7",
   "metadata": {},
   "outputs": [],
   "source": [
    "pts = X[particles_pt].values"
   ]
  },
  {
   "cell_type": "code",
   "execution_count": 23,
   "id": "0939aee0",
   "metadata": {},
   "outputs": [],
   "source": [
    "etas = X[particles_eta].values"
   ]
  },
  {
   "cell_type": "code",
   "execution_count": 24,
   "id": "e7562f47",
   "metadata": {},
   "outputs": [],
   "source": [
    "phis = X[particles_phi].values"
   ]
  },
  {
   "cell_type": "markdown",
   "id": "4f5b84de",
   "metadata": {},
   "source": [
    "#### pt_yy_thrust"
   ]
  },
  {
   "cell_type": "code",
   "execution_count": 25,
   "id": "e8956b31",
   "metadata": {},
   "outputs": [
    {
     "name": "stdout",
     "output_type": "stream",
     "text": [
      "0\n",
      "100000\n",
      "200000\n",
      "300000\n",
      "400000\n"
     ]
    }
   ],
   "source": [
    "total_events = df.shape[0]\n",
    "pt_yy_thrust = np.array([])\n",
    "#total_events = 5\n",
    "for i in range(0,total_events):\n",
    "    #print(\"Number of particles: \", njets[i]+2)\n",
    "    #jet_4vec = Momentum4.e_eta_phi_pt(0, 0, 0, 0) # Initiate jet 4-vector\n",
    "    if i%100000==0:\n",
    "        print(i)\n",
    "    y1 = Momentum4.e_eta_phi_pt(energies[i,0], etas[i,0], phis[i,0], pts[i,0])\n",
    "    y2 = Momentum4.e_eta_phi_pt(energies[i,1], etas[i,1], phis[i,1], pts[i,1])\n",
    "        #print(j)\n",
    "        #print(jet_4vec)\n",
    "        #print(jet_4vec.m)\n",
    "    #thrust = abs(((y1.p_x*y2.p_y)-(y2.p_x*y1.p_y))/(2*(y1.p_t-y2.p_t)))    \n",
    "    thrust = abs(y1.p_x*y2.p_y - y2.p_x*y1.p_y)/(y1-y2).p_t * 2.0 \n",
    "    pt_yy_thrust = np.append(pt_yy_thrust,thrust)"
   ]
  },
  {
   "cell_type": "code",
   "execution_count": 26,
   "id": "04c59bd2",
   "metadata": {},
   "outputs": [
    {
     "data": {
      "text/plain": [
       "array([34094.77452569, 18778.23557561,  1742.71982329, ...,\n",
       "       47957.90130154,  7009.38809785, 54884.65572119])"
      ]
     },
     "execution_count": 26,
     "metadata": {},
     "output_type": "execute_result"
    }
   ],
   "source": [
    "pt_yy_thrust"
   ]
  },
  {
   "cell_type": "code",
   "execution_count": 27,
   "id": "3f03964f",
   "metadata": {},
   "outputs": [],
   "source": [
    "np.savetxt(\"pt_yy_thrust(10%total,VBF,non_res).txt\",pt_yy_thrust)"
   ]
  },
  {
   "cell_type": "code",
   "execution_count": 28,
   "id": "7216bce5",
   "metadata": {},
   "outputs": [
    {
     "data": {
      "image/png": "[encoded data removed]",
      "text/plain": [
       "<Figure size 640x480 with 1 Axes>"
      ]
     },
     "metadata": {},
     "output_type": "display_data"
    }
   ],
   "source": [
    "Plot_normalised_feature(pt_yy_thrust,np.linspace(0,3e5,20),\"pt_yy_thrust\")"
   ]
  },
  {
   "cell_type": "code",
   "execution_count": null,
   "id": "6acaa77f",
   "metadata": {},
   "outputs": [],
   "source": []
  },
  {
   "cell_type": "markdown",
   "id": "dcbc264a",
   "metadata": {},
   "source": [
    "#### delta_eta_yy"
   ]
  },
  {
   "cell_type": "code",
   "execution_count": 45,
   "id": "8417ccab",
   "metadata": {},
   "outputs": [
    {
     "name": "stdout",
     "output_type": "stream",
     "text": [
      "0\n",
      "100000\n",
      "200000\n",
      "300000\n",
      "400000\n"
     ]
    }
   ],
   "source": [
    "total_events = df.shape[0]\n",
    "delta_eta_yy = np.array([])\n",
    "#total_events = 5\n",
    "for i in range(0,total_events):\n",
    "    #print(\"Number of particles: \", njets[i]+2)\n",
    "    #jet_4vec = Momentum4.e_eta_phi_pt(0, 0, 0, 0) # Initiate jet 4-vector\n",
    "    if i%100000==0:\n",
    "        print(i)\n",
    "    y1_eta = Momentum4.e_eta_phi_pt(energies[i,0], etas[i,0], phis[i,0], pts[i,0]).eta\n",
    "    y2_eta = Momentum4.e_eta_phi_pt(energies[i,1], etas[i,1], phis[i,1], pts[i,1]).eta\n",
    "        #print(j)\n",
    "        #print(jet_4vec)\n",
    "        #print(jet_4vec.m)\n",
    "    delta_eta = abs(y1_eta-y2_eta)\n",
    "    delta_eta_yy = np.append(delta_eta_yy,delta_eta)"
   ]
  },
  {
   "cell_type": "code",
   "execution_count": 46,
   "id": "b5676a23",
   "metadata": {},
   "outputs": [
    {
     "data": {
      "text/plain": [
       "array([0.5602821 , 1.21468091, 0.99399999, ..., 1.30914963, 0.05225185,\n",
       "       2.53893125])"
      ]
     },
     "execution_count": 46,
     "metadata": {},
     "output_type": "execute_result"
    }
   ],
   "source": [
    "delta_eta_yy"
   ]
  },
  {
   "cell_type": "code",
   "execution_count": 47,
   "id": "b6368b3c",
   "metadata": {},
   "outputs": [],
   "source": [
    "np.savetxt(\"delta_eta_yy(10%total,VBF,non_res).txt\",delta_eta_yy)"
   ]
  },
  {
   "cell_type": "code",
   "execution_count": 48,
   "id": "5521ac3e",
   "metadata": {},
   "outputs": [
    {
     "data": {
      "image/png": "[encoded data removed]",
      "text/plain": [
       "<Figure size 640x480 with 1 Axes>"
      ]
     },
     "metadata": {},
     "output_type": "display_data"
    }
   ],
   "source": [
    "Plot_normalised_feature(delta_eta_yy,np.linspace(0,9,20),\"delta_eta_yy\")"
   ]
  },
  {
   "cell_type": "code",
   "execution_count": 106,
   "id": "f86809b4",
   "metadata": {},
   "outputs": [],
   "source": [
    "#print(\"delta_eta_j1_j2[12]\",file=terminal_output)"
   ]
  },
  {
   "cell_type": "code",
   "execution_count": null,
   "id": "859d52c7",
   "metadata": {},
   "outputs": [],
   "source": []
  },
  {
   "cell_type": "markdown",
   "id": "946ceaa9",
   "metadata": {},
   "source": [
    "#### eta_zepp ((eta_yy-eta-jj)/2)"
   ]
  },
  {
   "cell_type": "code",
   "execution_count": 49,
   "id": "8c9af948",
   "metadata": {},
   "outputs": [
    {
     "name": "stdout",
     "output_type": "stream",
     "text": [
      "0\n",
      "100000\n",
      "200000\n",
      "300000\n",
      "400000\n"
     ]
    }
   ],
   "source": [
    "total_events = df.shape[0]\n",
    "eta_zepp = np.array([])\n",
    "#total_events = 5\n",
    "for i in range(0,total_events):\n",
    "    #print(\"Number of particles: \", njets[i]+2)\n",
    "    #jet_4vec = Momentum4.e_eta_phi_pt(0, 0, 0, 0) # Initiate jet 4-vector\n",
    "    if i%100000==0:\n",
    "        print(i)\n",
    "    y1 = Momentum4.e_eta_phi_pt(energies[i,0], etas[i,0], phis[i,0], pts[i,0])\n",
    "    y2 = Momentum4.e_eta_phi_pt(energies[i,1], etas[i,1], phis[i,1], pts[i,1])\n",
    "    j1 = Momentum4.e_eta_phi_pt(energies[i,2], etas[i,2], phis[i,2], pts[i,2])\n",
    "    j2 = Momentum4.e_eta_phi_pt(energies[i,3], etas[i,3], phis[i,3], pts[i,3])\n",
    "    \n",
    "    photon_system = y1+y2\n",
    "    jet_system = j1+j2\n",
    "    \n",
    "        #print(j)\n",
    "        #print(jet_4vec)\n",
    "        #print(jet_4vec.m)\n",
    "    delta_eta = (photon_system.eta-jet_system.eta)/2\n",
    "    eta_zepp = np.append(eta_zepp,delta_eta)"
   ]
  },
  {
   "cell_type": "code",
   "execution_count": 51,
   "id": "1b440256",
   "metadata": {},
   "outputs": [
    {
     "data": {
      "text/plain": [
       "array([-0.54016035,  1.22614474,  1.23193448, ...,  0.33253149,\n",
       "       -1.42417479, -2.44850482])"
      ]
     },
     "execution_count": 51,
     "metadata": {},
     "output_type": "execute_result"
    }
   ],
   "source": [
    "eta_zepp"
   ]
  },
  {
   "cell_type": "code",
   "execution_count": 64,
   "id": "88e4ffc4",
   "metadata": {},
   "outputs": [],
   "source": [
    "np.savetxt(\"eta_zepp(10%total,VBF,non_res).txt\",eta_zepp)"
   ]
  },
  {
   "cell_type": "code",
   "execution_count": 50,
   "id": "d8b62ac4",
   "metadata": {},
   "outputs": [
    {
     "data": {
      "image/png": "[encoded data removed]",
      "text/plain": [
       "<Figure size 640x480 with 1 Axes>"
      ]
     },
     "metadata": {},
     "output_type": "display_data"
    }
   ],
   "source": [
    "Plot_normalised_feature(eta_zepp,np.linspace(0,9,20),\"eta_zepp\")"
   ]
  },
  {
   "cell_type": "code",
   "execution_count": null,
   "id": "2b69c986",
   "metadata": {},
   "outputs": [],
   "source": []
  },
  {
   "cell_type": "markdown",
   "id": "985719b2",
   "metadata": {},
   "source": [
    "#### phi*_yy"
   ]
  },
  {
   "cell_type": "code",
   "execution_count": 54,
   "id": "aa56d2c2",
   "metadata": {},
   "outputs": [
    {
     "name": "stdout",
     "output_type": "stream",
     "text": [
      "0\n",
      "100000\n",
      "200000\n",
      "300000\n",
      "400000\n"
     ]
    }
   ],
   "source": [
    "total_events = df.shape[0]\n",
    "delta_phi_yy = np.array([])\n",
    "#total_events = 5\n",
    "for i in range(0,total_events):\n",
    "    #print(\"Number of particles: \", njets[i]+2)\n",
    "    #jet_4vec = Momentum4.e_eta_phi_pt(0, 0, 0, 0) # Initiate jet 4-vector\n",
    "    if i%100000==0:\n",
    "        print(i)\n",
    "    y1_phi = Momentum4.e_eta_phi_pt(energies[i,0], etas[i,0], phis[i,0], pts[i,0]).phi\n",
    "    y2_phi = Momentum4.e_eta_phi_pt(energies[i,1], etas[i,1], phis[i,1], pts[i,1]).phi\n",
    "        #print(j)\n",
    "        #print(jet_4vec)\n",
    "        #print(jet_4vec.m)\n",
    "    delta_phi = abs(y1_phi-y2_phi)\n",
    "    delta_phi_yy = np.append(delta_phi_yy,delta_phi)"
   ]
  },
  {
   "cell_type": "code",
   "execution_count": 58,
   "id": "75498dec",
   "metadata": {},
   "outputs": [
    {
     "data": {
      "text/plain": [
       "array([2.58269192, 0.07185298, 3.10251191, ..., 2.45592503, 3.25761996,\n",
       "       1.345636  ])"
      ]
     },
     "execution_count": 58,
     "metadata": {},
     "output_type": "execute_result"
    }
   ],
   "source": [
    "delta_phi_yy"
   ]
  },
  {
   "cell_type": "code",
   "execution_count": 59,
   "id": "16a029d0",
   "metadata": {},
   "outputs": [],
   "source": [
    "phi_star_yy = np.tan((np.pi-abs(delta_phi_yy))/2)*np.sqrt(1-np.tanh(delta_eta_yy/2)**2)"
   ]
  },
  {
   "cell_type": "code",
   "execution_count": 60,
   "id": "99879172",
   "metadata": {},
   "outputs": [
    {
     "data": {
      "text/plain": [
       "array([ 2.76056010e-01,  2.33770182e+01,  1.73549583e-02, ...,\n",
       "        2.92087049e-01, -5.80590086e-02,  6.53625859e-01])"
      ]
     },
     "execution_count": 60,
     "metadata": {},
     "output_type": "execute_result"
    }
   ],
   "source": [
    "phi_star_yy"
   ]
  },
  {
   "cell_type": "code",
   "execution_count": 63,
   "id": "71bba58c",
   "metadata": {},
   "outputs": [],
   "source": [
    "np.savetxt(\"phi_star_yy(10%total,VBF,non_res).txt\",phi_star_yy)"
   ]
  },
  {
   "cell_type": "code",
   "execution_count": 62,
   "id": "9bcd934a",
   "metadata": {},
   "outputs": [
    {
     "data": {
      "image/png": "[encoded data removed]",
      "text/plain": [
       "<Figure size 640x480 with 1 Axes>"
      ]
     },
     "metadata": {},
     "output_type": "display_data"
    }
   ],
   "source": [
    "Plot_normalised_feature(phi_star_yy,np.linspace(0,4,20),\"phi_star_yy\")"
   ]
  },
  {
   "cell_type": "code",
   "execution_count": null,
   "id": "e1ec73a5",
   "metadata": {},
   "outputs": [],
   "source": []
  },
  {
   "cell_type": "markdown",
   "id": "34eab437",
   "metadata": {},
   "source": [
    "#### cos(theta*_yy)"
   ]
  },
  {
   "cell_type": "code",
   "execution_count": 29,
   "id": "5f1b9ae0",
   "metadata": {},
   "outputs": [],
   "source": [
    "m_yy = pd.read_csv(\"m_yy(10%total,VBF,non_res).txt\",header=None,dtype=\"float32\").values.flatten()"
   ]
  },
  {
   "cell_type": "code",
   "execution_count": 30,
   "id": "abfae336",
   "metadata": {},
   "outputs": [],
   "source": [
    "pt_yy = pd.read_csv(\"pt_yy(10%total,VBF,non_res).txt\",header=None,dtype=\"float32\").values.flatten()"
   ]
  },
  {
   "cell_type": "code",
   "execution_count": 31,
   "id": "5a86dd88",
   "metadata": {},
   "outputs": [
    {
     "name": "stdout",
     "output_type": "stream",
     "text": [
      "0\n",
      "100000\n",
      "200000\n",
      "300000\n",
      "400000\n"
     ]
    }
   ],
   "source": [
    "total_events = df.shape[0]\n",
    "delta_phi_yy = np.array([])\n",
    "E_y1 = np.array([])\n",
    "E_y2 = np.array([])\n",
    "pz_y1 = np.array([])\n",
    "pz_y2 = np.array([])\n",
    "\n",
    "#total_events = 5\n",
    "for i in range(0,total_events):\n",
    "    #print(\"Number of particles: \", njets[i]+2)\n",
    "    #jet_4vec = Momentum4.e_eta_phi_pt(0, 0, 0, 0) # Initiate jet 4-vector\n",
    "    if i%100000==0:\n",
    "        print(i)\n",
    "    y1 = Momentum4.e_eta_phi_pt(energies[i,0], etas[i,0], phis[i,0], pts[i,0])\n",
    "    y2 = Momentum4.e_eta_phi_pt(energies[i,1], etas[i,1], phis[i,1], pts[i,1])\n",
    "#     E_y1 = y1.e\n",
    "#     E_y2 = y2.e\n",
    "#     pz_y1 = y1.p_z\n",
    "#     pz_y2 = y2.p_z\n",
    "    \n",
    "        #print(j)\n",
    "        #print(jet_4vec)\n",
    "        #print(jet_4vec.m)\n",
    "#     delta_phi = abs(y1_phi-y2_phi)\n",
    "#     delta_phi_y1y2 = np.append(delta_phi_yy,delta_phi)\n",
    "    E_y1 = np.append(E_y1,y1.e)\n",
    "    E_y2 = np.append(E_y2,y2.e)\n",
    "    pz_y1 = np.append(pz_y1,y1.p_z)\n",
    "    pz_y2 = np.append(pz_y2,y2.p_z)\n",
    "    \n",
    "    "
   ]
  },
  {
   "cell_type": "code",
   "execution_count": 32,
   "id": "c7d03884",
   "metadata": {},
   "outputs": [],
   "source": [
    "np.savetxt(\"E_y1(10%total,VBF,non_res).txt\",E_y1)"
   ]
  },
  {
   "cell_type": "code",
   "execution_count": 33,
   "id": "ad41bc07",
   "metadata": {},
   "outputs": [],
   "source": [
    "np.savetxt(\"E_y2(10%total,VBF,non_res).txt\",E_y2)"
   ]
  },
  {
   "cell_type": "code",
   "execution_count": 34,
   "id": "8f430fa4",
   "metadata": {},
   "outputs": [],
   "source": [
    "np.savetxt(\"pz_y1(10%total,VBF,non_res).txt\",pz_y1)"
   ]
  },
  {
   "cell_type": "code",
   "execution_count": 35,
   "id": "d304c8db",
   "metadata": {},
   "outputs": [],
   "source": [
    "np.savetxt(\"pz_y2(10%total,VBF,non_res).txt\",pz_y2)"
   ]
  },
  {
   "cell_type": "code",
   "execution_count": null,
   "id": "2f0f9926",
   "metadata": {},
   "outputs": [],
   "source": []
  },
  {
   "cell_type": "code",
   "execution_count": 36,
   "id": "657afc14",
   "metadata": {},
   "outputs": [
    {
     "data": {
      "image/png": "[encoded data removed]",
      "text/plain": [
       "<Figure size 640x480 with 1 Axes>"
      ]
     },
     "metadata": {},
     "output_type": "display_data"
    }
   ],
   "source": [
    "Plot_normalised_feature(E_y1,np.linspace(0,1e6,20),\"E_y1\")"
   ]
  },
  {
   "cell_type": "code",
   "execution_count": null,
   "id": "21a3a08a",
   "metadata": {},
   "outputs": [],
   "source": []
  },
  {
   "cell_type": "code",
   "execution_count": 52,
   "id": "f58686fa",
   "metadata": {},
   "outputs": [
    {
     "name": "stdout",
     "output_type": "stream",
     "text": [
      "[0.27690323 0.95358515 0.37718742 ... 0.59641178 0.02609908 0.93394567]\n"
     ]
    },
    {
     "name": "stderr",
     "output_type": "stream",
     "text": [
      "/tmp/ipykernel_745316/4230945812.py:4: RuntimeWarning: divide by zero encountered in divide\n",
      "  cos_theta_star_yy = abs((((E_y1+pz_y1)*(E_y2-pz_y2))-((E_y1-pz_y1)*(E_y2+pz_y2)))/(m_yy*np.sqrt(m_yy**2+(pt_yy)**2)))\n"
     ]
    }
   ],
   "source": [
    "# m_yy = (y1+y2).m\n",
    "# pt_yy = (y1+y2).p_t\n",
    "#cos_theta_star_yy = abs((((y1.e+y1.p_z)*(y2.e-y2.p_z))-((y1.e-y1.p_z)*(y2.e+y2.p_z)))/(m_yy*np.sqrt(m_yy**2+(pt_yy)**2)))\n",
    "cos_theta_star_yy = abs((((E_y1+pz_y1)*(E_y2-pz_y2))-((E_y1-pz_y1)*(E_y2+pz_y2)))/(m_yy*np.sqrt(m_yy**2+(pt_yy)**2)))\n",
    "\n",
    "print(cos_theta_star_yy)"
   ]
  },
  {
   "cell_type": "code",
   "execution_count": 71,
   "id": "aac206ab",
   "metadata": {},
   "outputs": [
    {
     "name": "stderr",
     "output_type": "stream",
     "text": [
      "/tmp/ipykernel_745316/3426344548.py:1: RuntimeWarning: divide by zero encountered in divide\n",
      "  cos_theta_star_yy = abs((((E_y1+pz_y1)*(E_y2-pz_y2))-((E_y1-pz_y1)*(E_y2+pz_y2)))/(m_yy*np.sqrt(m_yy**2+(pt_yy)**2)))\n"
     ]
    }
   ],
   "source": [
    "cos_theta_star_yy = abs((((E_y1+pz_y1)*(E_y2-pz_y2))-((E_y1-pz_y1)*(E_y2+pz_y2)))/(m_yy*np.sqrt(m_yy**2+(pt_yy)**2)))"
   ]
  },
  {
   "cell_type": "code",
   "execution_count": 73,
   "id": "8f892f12",
   "metadata": {},
   "outputs": [],
   "source": [
    "zero_pos = np.where((m_yy*np.sqrt(m_yy**2+(pt_yy)**2))==0)[0]"
   ]
  },
  {
   "cell_type": "code",
   "execution_count": 74,
   "id": "75c3bb47",
   "metadata": {},
   "outputs": [],
   "source": [
    "cos_theta_star_yy[zero_pos] = 0"
   ]
  },
  {
   "cell_type": "code",
   "execution_count": 81,
   "id": "a747fdc6",
   "metadata": {},
   "outputs": [
    {
     "data": {
      "text/plain": [
       "array([0., 0., 0., 0., 0., 0., 0.])"
      ]
     },
     "execution_count": 81,
     "metadata": {},
     "output_type": "execute_result"
    }
   ],
   "source": [
    "cos_theta_star_yy[zero_pos]"
   ]
  },
  {
   "cell_type": "code",
   "execution_count": 76,
   "id": "24691a77",
   "metadata": {},
   "outputs": [
    {
     "name": "stdout",
     "output_type": "stream",
     "text": [
      "[0.27690323 0.95358515 0.37718742 ... 0.59641178 0.02609908 0.93394567]\n"
     ]
    }
   ],
   "source": [
    "print(cos_theta_star_yy)"
   ]
  },
  {
   "cell_type": "code",
   "execution_count": 79,
   "id": "1ac003c8",
   "metadata": {},
   "outputs": [],
   "source": [
    "np.savetxt(\"cos_theta_star_yy(10%total,VBF,non_res).txt\",cos_theta_star_yy)"
   ]
  },
  {
   "cell_type": "code",
   "execution_count": 80,
   "id": "4672a452",
   "metadata": {},
   "outputs": [
    {
     "data": {
      "image/png": "[encoded data removed]",
      "text/plain": [
       "<Figure size 640x480 with 1 Axes>"
      ]
     },
     "metadata": {},
     "output_type": "display_data"
    }
   ],
   "source": [
    "Plot_normalised_feature(cos_theta_star_yy,np.linspace(0,1,20),\"cos_theta_star_yy\")"
   ]
  },
  {
   "cell_type": "code",
   "execution_count": null,
   "id": "d19ddf56",
   "metadata": {},
   "outputs": [],
   "source": []
  },
  {
   "cell_type": "code",
   "execution_count": null,
   "id": "b457397a",
   "metadata": {},
   "outputs": [],
   "source": []
  },
  {
   "cell_type": "code",
   "execution_count": null,
   "id": "2c955c5f",
   "metadata": {},
   "outputs": [],
   "source": []
  }
 ],
 "metadata": {
  "kernelspec": {
   "display_name": "Python 3 (ipykernel)",
   "language": "python",
   "name": "python3"
  },
  "language_info": {
   "codemirror_mode": {
    "name": "ipython",
    "version": 3
   },
   "file_extension": ".py",
   "mimetype": "text/x-python",
   "name": "python",
   "nbconvert_exporter": "python",
   "pygments_lexer": "ipython3",
   "version": "3.9.13"
  }
 },
 "nbformat": 4,
 "nbformat_minor": 5
}
