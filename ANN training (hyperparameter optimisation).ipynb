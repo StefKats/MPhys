{
 "cells": [
  {
   "cell_type": "code",
   "execution_count": 1,
   "id": "91130823",
   "metadata": {},
   "outputs": [
    {
     "name": "stderr",
     "output_type": "stream",
     "text": [
      "2023-05-18 11:04:55.441071: I tensorflow/core/platform/cpu_feature_guard.cc:193] This TensorFlow binary is optimized with oneAPI Deep Neural Network Library (oneDNN) to use the following CPU instructions in performance-critical operations:  SSE4.1 SSE4.2 AVX AVX2 FMA\n",
      "To enable them in other operations, rebuild TensorFlow with the appropriate compiler flags.\n"
     ]
    },
    {
     "name": "stdout",
     "output_type": "stream",
     "text": [
      "Eager exc False\n",
      "tensorflow: 2.10.0\n",
      "2.10.0\n",
      "2.10.0\n"
     ]
    }
   ],
   "source": [
    "import numpy as np\n",
    "import pandas as pd\n",
    "import matplotlib.pyplot as plt\n",
    "from atlasify import atlasify\n",
    "\n",
    "from sklearn.model_selection import train_test_split\n",
    "from sklearn.preprocessing import StandardScaler\n",
    "\n",
    "import keras\n",
    "import tensorflow\n",
    "import keras.backend as K\n",
    "from keras.layers import Input, Dense\n",
    "from keras.models import Model\n",
    "\n",
    "# Local import\n",
    "import layers\n",
    "\n",
    "pd.options.mode.chained_assignment = None\n",
    "import matplotlib\n",
    "from sklearn import metrics\n",
    "from scipy.spatial import distance\n",
    "\n",
    "# from keras.wrappers.scikit_learn import KerasClassifier\n",
    "# from sklearn.model_selection import GridSearchCV\n",
    "\n",
    "from keras.callbacks import ModelCheckpoint, EarlyStopping\n",
    "\n",
    "print(keras.__version__)\n",
    "print(tensorflow.__version__)"
   ]
  },
  {
   "cell_type": "markdown",
   "id": "e6528bd6",
   "metadata": {},
   "source": [
    "### Defining useful functions"
   ]
  },
  {
   "cell_type": "code",
   "execution_count": 2,
   "id": "607d6aab",
   "metadata": {},
   "outputs": [],
   "source": [
    "def classifier(num_feat):\n",
    "    # Inputs\n",
    "    i = Input(shape = (num_feat,))\n",
    "    \n",
    "    # Hidden layers\n",
    "    x1 = Dense(48, activation = \"relu\")(i)      \n",
    "    x2 = Dense(32, activation = \"relu\")(x1)     \n",
    "    x3 = Dense(16, activation = \"relu\")(x2)      \n",
    "    \n",
    "    # Output layer\n",
    "    o = Dense(1, activation = \"sigmoid\")(x3)\n",
    "    \n",
    "    # Build NN classifier\n",
    "    return Model(inputs = i, outputs = o, name = \"classifier\")\n",
    "\n",
    "\n",
    "def adversary(num_gmm):\n",
    "    # Inputs\n",
    "    i = Input(shape = (1,))\n",
    "    myy = Input(shape = (1,))\n",
    "    \n",
    "    # Hidden layers\n",
    "    x1 = Dense(200, activation = \"relu\")(i)       \n",
    "    x2 = Dense(100, activation = \"relu\")(x1)      \n",
    "    x3 = Dense(50, activation = \"relu\")(x2)      \n",
    "    \n",
    "    # Gaussian mixture model (GMM) components\n",
    "    coeffs = Dense(num_gmm, activation=\"softmax\")(x3)  # GMM coefficients sum to one\n",
    "    means  = Dense(num_gmm, activation=\"sigmoid\")(x3)  # Means are on [0, 1]\n",
    "    widths = Dense(num_gmm, activation=\"softplus\")(x3)  # Widths are positive\n",
    "    \n",
    "    # Posterior probability distribution function\n",
    "    pdf = layers.PosteriorLayer(num_gmm)([coeffs, means, widths, myy])\n",
    "\n",
    "    return Model(inputs = [i, myy], outputs = pdf, name = \"adversary\")\n",
    "\n",
    "\n",
    "def combined(clf, adv, lambda_reg, lr_ratio):\n",
    "    # Inputs\n",
    "    clf_input = Input(shape = clf.layers[0].input_shape[0][1])\n",
    "    myy_input = Input(shape = (1,))\n",
    "    \n",
    "    # Classifier ouput\n",
    "    clf_output = clf(clf_input)\n",
    "    \n",
    "    # Gradient reversal\n",
    "    gradient_reversal = layers.GradientReversalLayer(lambda_reg * lr_ratio)(clf_output)\n",
    "    \n",
    "    # Adversary\n",
    "    adv_output = adv([gradient_reversal, myy_input])\n",
    "    \n",
    "    return Model(inputs=[clf_input, myy_input], outputs=[clf_output, adv_output], name=\"combined\")\n",
    "\n",
    "\n",
    "def custom_loss(y_true, y_pred):\n",
    "    \"\"\"\n",
    "    Kullback-Leibler loss; maximises posterior p.d.f.\n",
    "    Equivalent to binary-cross-entropy for all y = 1\n",
    "    \"\"\"    \n",
    "    return -K.log(y_pred)\n",
    "\n",
    "\n",
    "np.random.seed(1)"
   ]
  },
  {
   "cell_type": "code",
   "execution_count": 3,
   "id": "ad6d5f6b",
   "metadata": {},
   "outputs": [],
   "source": [
    "def plot_dscore(d_score,ax):\n",
    "    bins = np.linspace(0,1,40)\n",
    "    labels = [\"non. res.\",\"VBF\"]\n",
    "    for signal in [0,1]:\n",
    "        mask = y_test == signal\n",
    "        non_zero = np.count_nonzero(~np.isnan(d_score[mask]))\n",
    "        weights = np.ones_like(d_score[mask])/float(non_zero)\n",
    "        ax.hist(d_score[mask],alpha=0.5, label=labels[signal],bins = bins,weights=weights)\n",
    "    ax.set_xlabel(\"Discriminant score\")\n",
    "    ax.set_ylabel(\"Fraction\")\n",
    "    ax.legend()\n",
    "    #plt.savefig(\"discriminant_distribution_VBF_vs_non_res(m_yy_less5%,pt_y1,pt_y2).pdf\")\n",
    "    #plt.show()"
   ]
  },
  {
   "cell_type": "code",
   "execution_count": 4,
   "id": "bea783d9",
   "metadata": {},
   "outputs": [],
   "source": [
    "def plot_ROC(d_score,ax):\n",
    "    effs=[]\n",
    "    bins = np.linspace(0,1,50)\n",
    "    back = d_score[y_test==0]\n",
    "    sig = d_score[y_test==1]\n",
    "    for dist in [back,sig]:\n",
    "            # Normalise distributions\n",
    "            non_zero = np.count_nonzero(~np.isnan(dist))\n",
    "            weights = np.ones_like(dist)/float(non_zero)\n",
    "            # Calculate signal and background efficiencies\n",
    "            frac = np.histogram(dist,bins=bins,weights=weights)[0]\n",
    "            eff = 1-np.append(0,np.cumsum(frac))\n",
    "            effs.append(eff)\n",
    "    # Plot ROC curve\n",
    "    ax.plot(effs[0],effs[1])\n",
    "    # Calculate AUC\n",
    "    auc = metrics.auc(effs[0], effs[1])\n",
    "    ax.text(x=0,y=0.85,s=\"AUC= \"+\"{:.4f}\".format(round(auc, 4)))\n",
    "    ax.plot([0,1], [0,1], linestyle='--', color='red')\n",
    "    ax.set_xlabel(\"Background efficiency\")\n",
    "    ax.set_ylabel(\"Signal efficiency\")\n",
    "    ax.legend([\"non res. bkg\",\"VBF\",\"Random classifier\"])\n",
    "#plt.show()"
   ]
  },
  {
   "cell_type": "code",
   "execution_count": 5,
   "id": "759bdd5e",
   "metadata": {},
   "outputs": [],
   "source": [
    "def ROC_AUC(d_score):\n",
    "    effs=[]\n",
    "    bins = np.linspace(0,1,50)\n",
    "    back = d_score[y_test==0]\n",
    "    sig = d_score[y_test==1]\n",
    "    for dist in [back,sig]:\n",
    "            # Normalise distributions\n",
    "            non_zero = np.count_nonzero(~np.isnan(dist))\n",
    "            weights = np.ones_like(dist)/float(non_zero)\n",
    "            # Calculate signal and background efficiencies\n",
    "            frac = np.histogram(dist,bins=bins,weights=weights)[0]\n",
    "            eff = 1-np.append(0,np.cumsum(frac))\n",
    "            effs.append(eff)\n",
    "    # Calculate AUC\n",
    "    auc = metrics.auc(effs[0], effs[1])\n",
    "\n",
    "    return auc\n",
    "#plt.show()"
   ]
  },
  {
   "cell_type": "code",
   "execution_count": 6,
   "id": "9e80d44d",
   "metadata": {},
   "outputs": [],
   "source": [
    "def plot_D_score_myy(d_score,ax):\n",
    "    non_res = np.histogram(myy_test[y_test==0],bins=np.linspace(105e3,160e3,80))\n",
    "    bin_width = non_res[1][1]-non_res[1][0]\n",
    "    bin_centres = np.linspace(non_res[1][0]+(bin_width/2),non_res[1][-1]-(bin_width/2),79)\n",
    "    weighted_dist = np.histogram(myy_test[y_test==0],bins=np.linspace(105e3,160e3,80),weights=d_score[y_test==0])\n",
    "    ax.hist(bin_centres,bins=non_res[1],weights=weighted_dist[0]/non_res[0])\n",
    "    ax.set_title(\"D score values as a function of m_yy for non. res. bkg.\")\n",
    "    ax.set_xlabel(\"m_yy\")\n",
    "    ax.set_ylabel(\"D score\")\n",
    "    #plt.savefig(\"D_score_as_function_of_m_yy_non_res(m_yy_less5%,pt_y1,pt_y2).pdf\")\n",
    "    #plt.show()"
   ]
  },
  {
   "cell_type": "code",
   "execution_count": 7,
   "id": "64da3076",
   "metadata": {},
   "outputs": [],
   "source": [
    "def JSD_D_score_dist(d_score,region):\n",
    "    selection = (myy_test[y_test==0]>105e3)&(myy_test[y_test==0]<160e3)\n",
    "    back = myy_test[y_test==0][selection]\n",
    "    sig = myy_test[y_test==1]\n",
    "    back_d_scores = d_score[y_test==0][selection]\n",
    "    hist_back = np.histogram(back,bins=np.linspace(105e3,160e3,40))[0]\n",
    "\n",
    "    bins = np.linspace(105e3,160e3,40)\n",
    "    bin_width = bins[1]-bins[0]\n",
    "    bin_centres = np.linspace(bins[0]+(bin_width/2),bins[-1]-(bin_width/2),39)\n",
    "\n",
    "    weighted_dist = np.histogram(back,bins=np.linspace(105e3,160e3,40),weights=back_d_scores)\n",
    "    d_score_dist = np.histogram(bin_centres,bins=bins,weights=weighted_dist[0]/hist_back)[0]\n",
    "    means = np.ones_like(d_score_dist)*d_score_dist.mean()\n",
    "    \n",
    "    if region == \"higgs\":\n",
    "        cut = (bin_centres>121e3)*(bin_centres<129e3)\n",
    "        JSD_score = np.square(distance.jensenshannon(means[cut], d_score_dist[cut]))\n",
    "    else:\n",
    "        JSD_score = np.square(distance.jensenshannon(means, d_score_dist))\n",
    "    return JSD_score"
   ]
  },
  {
   "cell_type": "code",
   "execution_count": 8,
   "id": "ce95ceaa",
   "metadata": {},
   "outputs": [],
   "source": [
    "def plot_sculpting(d_score,cut,ax,y_scale):\n",
    "    color1 = matplotlib.cm.get_cmap(\"Paired\")(1/12)\n",
    "    color2 = matplotlib.cm.get_cmap(\"Paired\")(0/12)\n",
    "    color3 = matplotlib.cm.get_cmap(\"Paired\")(7/12)\n",
    "    \n",
    "    selection = (myy_test[y_test==0]>105e3)&(myy_test[y_test==0]<160e3)\n",
    "    back = myy_test[y_test==0][selection]\n",
    "    sig = myy_test[y_test==1]\n",
    "    sig_cut = d_score[y_test==1][np.argsort(-d_score[y_test==1])][:int(d_score[y_test==1].shape[0]*cut)]\n",
    "    d_cut = sig_cut[-1]\n",
    "    back_cut = back[d_score[y_test==0][selection]>d_cut]\n",
    "    bins=np.linspace(105e3,160e3,80)\n",
    "    signal = [back,back_cut,sig]\n",
    "    labels = [\"non. res.\", \"non res. at {}% sig. eff.\".format(int(cut*100)),\"VBF\"]\n",
    "    hist = [\"step\",\"bar\",\"step\"]\n",
    "    # color = [\"tab:blue\",\"tab:darkgreen\",\"tab:orange\"]\n",
    "    color = [color1,color2,color3]\n",
    "    for signal, values in enumerate(signal):\n",
    "        non_zero = np.count_nonzero(~np.isnan(values))\n",
    "        weights = np.ones_like(values)/float(non_zero)\n",
    "        ax.hist(values,alpha=1, label=labels[signal],bins = bins,weights=weights,histtype=hist[signal],color=color[signal],\n",
    "                linewidth=2)\n",
    "\n",
    "    ax.set_title(\"normalised m_yy distributions\")\n",
    "    ax.set_xlabel(\"m_yy\")\n",
    "    ax.set_ylabel(\"fraction\")\n",
    "    ax.set_yscale(y_scale)\n",
    "    ax.legend()\n",
    "#plt.savefig(\"m_yy_dist_D_0.5_non_res(m_yy_less5%).pdf\")\n",
    "#plt.show()"
   ]
  },
  {
   "cell_type": "code",
   "execution_count": 9,
   "id": "78fa8150",
   "metadata": {},
   "outputs": [],
   "source": [
    "def accuracy(d_score, cut):\n",
    "    selection = (myy_test[y_test==0]>105e3)&(myy_test[y_test==0]<160e3)\n",
    "    back = myy_test[y_test==0][selection]\n",
    "    sig = myy_test[y_test==1]\n",
    "    sig_cut = d_score[y_test==1][np.argsort(-d_score[y_test==1])][:int(d_score[y_test==1].shape[0]*cut)]\n",
    "    d_cut = sig_cut[-1]\n",
    "    back_cut = back[d_score[y_test==0][selection]>d_cut]\n",
    "    #print(d_cut)\n",
    "    tp = d_score[d_score>d_cut][y_test[d_score>d_cut] == 1].size\n",
    "    tn = d_score[d_score<d_cut][y_test[d_score<d_cut] == 0].size\n",
    "    total = d_score.size\n",
    "    accuracy = (tp + tn)/total\n",
    "    return accuracy"
   ]
  },
  {
   "cell_type": "code",
   "execution_count": 10,
   "id": "75a39cc0",
   "metadata": {},
   "outputs": [],
   "source": [
    "def JSD(d_score,cut,region):\n",
    "    selection = (myy_test[y_test==0]>105e3)&(myy_test[y_test==0]<160e3)\n",
    "    back = myy_test[y_test==0][selection]\n",
    "    sig = myy_test[y_test==1]\n",
    "    sig_cut = d_score[y_test==1][np.argsort(-d_score[y_test==1])][:int(d_score[y_test==1].shape[0]*cut)]\n",
    "    d_cut = sig_cut[-1]\n",
    "    back_cut = back[d_score[y_test==0][selection]>d_cut]\n",
    "    \n",
    "    dists=[back,back_cut]\n",
    "    fracs=[]\n",
    "    bins = np.linspace(105e3,160e3,40)\n",
    "    bin_width = bins[1]-bins[0]\n",
    "    bin_centres = np.linspace(bins[0]+(bin_width/2),bins[-1]-(bin_width/2),39)\n",
    "    for i in dists:\n",
    "        non_zero = np.count_nonzero(~np.isnan(i))\n",
    "        weights = np.ones_like(i)/float(non_zero)\n",
    "        frac=np.histogram(i,bins = bins,weights=weights)[0]\n",
    "        fracs.append(frac)\n",
    "    if region == \"higgs\":\n",
    "        cut = (bin_centres>121e3)*(bin_centres<129e3)\n",
    "        JSD_score = np.square(distance.jensenshannon(fracs[0][cut], fracs[1][cut]))\n",
    "    else:\n",
    "        JSD_score = np.square(distance.jensenshannon(fracs[0], fracs[1]))\n",
    "    return JSD_score"
   ]
  },
  {
   "cell_type": "code",
   "execution_count": 41,
   "id": "33dc852e",
   "metadata": {},
   "outputs": [],
   "source": [
    "def Dscore_fractions_ratio(d_score,cut):\n",
    "\n",
    "    selection = (myy_test[y_test==0]>105e3)&(myy_test[y_test==0]<160e3)\n",
    "    back = myy_test[y_test==0][selection]\n",
    "    sig = myy_test[y_test==1]\n",
    "    sig_cut = d_score[y_test==1][np.argsort(-d_score[y_test==1])][:int(d_score[y_test==1].shape[0]*cut)]\n",
    "    d_cut = sig_cut[-1]\n",
    "    back_cut = back[d_score[y_test==0][selection]>d_cut]\n",
    "    back_eff = back_cut.size/back.size\n",
    "    print(\"Background eff. at\",cut,\"signal eff.= \",back_eff)\n",
    "    bins=np.linspace(105e3,160e3,40)\n",
    "    bin_width = bins[1]-bins[0]\n",
    "    bin_centres = np.linspace(bins[0]+(bin_width/2),bins[-1]-(bin_width/2),39)\n",
    "    \n",
    "    dists=[back,back_cut]\n",
    "    labels = [\"before\",\"after\"]\n",
    "    err_label = [\"\",\"stat. uncertainty\"]\n",
    "    fractions = []\n",
    "    unscaled_dists = []\n",
    "    weights_comb = []\n",
    "    fig, ax = plt.subplots(2,1,figsize=(8,6), gridspec_kw={'height_ratios': [2, 1]})\n",
    "    for i, values in enumerate(dists):\n",
    "        non_zero = np.count_nonzero(~np.isnan(values))\n",
    "        weights = np.ones_like(values)/float(non_zero)\n",
    "        fraction = ax[0].hist(values, label=labels[i],bins = bins,weights=weights, histtype=\"step\",linewidth=2)\n",
    "        fractions.append(fraction[0])\n",
    "        unscaled = np.histogram(values,bins=bins)\n",
    "        unscaled_dists.append(unscaled[0])\n",
    "        weights_comb.append(weights[0])\n",
    "        ax[0].fill_between(bin_centres, fraction[0]-np.sqrt(unscaled[0])*weights[0], fraction[0]+np.sqrt(unscaled[0])*weights[0], \n",
    "                           alpha=0.8,step=\"mid\", label=err_label[i],hatch=\"////\",facecolor=\"none\",linewidth=0)\n",
    "    ax[0].legend()\n",
    "    plt.suptitle(\"normalised m_yy non_res_bkg distributions before and after D cut at {}% sig. eff.\".format(int(100*cut)),y=0.95)\n",
    "\n",
    "    for i in range(2):\n",
    "        ax[1].hist(bin_centres,bins=bins,weights=fractions[i]/fractions[0],histtype=\"step\",linewidth=2)\n",
    "        y_min= (fractions[i]-np.sqrt(unscaled_dists[i])*weights_comb[i])/fractions[0]\n",
    "        y_max= (fractions[i]+np.sqrt(unscaled_dists[i])*weights_comb[i])/fractions[0]\n",
    "        ax[1].fill_between(bin_centres, y_min, y_max, \n",
    "                               alpha=0.8,step=\"mid\",hatch=\"////\",facecolor=\"none\",linewidth=0)\n",
    "    ax[1].set_ylim(0.7,1.3)\n",
    "    plt.setp(ax, xlim=[105e3,160e3])\n",
    "    \n",
    "    plt.xlabel(\"m_yy\")\n",
    "    ax[0].set_ylabel(\"fraction\")\n",
    "    ax[1].set_ylabel(\"ratio\")\n",
    "    #plt.savefig(\"m_yy_dist_non_res_bkgs(m_yy_less5%).pdf\")\n",
    "    plt.show()"
   ]
  },
  {
   "cell_type": "code",
   "execution_count": 12,
   "id": "42c05967",
   "metadata": {},
   "outputs": [],
   "source": [
    "def Back_eff(d_score,cut):\n",
    "\n",
    "    selection = (myy_test[y_test==0]>105e3)&(myy_test[y_test==0]<160e3)\n",
    "    back = myy_test[y_test==0][selection]\n",
    "    sig = myy_test[y_test==1]\n",
    "    sig_cut = d_score[y_test==1][np.argsort(-d_score[y_test==1])][:int(d_score[y_test==1].shape[0]*cut)]\n",
    "    d_cut = sig_cut[-1]\n",
    "    back_cut = back[d_score[y_test==0][selection]>d_cut]\n",
    "    back_eff = back_cut.size/back.size\n",
    "    #print(\"Back_eff= \",back_eff)\n",
    "    return back_eff"
   ]
  },
  {
   "cell_type": "code",
   "execution_count": null,
   "id": "f95abdcf",
   "metadata": {},
   "outputs": [],
   "source": []
  },
  {
   "cell_type": "markdown",
   "id": "632d88be",
   "metadata": {},
   "source": [
    "## Data preprocessing"
   ]
  },
  {
   "cell_type": "markdown",
   "id": "bc053345",
   "metadata": {},
   "source": [
    "### Load 10% of pythia VBF and non. res. bkg."
   ]
  },
  {
   "cell_type": "markdown",
   "id": "5229ebff",
   "metadata": {},
   "source": [
    "Loading the engineered PYTHIA VBF and non-resonant background features (2 separate datasets)"
   ]
  },
  {
   "cell_type": "code",
   "execution_count": 13,
   "id": "423f3cb3",
   "metadata": {},
   "outputs": [],
   "source": [
    "features = pd.read_csv(\"VBF_non_res_10%total\",dtype=\"float32\")"
   ]
  },
  {
   "cell_type": "code",
   "execution_count": 14,
   "id": "dbe87b34",
   "metadata": {},
   "outputs": [
    {
     "data": {
      "text/plain": [
       "Index(['njets', 'pt_highest_pt_jet', 'sum_pt_all_jets', 'number_central_jets',\n",
       "       'invariant_mass_jet_system', 'sum_trans_energy_particles',\n",
       "       'delta_phi_yy_jets', 'delta_rapidity_yy_jets', 'pt_j1_j2', 'm_j1_j2',\n",
       "       'delta_y_j1_j2', 'delta_phi_j1_j2', 'delta_eta_j1_j2', 'pt_yy_j1',\n",
       "       'm_yy_j1', 'pt_yy_jj', 'm_yy_jj', 'eta_photon1', 'eta_photon2', 'pt_yy',\n",
       "       'rapidity_yy', 'forward_jet_etas', 'm_yy_jF', 'p_H_T', 'm_yy', 'pt_y1',\n",
       "       'pt_y2', 'pt_yy_thrust', 'delta_eta_yy', 'eta_zepp', 'phi_star_yy',\n",
       "       'cos_theta_star_yy', 'signal'],\n",
       "      dtype='object')"
      ]
     },
     "execution_count": 14,
     "metadata": {},
     "output_type": "execute_result"
    }
   ],
   "source": [
    "features.columns"
   ]
  },
  {
   "cell_type": "markdown",
   "id": "d973721f",
   "metadata": {},
   "source": [
    "### Make signal cuts"
   ]
  },
  {
   "cell_type": "markdown",
   "id": "3c7ec723",
   "metadata": {},
   "source": [
    "Making cuts to the signal to match the background cuts"
   ]
  },
  {
   "cell_type": "code",
   "execution_count": 15,
   "id": "09e914c4",
   "metadata": {},
   "outputs": [],
   "source": [
    "features.drop(features[features.njets<2].index,inplace=True)\n",
    "features.drop(features[features.m_j1_j2<0.3e6].index,inplace=True)"
   ]
  },
  {
   "cell_type": "code",
   "execution_count": 16,
   "id": "7895cd25",
   "metadata": {},
   "outputs": [],
   "source": [
    "features.reset_index(drop=True, inplace=True)"
   ]
  },
  {
   "cell_type": "markdown",
   "id": "502a9af5",
   "metadata": {},
   "source": [
    "### Select all features except for m_yy"
   ]
  },
  {
   "cell_type": "code",
   "execution_count": 17,
   "id": "6cab0912",
   "metadata": {},
   "outputs": [],
   "source": [
    "non_res_bkg = features[features.signal==0]"
   ]
  },
  {
   "cell_type": "code",
   "execution_count": 18,
   "id": "e9c43167",
   "metadata": {},
   "outputs": [
    {
     "name": "stdout",
     "output_type": "stream",
     "text": [
      "Number of features with less 5% corr. for bkg: 12\n"
     ]
    }
   ],
   "source": [
    "print(\"Number of features with less 5% corr. for bkg:\",\\\n",
    "      non_res_bkg.columns[abs(non_res_bkg.corrwith(features[\"m_yy\"]))<0.05].shape[0])"
   ]
  },
  {
   "cell_type": "code",
   "execution_count": 19,
   "id": "2528b0c6",
   "metadata": {},
   "outputs": [
    {
     "name": "stdout",
     "output_type": "stream",
     "text": [
      "Number of features with less 10% corr. for bkg: 19\n"
     ]
    }
   ],
   "source": [
    "print(\"Number of features with less 10% corr. for bkg:\",\\\n",
    "non_res_bkg.columns[abs(non_res_bkg.corrwith(features[\"m_yy\"]))<0.10].shape[0])"
   ]
  },
  {
   "cell_type": "code",
   "execution_count": 20,
   "id": "c0b590b2",
   "metadata": {},
   "outputs": [
    {
     "name": "stdout",
     "output_type": "stream",
     "text": [
      "Number of features with less 15% corr. for bkg: 22\n"
     ]
    }
   ],
   "source": [
    "print(\"Number of features with less 15% corr. for bkg:\",\\\n",
    "non_res_bkg.columns[non_res_bkg.corrwith(features[\"m_yy\"])<0.15].shape[0])"
   ]
  },
  {
   "cell_type": "code",
   "execution_count": 21,
   "id": "a63acfeb",
   "metadata": {},
   "outputs": [
    {
     "name": "stdout",
     "output_type": "stream",
     "text": [
      "Number of features with less 20% corr. for bkg: 28\n"
     ]
    }
   ],
   "source": [
    "print(\"Number of features with less 20% corr. for bkg:\",\\\n",
    "non_res_bkg.columns[non_res_bkg.corrwith(features[\"m_yy\"])<0.20].shape[0])"
   ]
  },
  {
   "cell_type": "code",
   "execution_count": 22,
   "id": "d57c4e09",
   "metadata": {},
   "outputs": [
    {
     "name": "stdout",
     "output_type": "stream",
     "text": [
      "Number of features with less 35% corr. for bkg: 31\n"
     ]
    }
   ],
   "source": [
    "print(\"Number of features with less 35% corr. for bkg:\",\\\n",
    "non_res_bkg.columns[non_res_bkg.corrwith(features[\"m_yy\"])<0.35].shape[0])"
   ]
  },
  {
   "cell_type": "code",
   "execution_count": 23,
   "id": "55a293c9",
   "metadata": {},
   "outputs": [],
   "source": [
    "#selection = non_res_bkg.columns[non_res_bkg.corrwith(features[\"m_yy\"])<0.05]"
   ]
  },
  {
   "cell_type": "markdown",
   "id": "77aba1d0",
   "metadata": {},
   "source": [
    "The correlation for all features with $m_{\\gamma \\gamma}$"
   ]
  },
  {
   "cell_type": "code",
   "execution_count": 24,
   "id": "78ff70ad",
   "metadata": {
    "scrolled": false
   },
   "outputs": [
    {
     "data": {
      "text/plain": [
       "delta_eta_j1_j2              -0.083124\n",
       "delta_y_j1_j2                -0.082942\n",
       "phi_star_yy                  -0.010001\n",
       "delta_rapidity_yy_jets       -0.003953\n",
       "delta_phi_j1_j2              -0.001753\n",
       "forward_jet_etas             -0.000775\n",
       "rapidity_yy                   0.000766\n",
       "eta_photon2                   0.001611\n",
       "eta_photon1                   0.002236\n",
       "eta_zepp                      0.003042\n",
       "m_j1_j2                       0.018897\n",
       "delta_phi_yy_jets             0.020330\n",
       "invariant_mass_jet_system     0.039217\n",
       "njets                         0.049167\n",
       "number_central_jets           0.065590\n",
       "pt_yy_j1                      0.071606\n",
       "pt_yy_jj                      0.080158\n",
       "cos_theta_star_yy             0.089883\n",
       "sum_pt_all_jets               0.098211\n",
       "pt_yy_thrust                  0.100098\n",
       "pt_highest_pt_jet             0.114288\n",
       "pt_j1_j2                      0.132315\n",
       "m_yy_jj                       0.159044\n",
       "sum_trans_energy_particles    0.179709\n",
       "pt_yy                         0.179806\n",
       "p_H_T                         0.179806\n",
       "m_yy_jF                       0.179847\n",
       "delta_eta_yy                  0.190741\n",
       "m_yy_j1                       0.204601\n",
       "pt_y1                         0.319860\n",
       "pt_y2                         0.347510\n",
       "m_yy                          1.000000\n",
       "signal                             NaN\n",
       "dtype: float64"
      ]
     },
     "execution_count": 24,
     "metadata": {},
     "output_type": "execute_result"
    }
   ],
   "source": [
    "non_res_bkg.corrwith(features[\"m_yy\"]).sort_values()"
   ]
  },
  {
   "cell_type": "markdown",
   "id": "bc725934",
   "metadata": {},
   "source": [
    "### Build & train combined model\n"
   ]
  },
  {
   "cell_type": "markdown",
   "id": "f35c0a56",
   "metadata": {},
   "source": [
    "Function to update the training variable selection"
   ]
  },
  {
   "cell_type": "code",
   "execution_count": 25,
   "id": "4173683d",
   "metadata": {},
   "outputs": [],
   "source": [
    "def select_var(corr):\n",
    "    selection = non_res_bkg.columns[non_res_bkg.corrwith(features[\"m_yy\"])<corr]\n",
    "    features_df = features[selection]\n",
    "\n",
    "    ### Separate features and target column\n",
    "    X = features_df\n",
    "    y = features[\"signal\"]\n",
    "    X.shape,y.shape\n",
    "    myy = features[\"m_yy\"].values\n",
    "\n",
    "    # Split data into training and testing sets\n",
    "    x_train, x_test, y_train, y_test, myy_train, myy_test = train_test_split(X, y.values, myy, test_size = 0.2, random_state = 5)\n",
    "\n",
    "    # Rescale diphoton invariant mass to [0,1]\n",
    "    sc_myy_train = myy_train - myy_train.min()\n",
    "    sc_myy_train /= myy_train.max()\n",
    "\n",
    "    ### Standardize\n",
    "    scalar = StandardScaler()\n",
    "    scalar.fit(x_train)\n",
    "    x_train = scalar.transform(x_train)\n",
    "    x_test = scalar.transform(x_test)\n",
    "\n",
    "    ### Fill missing values\n",
    "    x_train = np.nan_to_num(x_train,nan=0)\n",
    "    x_test = np.nan_to_num(x_test,nan=0)\n",
    "    return x_train,x_test,y_train,y_test,sc_myy_train,myy_test"
   ]
  },
  {
   "cell_type": "markdown",
   "id": "9774fbd5",
   "metadata": {},
   "source": [
    "Function to update the ANN for different regularisation parameters"
   ]
  },
  {
   "cell_type": "code",
   "execution_count": 26,
   "id": "b548b215",
   "metadata": {},
   "outputs": [],
   "source": [
    "def ANN_reg(reg):\n",
    "    # Number of samples, features, epochs & batch size\n",
    "    num_samples = x_train.shape[0]\n",
    "    num_feat = x_train.shape[1]\n",
    "    num_epochs = 200\n",
    "    batch = 5000\n",
    "\n",
    "    lambda_reg = reg             # Regularization parameter \n",
    "    num_gmm = 5                # Number of GMM components\n",
    "    lr = 1e-5                 # Relative learning rates for classifier and adversary\n",
    "\n",
    "    loss_weights = [lr, lambda_reg]\n",
    "\n",
    "    # Prepare sample weights (i.e. only do mass-decorrelation for background)\n",
    "    sample_weight = [np.ones(num_samples, dtype=float), (y_train == 0).astype(float)]\n",
    "    sample_weight[1] *= np.sum(sample_weight[0])/ np.sum(sample_weight[1])   \n",
    "\n",
    "    # Prepare class weights\n",
    "    weight = {0:1, 1:3.9,}    \n",
    "    class_weight = [weight, weight]\n",
    "\n",
    "\n",
    "    ## Define classifier, adversary & combined network\n",
    "\n",
    "    clf = classifier(num_feat)\n",
    "    adv = adversary(num_gmm)\n",
    "    ANN = combined(clf, adv, lambda_reg, lr)\n",
    "    return ANN,sample_weight,class_weight,loss_weights"
   ]
  },
  {
   "cell_type": "markdown",
   "id": "be3bff6b",
   "metadata": {},
   "source": [
    "The set of hyperparameters that will be tested"
   ]
  },
  {
   "cell_type": "code",
   "execution_count": 27,
   "id": "e7476831",
   "metadata": {},
   "outputs": [],
   "source": [
    "corrs = [0.05,0.1,0.2]\n",
    "regs = [0.1875,0.375,0.75,1.5,3,6]"
   ]
  },
  {
   "cell_type": "markdown",
   "id": "f7685478",
   "metadata": {},
   "source": [
    "The loop to test all of the hyperparameter combinations"
   ]
  },
  {
   "cell_type": "markdown",
   "id": "f24e091e",
   "metadata": {},
   "source": [
    "### Change filepath by removing \",trial6\" for the generated weights to be called later"
   ]
  },
  {
   "cell_type": "code",
   "execution_count": 28,
   "id": "6807bcab",
   "metadata": {
    "scrolled": true
   },
   "outputs": [
    {
     "name": "stdout",
     "output_type": "stream",
     "text": [
      "WARNING:tensorflow:From /opt/anaconda-2022.10/envs/daml/lib/python3.9/site-packages/tensorflow/python/autograph/converters/directives.py:126: The name tf.keras.backend.get_session is deprecated. Please use tf.compat.v1.keras.backend.get_session instead.\n",
      "\n",
      "WARNING:tensorflow:OMP_NUM_THREADS is no longer used by the default Keras config. To configure the number of threads, use tf.config.threading APIs.\n"
     ]
    },
    {
     "name": "stderr",
     "output_type": "stream",
     "text": [
      "2023-05-18 11:05:17.985710: I tensorflow/core/platform/cpu_feature_guard.cc:193] This TensorFlow binary is optimized with oneAPI Deep Neural Network Library (oneDNN) to use the following CPU instructions in performance-critical operations:  SSE4.1 SSE4.2 AVX AVX2 FMA\n",
      "To enable them in other operations, rebuild TensorFlow with the appropriate compiler flags.\n",
      "2023-05-18 11:05:17.994132: I tensorflow/compiler/mlir/mlir_graph_optimization_pass.cc:354] MLIR V1 optimization pass is not enabled\n"
     ]
    },
    {
     "name": "stdout",
     "output_type": "stream",
     "text": [
      "Train on 221926 samples, validate on 55482 samples\n",
      "Epoch 1/100\n",
      "\n",
      "Epoch 1: val_classifier_loss improved from inf to 0.88774, saving model to ANN_optimization_weights\\corr=0.05,reg=0.1875,trial6.hdf5\n"
     ]
    },
    {
     "name": "stderr",
     "output_type": "stream",
     "text": [
      "/opt/anaconda-2022.10/envs/daml/lib/python3.9/site-packages/keras/engine/training_v1.py:2332: UserWarning: `Model.state_updates` will be removed in a future version. This property should not be used in TensorFlow 2.0, as `updates` are applied automatically.\n",
      "  updates = self.state_updates\n"
     ]
    },
    {
     "name": "stdout",
     "output_type": "stream",
     "text": [
      "221926/221926 - 1s - loss: -5.1116e-02 - classifier_loss: 0.9680 - adversary_loss: -3.1753e-01 - val_loss: -7.8246e-01 - val_classifier_loss: 0.8877 - val_adversary_loss: -4.1698e+00 - 1s/epoch - 5us/sample\n",
      "Epoch 2/100\n",
      "\n",
      "Epoch 2: val_classifier_loss improved from 0.88774 to 0.77645, saving model to ANN_optimization_weights\\corr=0.05,reg=0.1875,trial6.hdf5\n",
      "221926/221926 - 1s - loss: -1.4684e+00 - classifier_loss: 0.8245 - adversary_loss: -7.8369e+00 - val_loss: -1.5596e+00 - val_classifier_loss: 0.7765 - val_adversary_loss: -8.3114e+00 - 919ms/epoch - 4us/sample\n",
      "Epoch 3/100\n",
      "\n",
      "Epoch 3: val_classifier_loss improved from 0.77645 to 0.71271, saving model to ANN_optimization_weights\\corr=0.05,reg=0.1875,trial6.hdf5\n",
      "221926/221926 - 1s - loss: -1.5378e+00 - classifier_loss: 0.7388 - adversary_loss: -8.2021e+00 - val_loss: -1.5361e+00 - val_classifier_loss: 0.7127 - val_adversary_loss: -8.2143e+00 - 631ms/epoch - 3us/sample\n",
      "Epoch 4/100\n",
      "\n",
      "Epoch 4: val_classifier_loss improved from 0.71271 to 0.69474, saving model to ANN_optimization_weights\\corr=0.05,reg=0.1875,trial6.hdf5\n",
      "221926/221926 - 1s - loss: -1.5825e+00 - classifier_loss: 0.7026 - adversary_loss: -8.4442e+00 - val_loss: -1.6282e+00 - val_classifier_loss: 0.6947 - val_adversary_loss: -8.6826e+00 - 639ms/epoch - 3us/sample\n",
      "Epoch 5/100\n",
      "\n",
      "Epoch 5: val_classifier_loss improved from 0.69474 to 0.67316, saving model to ANN_optimization_weights\\corr=0.05,reg=0.1875,trial6.hdf5\n",
      "221926/221926 - 1s - loss: -1.6475e+00 - classifier_loss: 0.6826 - adversary_loss: -8.7860e+00 - val_loss: -1.6500e+00 - val_classifier_loss: 0.6732 - val_adversary_loss: -8.7770e+00 - 634ms/epoch - 3us/sample\n",
      "Epoch 6/100\n",
      "\n",
      "Epoch 6: val_classifier_loss improved from 0.67316 to 0.66018, saving model to ANN_optimization_weights\\corr=0.05,reg=0.1875,trial6.hdf5\n",
      "221926/221926 - 1s - loss: -1.6554e+00 - classifier_loss: 0.6658 - adversary_loss: -8.8317e+00 - val_loss: -1.6585e+00 - val_classifier_loss: 0.6602 - val_adversary_loss: -8.8455e+00 - 629ms/epoch - 3us/sample\n",
      "Epoch 7/100\n",
      "\n",
      "Epoch 7: val_classifier_loss improved from 0.66018 to 0.64456, saving model to ANN_optimization_weights\\corr=0.05,reg=0.1875,trial6.hdf5\n",
      "221926/221926 - 1s - loss: -1.9255e+00 - classifier_loss: 0.6508 - adversary_loss: -1.0296e+01 - val_loss: -2.2722e+00 - val_classifier_loss: 0.6446 - val_adversary_loss: -1.2091e+01 - 863ms/epoch - 4us/sample\n",
      "Epoch 8/100\n",
      "\n",
      "Epoch 8: val_classifier_loss improved from 0.64456 to 0.62463, saving model to ANN_optimization_weights\\corr=0.05,reg=0.1875,trial6.hdf5\n",
      "221926/221926 - 1s - loss: -2.2921e+00 - classifier_loss: 0.6392 - adversary_loss: -1.2225e+01 - val_loss: -2.2975e+00 - val_classifier_loss: 0.6246 - val_adversary_loss: -1.2264e+01 - 651ms/epoch - 3us/sample\n",
      "Epoch 9/100\n",
      "\n",
      "Epoch 9: val_classifier_loss did not improve from 0.62463\n",
      "221926/221926 - 1s - loss: -2.3002e+00 - classifier_loss: 0.6287 - adversary_loss: -1.2264e+01 - val_loss: -2.2987e+00 - val_classifier_loss: 0.6253 - val_adversary_loss: -1.2264e+01 - 555ms/epoch - 2us/sample\n",
      "Epoch 10/100\n",
      "\n",
      "Epoch 10: val_classifier_loss improved from 0.62463 to 0.60854, saving model to ANN_optimization_weights\\corr=0.05,reg=0.1875,trial6.hdf5\n",
      "221926/221926 - 1s - loss: -2.3005e+00 - classifier_loss: 0.6193 - adversary_loss: -1.2270e+01 - val_loss: -2.2945e+00 - val_classifier_loss: 0.6085 - val_adversary_loss: -1.2224e+01 - 621ms/epoch - 3us/sample\n",
      "Epoch 11/100\n",
      "\n",
      "Epoch 11: val_classifier_loss improved from 0.60854 to 0.60036, saving model to ANN_optimization_weights\\corr=0.05,reg=0.1875,trial6.hdf5\n",
      "221926/221926 - 1s - loss: -2.3008e+00 - classifier_loss: 0.6103 - adversary_loss: -1.2273e+01 - val_loss: -2.2989e+00 - val_classifier_loss: 0.6004 - val_adversary_loss: -1.2281e+01 - 635ms/epoch - 3us/sample\n",
      "Epoch 12/100\n",
      "\n",
      "Epoch 12: val_classifier_loss improved from 0.60036 to 0.59202, saving model to ANN_optimization_weights\\corr=0.05,reg=0.1875,trial6.hdf5\n",
      "221926/221926 - 1s - loss: -2.3005e+00 - classifier_loss: 0.6053 - adversary_loss: -1.2266e+01 - val_loss: -2.2989e+00 - val_classifier_loss: 0.5920 - val_adversary_loss: -1.2244e+01 - 713ms/epoch - 3us/sample\n",
      "Epoch 13/100\n",
      "\n",
      "Epoch 13: val_classifier_loss improved from 0.59202 to 0.59045, saving model to ANN_optimization_weights\\corr=0.05,reg=0.1875,trial6.hdf5\n",
      "221926/221926 - 1s - loss: -2.3010e+00 - classifier_loss: 0.5977 - adversary_loss: -1.2275e+01 - val_loss: -2.2985e+00 - val_classifier_loss: 0.5904 - val_adversary_loss: -1.2257e+01 - 638ms/epoch - 3us/sample\n",
      "Epoch 14/100\n",
      "\n",
      "Epoch 14: val_classifier_loss improved from 0.59045 to 0.58900, saving model to ANN_optimization_weights\\corr=0.05,reg=0.1875,trial6.hdf5\n",
      "221926/221926 - 1s - loss: -2.3011e+00 - classifier_loss: 0.5927 - adversary_loss: -1.2271e+01 - val_loss: -2.2928e+00 - val_classifier_loss: 0.5890 - val_adversary_loss: -1.2226e+01 - 647ms/epoch - 3us/sample\n",
      "Epoch 15/100\n",
      "\n",
      "Epoch 15: val_classifier_loss improved from 0.58900 to 0.58290, saving model to ANN_optimization_weights\\corr=0.05,reg=0.1875,trial6.hdf5\n",
      "221926/221926 - 1s - loss: -2.3004e+00 - classifier_loss: 0.5886 - adversary_loss: -1.2270e+01 - val_loss: -2.2991e+00 - val_classifier_loss: 0.5829 - val_adversary_loss: -1.2239e+01 - 633ms/epoch - 3us/sample\n",
      "Epoch 16/100\n",
      "\n",
      "Epoch 16: val_classifier_loss improved from 0.58290 to 0.57672, saving model to ANN_optimization_weights\\corr=0.05,reg=0.1875,trial6.hdf5\n",
      "221926/221926 - 1s - loss: -2.3013e+00 - classifier_loss: 0.5835 - adversary_loss: -1.2273e+01 - val_loss: -2.2979e+00 - val_classifier_loss: 0.5767 - val_adversary_loss: -1.2263e+01 - 625ms/epoch - 3us/sample\n",
      "Epoch 17/100\n",
      "\n",
      "Epoch 17: val_classifier_loss improved from 0.57672 to 0.57438, saving model to ANN_optimization_weights\\corr=0.05,reg=0.1875,trial6.hdf5\n",
      "221926/221926 - 1s - loss: -2.3000e+00 - classifier_loss: 0.5799 - adversary_loss: -1.2266e+01 - val_loss: -2.2969e+00 - val_classifier_loss: 0.5744 - val_adversary_loss: -1.2253e+01 - 890ms/epoch - 4us/sample\n",
      "Epoch 18/100\n",
      "\n",
      "Epoch 18: val_classifier_loss improved from 0.57438 to 0.56047, saving model to ANN_optimization_weights\\corr=0.05,reg=0.1875,trial6.hdf5\n",
      "221926/221926 - 1s - loss: -2.2987e+00 - classifier_loss: 0.5767 - adversary_loss: -1.2260e+01 - val_loss: -2.2919e+00 - val_classifier_loss: 0.5605 - val_adversary_loss: -1.2248e+01 - 636ms/epoch - 3us/sample\n",
      "Epoch 19/100\n",
      "\n",
      "Epoch 19: val_classifier_loss did not improve from 0.56047\n",
      "221926/221926 - 1s - loss: -2.3007e+00 - classifier_loss: 0.5729 - adversary_loss: -1.2270e+01 - val_loss: -2.2983e+00 - val_classifier_loss: 0.5660 - val_adversary_loss: -1.2260e+01 - 560ms/epoch - 3us/sample\n",
      "Epoch 20/100\n",
      "\n",
      "Epoch 20: val_classifier_loss did not improve from 0.56047\n",
      "221926/221926 - 1s - loss: -2.3016e+00 - classifier_loss: 0.5708 - adversary_loss: -1.2274e+01 - val_loss: -2.2986e+00 - val_classifier_loss: 0.5646 - val_adversary_loss: -1.2231e+01 - 558ms/epoch - 3us/sample\n",
      "Epoch 21/100\n",
      "\n",
      "Epoch 21: val_classifier_loss improved from 0.56047 to 0.55564, saving model to ANN_optimization_weights\\corr=0.05,reg=0.1875,trial6.hdf5\n",
      "221926/221926 - 1s - loss: -2.2992e+00 - classifier_loss: 0.5681 - adversary_loss: -1.2259e+01 - val_loss: -2.2990e+00 - val_classifier_loss: 0.5556 - val_adversary_loss: -1.2224e+01 - 632ms/epoch - 3us/sample\n",
      "Epoch 22/100\n",
      "\n",
      "Epoch 22: val_classifier_loss did not improve from 0.55564\n",
      "221926/221926 - 1s - loss: -2.3001e+00 - classifier_loss: 0.5654 - adversary_loss: -1.2270e+01 - val_loss: -2.2976e+00 - val_classifier_loss: 0.5562 - val_adversary_loss: -1.2266e+01 - 547ms/epoch - 2us/sample\n",
      "Epoch 23/100\n",
      "\n",
      "Epoch 23: val_classifier_loss did not improve from 0.55564\n",
      "221926/221926 - 1s - loss: -2.3012e+00 - classifier_loss: 0.5632 - adversary_loss: -1.2273e+01 - val_loss: -2.2965e+00 - val_classifier_loss: 0.5573 - val_adversary_loss: -1.2248e+01 - 558ms/epoch - 3us/sample\n",
      "Epoch 24/100\n"
     ]
    },
    {
     "ename": "KeyboardInterrupt",
     "evalue": "",
     "output_type": "error",
     "traceback": [
      "\u001b[0;31m---------------------------------------------------------------------------\u001b[0m",
      "\u001b[0;31mKeyboardInterrupt\u001b[0m                         Traceback (most recent call last)",
      "Cell \u001b[0;32mIn[28], line 30\u001b[0m\n\u001b[1;32m     27\u001b[0m ANN\u001b[38;5;241m.\u001b[39mcompile(optimizer\u001b[38;5;241m=\u001b[39m\u001b[38;5;124m\"\u001b[39m\u001b[38;5;124madam\u001b[39m\u001b[38;5;124m\"\u001b[39m, loss\u001b[38;5;241m=\u001b[39m[\u001b[38;5;124m\"\u001b[39m\u001b[38;5;124mbinary_crossentropy\u001b[39m\u001b[38;5;124m\"\u001b[39m, custom_loss], loss_weights \u001b[38;5;241m=\u001b[39m loss_weights)\n\u001b[1;32m     29\u001b[0m \u001b[38;5;66;03m# Configure training details\u001b[39;00m\n\u001b[0;32m---> 30\u001b[0m hist_ANN \u001b[38;5;241m=\u001b[39m \u001b[43mANN\u001b[49m\u001b[38;5;241;43m.\u001b[39;49m\u001b[43mfit\u001b[49m\u001b[43m(\u001b[49m\u001b[43m[\u001b[49m\u001b[43mx_train\u001b[49m\u001b[43m,\u001b[49m\u001b[43m \u001b[49m\u001b[43msc_myy_train\u001b[49m\u001b[43m]\u001b[49m\u001b[43m,\u001b[49m\u001b[43m \u001b[49m\u001b[43m[\u001b[49m\u001b[43my_train\u001b[49m\u001b[43m,\u001b[49m\u001b[43m \u001b[49m\u001b[43mnp\u001b[49m\u001b[38;5;241;43m.\u001b[39;49m\u001b[43mones_like\u001b[49m\u001b[43m(\u001b[49m\u001b[43msc_myy_train\u001b[49m\u001b[43m)\u001b[49m\u001b[43m]\u001b[49m\u001b[43m,\u001b[49m\u001b[43m \u001b[49m\n\u001b[1;32m     31\u001b[0m \u001b[43m   \u001b[49m\u001b[43msample_weight\u001b[49m\u001b[43m \u001b[49m\u001b[38;5;241;43m=\u001b[39;49m\u001b[43m \u001b[49m\u001b[43msample_weight\u001b[49m\u001b[43m,\u001b[49m\u001b[43m \u001b[49m\u001b[43mepochs\u001b[49m\u001b[43m \u001b[49m\u001b[38;5;241;43m=\u001b[39;49m\u001b[43m \u001b[49m\u001b[38;5;241;43m100\u001b[39;49m\u001b[43m,\u001b[49m\u001b[43m \u001b[49m\u001b[43mbatch_size\u001b[49m\u001b[43m \u001b[49m\u001b[38;5;241;43m=\u001b[39;49m\u001b[43m \u001b[49m\u001b[38;5;241;43m5000\u001b[39;49m\u001b[43m,\u001b[49m\u001b[43m \u001b[49m\n\u001b[1;32m     32\u001b[0m \u001b[43m   \u001b[49m\u001b[43mvalidation_split\u001b[49m\u001b[43m \u001b[49m\u001b[38;5;241;43m=\u001b[39;49m\u001b[43m \u001b[49m\u001b[38;5;241;43m0.2\u001b[39;49m\u001b[43m,\u001b[49m\u001b[43m \u001b[49m\u001b[43mclass_weight\u001b[49m\u001b[43m \u001b[49m\u001b[38;5;241;43m=\u001b[39;49m\u001b[43m \u001b[49m\u001b[43mclass_weight\u001b[49m\u001b[43m,\u001b[49m\u001b[43m \u001b[49m\u001b[43mverbose\u001b[49m\u001b[43m \u001b[49m\u001b[38;5;241;43m=\u001b[39;49m\u001b[43m \u001b[49m\u001b[38;5;241;43m2\u001b[39;49m\u001b[43m,\u001b[49m\u001b[43mcallbacks\u001b[49m\u001b[38;5;241;43m=\u001b[39;49m\u001b[43mmy_callbacks\u001b[49m\u001b[43m)\u001b[49m\n\u001b[1;32m     33\u001b[0m \u001b[38;5;66;03m# Save lowest val_loss of each model\u001b[39;00m\n\u001b[1;32m     34\u001b[0m min_val_loss \u001b[38;5;241m=\u001b[39m np\u001b[38;5;241m.\u001b[39mappend(min_val_loss,\u001b[38;5;28mmin\u001b[39m(hist_ANN\u001b[38;5;241m.\u001b[39mhistory[\u001b[38;5;124m\"\u001b[39m\u001b[38;5;124mval_classifier_loss\u001b[39m\u001b[38;5;124m\"\u001b[39m]))\n",
      "File \u001b[0;32m/opt/anaconda-2022.10/envs/daml/lib/python3.9/site-packages/keras/engine/training_v1.py:855\u001b[0m, in \u001b[0;36mModel.fit\u001b[0;34m(self, x, y, batch_size, epochs, verbose, callbacks, validation_split, validation_data, shuffle, class_weight, sample_weight, initial_epoch, steps_per_epoch, validation_steps, validation_freq, max_queue_size, workers, use_multiprocessing, **kwargs)\u001b[0m\n\u001b[1;32m    852\u001b[0m \u001b[38;5;28mself\u001b[39m\u001b[38;5;241m.\u001b[39m_check_call_args(\u001b[38;5;124m\"\u001b[39m\u001b[38;5;124mfit\u001b[39m\u001b[38;5;124m\"\u001b[39m)\n\u001b[1;32m    854\u001b[0m func \u001b[38;5;241m=\u001b[39m \u001b[38;5;28mself\u001b[39m\u001b[38;5;241m.\u001b[39m_select_training_loop(x)\n\u001b[0;32m--> 855\u001b[0m \u001b[38;5;28;01mreturn\u001b[39;00m \u001b[43mfunc\u001b[49m\u001b[38;5;241;43m.\u001b[39;49m\u001b[43mfit\u001b[49m\u001b[43m(\u001b[49m\n\u001b[1;32m    856\u001b[0m \u001b[43m    \u001b[49m\u001b[38;5;28;43mself\u001b[39;49m\u001b[43m,\u001b[49m\n\u001b[1;32m    857\u001b[0m \u001b[43m    \u001b[49m\u001b[43mx\u001b[49m\u001b[38;5;241;43m=\u001b[39;49m\u001b[43mx\u001b[49m\u001b[43m,\u001b[49m\n\u001b[1;32m    858\u001b[0m \u001b[43m    \u001b[49m\u001b[43my\u001b[49m\u001b[38;5;241;43m=\u001b[39;49m\u001b[43my\u001b[49m\u001b[43m,\u001b[49m\n\u001b[1;32m    859\u001b[0m \u001b[43m    \u001b[49m\u001b[43mbatch_size\u001b[49m\u001b[38;5;241;43m=\u001b[39;49m\u001b[43mbatch_size\u001b[49m\u001b[43m,\u001b[49m\n\u001b[1;32m    860\u001b[0m \u001b[43m    \u001b[49m\u001b[43mepochs\u001b[49m\u001b[38;5;241;43m=\u001b[39;49m\u001b[43mepochs\u001b[49m\u001b[43m,\u001b[49m\n\u001b[1;32m    861\u001b[0m \u001b[43m    \u001b[49m\u001b[43mverbose\u001b[49m\u001b[38;5;241;43m=\u001b[39;49m\u001b[43mverbose\u001b[49m\u001b[43m,\u001b[49m\n\u001b[1;32m    862\u001b[0m \u001b[43m    \u001b[49m\u001b[43mcallbacks\u001b[49m\u001b[38;5;241;43m=\u001b[39;49m\u001b[43mcallbacks\u001b[49m\u001b[43m,\u001b[49m\n\u001b[1;32m    863\u001b[0m \u001b[43m    \u001b[49m\u001b[43mvalidation_split\u001b[49m\u001b[38;5;241;43m=\u001b[39;49m\u001b[43mvalidation_split\u001b[49m\u001b[43m,\u001b[49m\n\u001b[1;32m    864\u001b[0m \u001b[43m    \u001b[49m\u001b[43mvalidation_data\u001b[49m\u001b[38;5;241;43m=\u001b[39;49m\u001b[43mvalidation_data\u001b[49m\u001b[43m,\u001b[49m\n\u001b[1;32m    865\u001b[0m \u001b[43m    \u001b[49m\u001b[43mshuffle\u001b[49m\u001b[38;5;241;43m=\u001b[39;49m\u001b[43mshuffle\u001b[49m\u001b[43m,\u001b[49m\n\u001b[1;32m    866\u001b[0m \u001b[43m    \u001b[49m\u001b[43mclass_weight\u001b[49m\u001b[38;5;241;43m=\u001b[39;49m\u001b[43mclass_weight\u001b[49m\u001b[43m,\u001b[49m\n\u001b[1;32m    867\u001b[0m \u001b[43m    \u001b[49m\u001b[43msample_weight\u001b[49m\u001b[38;5;241;43m=\u001b[39;49m\u001b[43msample_weight\u001b[49m\u001b[43m,\u001b[49m\n\u001b[1;32m    868\u001b[0m \u001b[43m    \u001b[49m\u001b[43minitial_epoch\u001b[49m\u001b[38;5;241;43m=\u001b[39;49m\u001b[43minitial_epoch\u001b[49m\u001b[43m,\u001b[49m\n\u001b[1;32m    869\u001b[0m \u001b[43m    \u001b[49m\u001b[43msteps_per_epoch\u001b[49m\u001b[38;5;241;43m=\u001b[39;49m\u001b[43msteps_per_epoch\u001b[49m\u001b[43m,\u001b[49m\n\u001b[1;32m    870\u001b[0m \u001b[43m    \u001b[49m\u001b[43mvalidation_steps\u001b[49m\u001b[38;5;241;43m=\u001b[39;49m\u001b[43mvalidation_steps\u001b[49m\u001b[43m,\u001b[49m\n\u001b[1;32m    871\u001b[0m \u001b[43m    \u001b[49m\u001b[43mvalidation_freq\u001b[49m\u001b[38;5;241;43m=\u001b[39;49m\u001b[43mvalidation_freq\u001b[49m\u001b[43m,\u001b[49m\n\u001b[1;32m    872\u001b[0m \u001b[43m    \u001b[49m\u001b[43mmax_queue_size\u001b[49m\u001b[38;5;241;43m=\u001b[39;49m\u001b[43mmax_queue_size\u001b[49m\u001b[43m,\u001b[49m\n\u001b[1;32m    873\u001b[0m \u001b[43m    \u001b[49m\u001b[43mworkers\u001b[49m\u001b[38;5;241;43m=\u001b[39;49m\u001b[43mworkers\u001b[49m\u001b[43m,\u001b[49m\n\u001b[1;32m    874\u001b[0m \u001b[43m    \u001b[49m\u001b[43muse_multiprocessing\u001b[49m\u001b[38;5;241;43m=\u001b[39;49m\u001b[43muse_multiprocessing\u001b[49m\u001b[43m,\u001b[49m\n\u001b[1;32m    875\u001b[0m \u001b[43m\u001b[49m\u001b[43m)\u001b[49m\n",
      "File \u001b[0;32m/opt/anaconda-2022.10/envs/daml/lib/python3.9/site-packages/keras/engine/training_arrays_v1.py:734\u001b[0m, in \u001b[0;36mArrayLikeTrainingLoop.fit\u001b[0;34m(self, model, x, y, batch_size, epochs, verbose, callbacks, validation_split, validation_data, shuffle, class_weight, sample_weight, initial_epoch, steps_per_epoch, validation_steps, validation_freq, **kwargs)\u001b[0m\n\u001b[1;32m    728\u001b[0m         \u001b[38;5;28;01mraise\u001b[39;00m \u001b[38;5;167;01mValueError\u001b[39;00m(\n\u001b[1;32m    729\u001b[0m             \u001b[38;5;124m\"\u001b[39m\u001b[38;5;124m`validation_steps` should not be specified if \u001b[39m\u001b[38;5;124m\"\u001b[39m\n\u001b[1;32m    730\u001b[0m             \u001b[38;5;124m\"\u001b[39m\u001b[38;5;124m`validation_data` is None.\u001b[39m\u001b[38;5;124m\"\u001b[39m\n\u001b[1;32m    731\u001b[0m         )\n\u001b[1;32m    732\u001b[0m     val_x, val_y, val_sample_weights \u001b[38;5;241m=\u001b[39m \u001b[38;5;28;01mNone\u001b[39;00m, \u001b[38;5;28;01mNone\u001b[39;00m, \u001b[38;5;28;01mNone\u001b[39;00m\n\u001b[0;32m--> 734\u001b[0m \u001b[38;5;28;01mreturn\u001b[39;00m \u001b[43mfit_loop\u001b[49m\u001b[43m(\u001b[49m\n\u001b[1;32m    735\u001b[0m \u001b[43m    \u001b[49m\u001b[43mmodel\u001b[49m\u001b[43m,\u001b[49m\n\u001b[1;32m    736\u001b[0m \u001b[43m    \u001b[49m\u001b[43minputs\u001b[49m\u001b[38;5;241;43m=\u001b[39;49m\u001b[43mx\u001b[49m\u001b[43m,\u001b[49m\n\u001b[1;32m    737\u001b[0m \u001b[43m    \u001b[49m\u001b[43mtargets\u001b[49m\u001b[38;5;241;43m=\u001b[39;49m\u001b[43my\u001b[49m\u001b[43m,\u001b[49m\n\u001b[1;32m    738\u001b[0m \u001b[43m    \u001b[49m\u001b[43msample_weights\u001b[49m\u001b[38;5;241;43m=\u001b[39;49m\u001b[43msample_weights\u001b[49m\u001b[43m,\u001b[49m\n\u001b[1;32m    739\u001b[0m \u001b[43m    \u001b[49m\u001b[43mbatch_size\u001b[49m\u001b[38;5;241;43m=\u001b[39;49m\u001b[43mbatch_size\u001b[49m\u001b[43m,\u001b[49m\n\u001b[1;32m    740\u001b[0m \u001b[43m    \u001b[49m\u001b[43mepochs\u001b[49m\u001b[38;5;241;43m=\u001b[39;49m\u001b[43mepochs\u001b[49m\u001b[43m,\u001b[49m\n\u001b[1;32m    741\u001b[0m \u001b[43m    \u001b[49m\u001b[43mverbose\u001b[49m\u001b[38;5;241;43m=\u001b[39;49m\u001b[43mverbose\u001b[49m\u001b[43m,\u001b[49m\n\u001b[1;32m    742\u001b[0m \u001b[43m    \u001b[49m\u001b[43mcallbacks\u001b[49m\u001b[38;5;241;43m=\u001b[39;49m\u001b[43mcallbacks\u001b[49m\u001b[43m,\u001b[49m\n\u001b[1;32m    743\u001b[0m \u001b[43m    \u001b[49m\u001b[43mval_inputs\u001b[49m\u001b[38;5;241;43m=\u001b[39;49m\u001b[43mval_x\u001b[49m\u001b[43m,\u001b[49m\n\u001b[1;32m    744\u001b[0m \u001b[43m    \u001b[49m\u001b[43mval_targets\u001b[49m\u001b[38;5;241;43m=\u001b[39;49m\u001b[43mval_y\u001b[49m\u001b[43m,\u001b[49m\n\u001b[1;32m    745\u001b[0m \u001b[43m    \u001b[49m\u001b[43mval_sample_weights\u001b[49m\u001b[38;5;241;43m=\u001b[39;49m\u001b[43mval_sample_weights\u001b[49m\u001b[43m,\u001b[49m\n\u001b[1;32m    746\u001b[0m \u001b[43m    \u001b[49m\u001b[43mshuffle\u001b[49m\u001b[38;5;241;43m=\u001b[39;49m\u001b[43mshuffle\u001b[49m\u001b[43m,\u001b[49m\n\u001b[1;32m    747\u001b[0m \u001b[43m    \u001b[49m\u001b[43minitial_epoch\u001b[49m\u001b[38;5;241;43m=\u001b[39;49m\u001b[43minitial_epoch\u001b[49m\u001b[43m,\u001b[49m\n\u001b[1;32m    748\u001b[0m \u001b[43m    \u001b[49m\u001b[43msteps_per_epoch\u001b[49m\u001b[38;5;241;43m=\u001b[39;49m\u001b[43msteps_per_epoch\u001b[49m\u001b[43m,\u001b[49m\n\u001b[1;32m    749\u001b[0m \u001b[43m    \u001b[49m\u001b[43mvalidation_steps\u001b[49m\u001b[38;5;241;43m=\u001b[39;49m\u001b[43mvalidation_steps\u001b[49m\u001b[43m,\u001b[49m\n\u001b[1;32m    750\u001b[0m \u001b[43m    \u001b[49m\u001b[43mvalidation_freq\u001b[49m\u001b[38;5;241;43m=\u001b[39;49m\u001b[43mvalidation_freq\u001b[49m\u001b[43m,\u001b[49m\n\u001b[1;32m    751\u001b[0m \u001b[43m    \u001b[49m\u001b[43msteps_name\u001b[49m\u001b[38;5;241;43m=\u001b[39;49m\u001b[38;5;124;43m\"\u001b[39;49m\u001b[38;5;124;43msteps_per_epoch\u001b[39;49m\u001b[38;5;124;43m\"\u001b[39;49m\u001b[43m,\u001b[49m\n\u001b[1;32m    752\u001b[0m \u001b[43m\u001b[49m\u001b[43m)\u001b[49m\n",
      "File \u001b[0;32m/opt/anaconda-2022.10/envs/daml/lib/python3.9/site-packages/keras/engine/training_arrays_v1.py:419\u001b[0m, in \u001b[0;36mmodel_iteration\u001b[0;34m(model, inputs, targets, sample_weights, batch_size, epochs, verbose, callbacks, val_inputs, val_targets, val_sample_weights, shuffle, initial_epoch, steps_per_epoch, validation_steps, validation_freq, mode, validation_in_fit, prepared_feed_values_from_dataset, steps_name, **kwargs)\u001b[0m\n\u001b[1;32m    414\u001b[0m callbacks\u001b[38;5;241m.\u001b[39m_call_batch_hook(\n\u001b[1;32m    415\u001b[0m     mode, \u001b[38;5;124m\"\u001b[39m\u001b[38;5;124mbegin\u001b[39m\u001b[38;5;124m\"\u001b[39m, batch_index, batch_logs\n\u001b[1;32m    416\u001b[0m )\n\u001b[1;32m    418\u001b[0m \u001b[38;5;66;03m# Get outputs.\u001b[39;00m\n\u001b[0;32m--> 419\u001b[0m batch_outs \u001b[38;5;241m=\u001b[39m \u001b[43mf\u001b[49m\u001b[43m(\u001b[49m\u001b[43mins_batch\u001b[49m\u001b[43m)\u001b[49m\n\u001b[1;32m    420\u001b[0m \u001b[38;5;28;01mif\u001b[39;00m \u001b[38;5;129;01mnot\u001b[39;00m \u001b[38;5;28misinstance\u001b[39m(batch_outs, \u001b[38;5;28mlist\u001b[39m):\n\u001b[1;32m    421\u001b[0m     batch_outs \u001b[38;5;241m=\u001b[39m [batch_outs]\n",
      "File \u001b[0;32m/opt/anaconda-2022.10/envs/daml/lib/python3.9/site-packages/keras/backend.py:4577\u001b[0m, in \u001b[0;36mGraphExecutionFunction.__call__\u001b[0;34m(self, inputs)\u001b[0m\n\u001b[1;32m   4567\u001b[0m \u001b[38;5;28;01mif\u001b[39;00m (\n\u001b[1;32m   4568\u001b[0m     \u001b[38;5;28mself\u001b[39m\u001b[38;5;241m.\u001b[39m_callable_fn \u001b[38;5;129;01mis\u001b[39;00m \u001b[38;5;28;01mNone\u001b[39;00m\n\u001b[1;32m   4569\u001b[0m     \u001b[38;5;129;01mor\u001b[39;00m feed_arrays \u001b[38;5;241m!=\u001b[39m \u001b[38;5;28mself\u001b[39m\u001b[38;5;241m.\u001b[39m_feed_arrays\n\u001b[0;32m   (...)\u001b[0m\n\u001b[1;32m   4573\u001b[0m     \u001b[38;5;129;01mor\u001b[39;00m session \u001b[38;5;241m!=\u001b[39m \u001b[38;5;28mself\u001b[39m\u001b[38;5;241m.\u001b[39m_session\n\u001b[1;32m   4574\u001b[0m ):\n\u001b[1;32m   4575\u001b[0m     \u001b[38;5;28mself\u001b[39m\u001b[38;5;241m.\u001b[39m_make_callable(feed_arrays, feed_symbols, symbol_vals, session)\n\u001b[0;32m-> 4577\u001b[0m fetched \u001b[38;5;241m=\u001b[39m \u001b[38;5;28;43mself\u001b[39;49m\u001b[38;5;241;43m.\u001b[39;49m\u001b[43m_callable_fn\u001b[49m\u001b[43m(\u001b[49m\u001b[38;5;241;43m*\u001b[39;49m\u001b[43marray_vals\u001b[49m\u001b[43m,\u001b[49m\u001b[43m \u001b[49m\u001b[43mrun_metadata\u001b[49m\u001b[38;5;241;43m=\u001b[39;49m\u001b[38;5;28;43mself\u001b[39;49m\u001b[38;5;241;43m.\u001b[39;49m\u001b[43mrun_metadata\u001b[49m\u001b[43m)\u001b[49m\n\u001b[1;32m   4578\u001b[0m \u001b[38;5;28mself\u001b[39m\u001b[38;5;241m.\u001b[39m_call_fetch_callbacks(fetched[\u001b[38;5;241m-\u001b[39m\u001b[38;5;28mlen\u001b[39m(\u001b[38;5;28mself\u001b[39m\u001b[38;5;241m.\u001b[39m_fetches) :])\n\u001b[1;32m   4579\u001b[0m output_structure \u001b[38;5;241m=\u001b[39m tf\u001b[38;5;241m.\u001b[39mnest\u001b[38;5;241m.\u001b[39mpack_sequence_as(\n\u001b[1;32m   4580\u001b[0m     \u001b[38;5;28mself\u001b[39m\u001b[38;5;241m.\u001b[39m_outputs_structure,\n\u001b[1;32m   4581\u001b[0m     fetched[: \u001b[38;5;28mlen\u001b[39m(\u001b[38;5;28mself\u001b[39m\u001b[38;5;241m.\u001b[39moutputs)],\n\u001b[1;32m   4582\u001b[0m     expand_composites\u001b[38;5;241m=\u001b[39m\u001b[38;5;28;01mTrue\u001b[39;00m,\n\u001b[1;32m   4583\u001b[0m )\n",
      "File \u001b[0;32m/opt/anaconda-2022.10/envs/daml/lib/python3.9/site-packages/tensorflow/python/client/session.py:1481\u001b[0m, in \u001b[0;36mBaseSession._Callable.__call__\u001b[0;34m(self, *args, **kwargs)\u001b[0m\n\u001b[1;32m   1479\u001b[0m \u001b[38;5;28;01mtry\u001b[39;00m:\n\u001b[1;32m   1480\u001b[0m   run_metadata_ptr \u001b[38;5;241m=\u001b[39m tf_session\u001b[38;5;241m.\u001b[39mTF_NewBuffer() \u001b[38;5;28;01mif\u001b[39;00m run_metadata \u001b[38;5;28;01melse\u001b[39;00m \u001b[38;5;28;01mNone\u001b[39;00m\n\u001b[0;32m-> 1481\u001b[0m   ret \u001b[38;5;241m=\u001b[39m \u001b[43mtf_session\u001b[49m\u001b[38;5;241;43m.\u001b[39;49m\u001b[43mTF_SessionRunCallable\u001b[49m\u001b[43m(\u001b[49m\u001b[38;5;28;43mself\u001b[39;49m\u001b[38;5;241;43m.\u001b[39;49m\u001b[43m_session\u001b[49m\u001b[38;5;241;43m.\u001b[39;49m\u001b[43m_session\u001b[49m\u001b[43m,\u001b[49m\n\u001b[1;32m   1482\u001b[0m \u001b[43m                                         \u001b[49m\u001b[38;5;28;43mself\u001b[39;49m\u001b[38;5;241;43m.\u001b[39;49m\u001b[43m_handle\u001b[49m\u001b[43m,\u001b[49m\u001b[43m \u001b[49m\u001b[43margs\u001b[49m\u001b[43m,\u001b[49m\n\u001b[1;32m   1483\u001b[0m \u001b[43m                                         \u001b[49m\u001b[43mrun_metadata_ptr\u001b[49m\u001b[43m)\u001b[49m\n\u001b[1;32m   1484\u001b[0m   \u001b[38;5;28;01mif\u001b[39;00m run_metadata:\n\u001b[1;32m   1485\u001b[0m     proto_data \u001b[38;5;241m=\u001b[39m tf_session\u001b[38;5;241m.\u001b[39mTF_GetBuffer(run_metadata_ptr)\n",
      "\u001b[0;31mKeyboardInterrupt\u001b[0m: "
     ]
    }
   ],
   "source": [
    "min_val_loss = np.array([])\n",
    "# Loop over all possible combinations of chosen hyperparameter values\n",
    "for corr in corrs:\n",
    "    for reg in regs:\n",
    "                # Select training variables\n",
    "                x_train,x_test,y_train,y_test,sc_myy_train,myy_test = select_var(corr)\n",
    "                # Save each model weights and stop training early if no improvement after 10 epochs\n",
    "                my_callbacks = [\n",
    "                    ModelCheckpoint(\n",
    "                    filepath=\"ANN_optimization_weights\\corr={},reg={},trial6.hdf5\".format(corr,reg),\n",
    "                    save_weights_only=True,\n",
    "                    monitor=\"val_classifier_loss\",\n",
    "                    save_freq=\"epoch\",\n",
    "                    save_best_only=True,\n",
    "                    mode=\"auto\",\n",
    "                    verbose=True)]\n",
    "\n",
    "                # Set model paramters\n",
    "                ANN,sample_weight,class_weight,loss_weights = ANN_reg(reg)\n",
    "                \n",
    "                ANN.compile(optimizer=\"adam\", loss=[\"binary_crossentropy\", custom_loss], loss_weights = loss_weights)\n",
    "\n",
    "                # Configure training details\n",
    "                hist_ANN = ANN.fit([x_train, sc_myy_train], [y_train, np.ones_like(sc_myy_train)], \n",
    "                   sample_weight = sample_weight, epochs = 100, batch_size = 5000, \n",
    "                   validation_split = 0.2, class_weight = class_weight, verbose = 2,callbacks=my_callbacks)\n",
    "                # Save lowest val_loss of each model\n",
    "                min_val_loss = np.append(min_val_loss,min(hist_ANN.history[\"val_classifier_loss\"]))\n",
    "                \n",
    "np.savetxt(\"min_val_loss\",min_val_loss)"
   ]
  },
  {
   "cell_type": "markdown",
   "id": "c2b18afc",
   "metadata": {},
   "source": [
    "### Carry out analysis on the hyperparameter optimisation results"
   ]
  },
  {
   "cell_type": "code",
   "execution_count": 117,
   "id": "86468bff",
   "metadata": {},
   "outputs": [],
   "source": [
    "corrs = [0.05,0.1,0.2]\n",
    "regs = [0.1875,0.375,0.75,1.5,3,6]"
   ]
  },
  {
   "cell_type": "code",
   "execution_count": 116,
   "id": "8a76d7e3",
   "metadata": {},
   "outputs": [],
   "source": [
    "#Best model values\n",
    "# corrs = [0.1]\n",
    "# regs = [0.1875]"
   ]
  },
  {
   "cell_type": "code",
   "execution_count": 172,
   "id": "841a0bce",
   "metadata": {
    "scrolled": false
   },
   "outputs": [
    {
     "name": "stderr",
     "output_type": "stream",
     "text": [
      "/opt/anaconda-2022.10/envs/daml/lib/python3.9/site-packages/keras/engine/training_v1.py:2356: UserWarning: `Model.state_updates` will be removed in a future version. This property should not be used in TensorFlow 2.0, as `updates` are applied automatically.\n",
      "  updates=self.state_updates,\n"
     ]
    },
    {
     "name": "stdout",
     "output_type": "stream",
     "text": [
      "Accuracy:  0.8372384756247027\n",
      "JSD inclusive=  0.000686180079355836\n",
      "JSD higgs region=  0.00028834561817348003\n"
     ]
    },
    {
     "name": "stderr",
     "output_type": "stream",
     "text": [
      "/opt/anaconda-2022.10/envs/daml/lib/python3.9/site-packages/keras/engine/training_v1.py:2356: UserWarning: `Model.state_updates` will be removed in a future version. This property should not be used in TensorFlow 2.0, as `updates` are applied automatically.\n",
      "  updates=self.state_updates,\n"
     ]
    },
    {
     "name": "stdout",
     "output_type": "stream",
     "text": [
      "Accuracy:  0.8376133692846741\n",
      "JSD inclusive=  0.0006255505140870808\n",
      "JSD higgs region=  0.00028696912340819836\n"
     ]
    },
    {
     "name": "stderr",
     "output_type": "stream",
     "text": [
      "/opt/anaconda-2022.10/envs/daml/lib/python3.9/site-packages/keras/engine/training_v1.py:2356: UserWarning: `Model.state_updates` will be removed in a future version. This property should not be used in TensorFlow 2.0, as `updates` are applied automatically.\n",
      "  updates=self.state_updates,\n"
     ]
    },
    {
     "name": "stdout",
     "output_type": "stream",
     "text": [
      "Accuracy:  0.8416506856228282\n",
      "JSD inclusive=  0.0005992315127514303\n",
      "JSD higgs region=  0.00027957523707300425\n"
     ]
    },
    {
     "name": "stderr",
     "output_type": "stream",
     "text": [
      "/opt/anaconda-2022.10/envs/daml/lib/python3.9/site-packages/keras/engine/training_v1.py:2356: UserWarning: `Model.state_updates` will be removed in a future version. This property should not be used in TensorFlow 2.0, as `updates` are applied automatically.\n",
      "  updates=self.state_updates,\n"
     ]
    },
    {
     "name": "stdout",
     "output_type": "stream",
     "text": [
      "Accuracy:  0.8253428114140701\n",
      "JSD inclusive=  0.0005563838640227914\n",
      "JSD higgs region=  0.00034401798620820045\n"
     ]
    },
    {
     "name": "stderr",
     "output_type": "stream",
     "text": [
      "/opt/anaconda-2022.10/envs/daml/lib/python3.9/site-packages/keras/engine/training_v1.py:2356: UserWarning: `Model.state_updates` will be removed in a future version. This property should not be used in TensorFlow 2.0, as `updates` are applied automatically.\n",
      "  updates=self.state_updates,\n"
     ]
    },
    {
     "name": "stdout",
     "output_type": "stream",
     "text": [
      "Accuracy:  0.8122503712889132\n",
      "JSD inclusive=  0.0004452202701941133\n",
      "JSD higgs region=  0.0001465421519242227\n"
     ]
    },
    {
     "name": "stderr",
     "output_type": "stream",
     "text": [
      "/opt/anaconda-2022.10/envs/daml/lib/python3.9/site-packages/keras/engine/training_v1.py:2356: UserWarning: `Model.state_updates` will be removed in a future version. This property should not be used in TensorFlow 2.0, as `updates` are applied automatically.\n",
      "  updates=self.state_updates,\n"
     ]
    },
    {
     "name": "stdout",
     "output_type": "stream",
     "text": [
      "Accuracy:  0.8064395195593558\n",
      "JSD inclusive=  0.0005103674484416842\n",
      "JSD higgs region=  0.00018087239004671574\n"
     ]
    },
    {
     "name": "stderr",
     "output_type": "stream",
     "text": [
      "/opt/anaconda-2022.10/envs/daml/lib/python3.9/site-packages/keras/engine/training_v1.py:2356: UserWarning: `Model.state_updates` will be removed in a future version. This property should not be used in TensorFlow 2.0, as `updates` are applied automatically.\n",
      "  updates=self.state_updates,\n"
     ]
    },
    {
     "name": "stdout",
     "output_type": "stream",
     "text": [
      "Accuracy:  0.8679364987815956\n",
      "JSD inclusive=  0.0009177422034554182\n",
      "JSD higgs region=  0.0005554810632020235\n"
     ]
    },
    {
     "name": "stderr",
     "output_type": "stream",
     "text": [
      "/opt/anaconda-2022.10/envs/daml/lib/python3.9/site-packages/keras/engine/training_v1.py:2356: UserWarning: `Model.state_updates` will be removed in a future version. This property should not be used in TensorFlow 2.0, as `updates` are applied automatically.\n",
      "  updates=self.state_updates,\n"
     ]
    },
    {
     "name": "stdout",
     "output_type": "stream",
     "text": [
      "Accuracy:  0.868383487376177\n",
      "JSD inclusive=  0.0009775031358003616\n",
      "JSD higgs region=  0.0007941231597214936\n"
     ]
    },
    {
     "name": "stderr",
     "output_type": "stream",
     "text": [
      "/opt/anaconda-2022.10/envs/daml/lib/python3.9/site-packages/keras/engine/training_v1.py:2356: UserWarning: `Model.state_updates` will be removed in a future version. This property should not be used in TensorFlow 2.0, as `updates` are applied automatically.\n",
      "  updates=self.state_updates,\n"
     ]
    },
    {
     "name": "stdout",
     "output_type": "stream",
     "text": [
      "Accuracy:  0.8655141089787032\n",
      "JSD inclusive=  0.0009362798882648349\n",
      "JSD higgs region=  0.0003482131287455558\n"
     ]
    },
    {
     "name": "stderr",
     "output_type": "stream",
     "text": [
      "/opt/anaconda-2022.10/envs/daml/lib/python3.9/site-packages/keras/engine/training_v1.py:2356: UserWarning: `Model.state_updates` will be removed in a future version. This property should not be used in TensorFlow 2.0, as `updates` are applied automatically.\n",
      "  updates=self.state_updates,\n"
     ]
    },
    {
     "name": "stdout",
     "output_type": "stream",
     "text": [
      "Accuracy:  0.8585064813346214\n",
      "JSD inclusive=  0.001024810364469886\n",
      "JSD higgs region=  0.0006279658991843462\n"
     ]
    },
    {
     "name": "stderr",
     "output_type": "stream",
     "text": [
      "/opt/anaconda-2022.10/envs/daml/lib/python3.9/site-packages/keras/engine/training_v1.py:2356: UserWarning: `Model.state_updates` will be removed in a future version. This property should not be used in TensorFlow 2.0, as `updates` are applied automatically.\n",
      "  updates=self.state_updates,\n"
     ]
    },
    {
     "name": "stdout",
     "output_type": "stream",
     "text": [
      "Accuracy:  0.8540942713364958\n",
      "JSD inclusive=  0.0008977456018328667\n",
      "JSD higgs region=  0.00044275645632296806\n"
     ]
    },
    {
     "name": "stderr",
     "output_type": "stream",
     "text": [
      "/opt/anaconda-2022.10/envs/daml/lib/python3.9/site-packages/keras/engine/training_v1.py:2356: UserWarning: `Model.state_updates` will be removed in a future version. This property should not be used in TensorFlow 2.0, as `updates` are applied automatically.\n",
      "  updates=self.state_updates,\n"
     ]
    },
    {
     "name": "stdout",
     "output_type": "stream",
     "text": [
      "Accuracy:  0.8510662840828803\n",
      "JSD inclusive=  0.0008416965138167143\n",
      "JSD higgs region=  0.00040519703179597855\n"
     ]
    },
    {
     "name": "stderr",
     "output_type": "stream",
     "text": [
      "/opt/anaconda-2022.10/envs/daml/lib/python3.9/site-packages/keras/engine/training_v1.py:2356: UserWarning: `Model.state_updates` will be removed in a future version. This property should not be used in TensorFlow 2.0, as `updates` are applied automatically.\n",
      "  updates=self.state_updates,\n"
     ]
    },
    {
     "name": "stdout",
     "output_type": "stream",
     "text": [
      "Accuracy:  0.8869983994924516\n",
      "JSD inclusive=  0.003876194823533297\n",
      "JSD higgs region=  0.0014428994618356226\n"
     ]
    },
    {
     "name": "stderr",
     "output_type": "stream",
     "text": [
      "/opt/anaconda-2022.10/envs/daml/lib/python3.9/site-packages/keras/engine/training_v1.py:2356: UserWarning: `Model.state_updates` will be removed in a future version. This property should not be used in TensorFlow 2.0, as `updates` are applied automatically.\n",
      "  updates=self.state_updates,\n"
     ]
    },
    {
     "name": "stdout",
     "output_type": "stream",
     "text": [
      "Accuracy:  0.8869551425316857\n",
      "JSD inclusive=  0.00322546623647213\n",
      "JSD higgs region=  0.0010310055222362278\n"
     ]
    },
    {
     "name": "stderr",
     "output_type": "stream",
     "text": [
      "/opt/anaconda-2022.10/envs/daml/lib/python3.9/site-packages/keras/engine/training_v1.py:2356: UserWarning: `Model.state_updates` will be removed in a future version. This property should not be used in TensorFlow 2.0, as `updates` are applied automatically.\n",
      "  updates=self.state_updates,\n"
     ]
    },
    {
     "name": "stdout",
     "output_type": "stream",
     "text": [
      "Accuracy:  0.8842876299511196\n",
      "JSD inclusive=  0.001908677746541798\n",
      "JSD higgs region=  0.0010218096431344745\n"
     ]
    },
    {
     "name": "stderr",
     "output_type": "stream",
     "text": [
      "/opt/anaconda-2022.10/envs/daml/lib/python3.9/site-packages/keras/engine/training_v1.py:2356: UserWarning: `Model.state_updates` will be removed in a future version. This property should not be used in TensorFlow 2.0, as `updates` are applied automatically.\n",
      "  updates=self.state_updates,\n"
     ]
    },
    {
     "name": "stdout",
     "output_type": "stream",
     "text": [
      "Accuracy:  0.8791112136461292\n",
      "JSD inclusive=  0.0014006568817421794\n",
      "JSD higgs region=  0.0007404366042464972\n"
     ]
    },
    {
     "name": "stderr",
     "output_type": "stream",
     "text": [
      "/opt/anaconda-2022.10/envs/daml/lib/python3.9/site-packages/keras/engine/training_v1.py:2356: UserWarning: `Model.state_updates` will be removed in a future version. This property should not be used in TensorFlow 2.0, as `updates` are applied automatically.\n",
      "  updates=self.state_updates,\n"
     ]
    },
    {
     "name": "stdout",
     "output_type": "stream",
     "text": [
      "Accuracy:  0.875823684627918\n",
      "JSD inclusive=  0.0013964143581688406\n",
      "JSD higgs region=  0.0007992108585312964\n"
     ]
    },
    {
     "name": "stderr",
     "output_type": "stream",
     "text": [
      "/opt/anaconda-2022.10/envs/daml/lib/python3.9/site-packages/keras/engine/training_v1.py:2356: UserWarning: `Model.state_updates` will be removed in a future version. This property should not be used in TensorFlow 2.0, as `updates` are applied automatically.\n",
      "  updates=self.state_updates,\n"
     ]
    },
    {
     "name": "stdout",
     "output_type": "stream",
     "text": [
      "Accuracy:  0.8652401482271855\n",
      "JSD inclusive=  0.0012095838319510224\n",
      "JSD higgs region=  0.0005964216543361545\n"
     ]
    }
   ],
   "source": [
    "JSDs_incl = np.array([])\n",
    "JSDs_incl_std = np.array([])\n",
    "JSDs_higgs = np.array([])\n",
    "JSDs_higgs_std = np.array([])\n",
    "ROC_AUCs = np.array([])\n",
    "back_effs = np.array([])\n",
    "d_scores = []\n",
    "\n",
    "bins = np.linspace(105e3,160e3,40)\n",
    "bin_width = bins[1]-bins[0]\n",
    "bin_centres = np.linspace(bins[0]+(bin_width/2),bins[-1]-(bin_width/2),39)\n",
    "cut_higgs = (bin_centres>121e3)*(bin_centres<129e3)\n",
    "\n",
    "# Loop over all possible combinations of chosen hyperparameter values\n",
    "for corr in corrs:\n",
    "    for reg in regs:\n",
    "# for corr in [0.1]:\n",
    "#     for reg in [12]:\n",
    "                # Select training variables\n",
    "                x_train,x_test,y_train,y_test,sc_myy_train,myy_test = select_var(corr)\n",
    "                # Number of samples, features, epochs & batch size\n",
    "                num_samples = x_train.shape[0]\n",
    "                num_feat = x_train.shape[1]\n",
    "                num_epochs = 100\n",
    "                batch = 5000\n",
    "\n",
    "                lambda_reg = reg             # Regularization parameter \n",
    "                num_gmm = 5                # Number of GMM components\n",
    "                lr = 1e-5                 # Relative learning rates for classifier and adversary\n",
    "\n",
    "                loss_weights = [lr, lambda_reg]\n",
    "\n",
    "                # Prepare sample weights (i.e. only do mass-decorrelation for background)\n",
    "                sample_weight = [np.ones(num_samples, dtype=float), (y_train == 0).astype(float)]\n",
    "                sample_weight[1] *= np.sum(sample_weight[0])/ np.sum(sample_weight[1])   \n",
    "\n",
    "                # Prepare class weights\n",
    "                weight = {0:1, 1:3.9,}    \n",
    "                class_weight = [weight, weight]\n",
    "\n",
    "                ## Define classifier, adversary & combined network\n",
    "\n",
    "                clf = classifier(num_feat)\n",
    "                adv = adversary(num_gmm)\n",
    "                ANN = combined(clf, adv, lambda_reg, lr)\n",
    "                \n",
    "                # Load the already trained weights for each model\n",
    "                ANN.load_weights(\"ANN_optimization_weights\\corr={},reg={}.hdf5\".format(corr,reg))\n",
    "                #clf = classifier(num_feat)\n",
    "                \n",
    "                d_score_ANN = clf.predict(x_test,verbose=1)\n",
    "                d_score_ANN = d_score_ANN.flatten()\n",
    "                \n",
    "                \n",
    "                \n",
    "                #### Full Analysis plots ####\n",
    "                #### Uncomment to display the plots ####\n",
    "                \n",
    "#                 fig, ax = plt.subplots(2,2, figsize=(12,8))\n",
    "#                 ax = ax.flatten()\n",
    "#                 plot_dscore(d_score_ANN,ax[0])\n",
    "#                 plot_ROC(d_score_ANN,ax[1])\n",
    "#                 plot_D_score_myy(d_score_ANN,ax[2])\n",
    "#                 plot_sculpting(d_score_ANN,0.8,ax[3],\"log\")\n",
    "#                 fig.tight_layout()\n",
    "\n",
    "\n",
    "#                 Dscore_fractions_ratio(d_score_ANN,0.8)\n",
    "\n",
    "\n",
    "                print(\"Accuracy: \",accuracy(d_score_ANN,0.8))\n",
    "                print(\"JSD inclusive= \",JSD(d_score_ANN,0.8,\"incl\"))\n",
    "                print(\"JSD higgs region= \",JSD(d_score_ANN,0.8,\"higgs\"))\n",
    "                \n",
    "                std = []\n",
    "                std_higgs = []\n",
    "                for trial in range(100):\n",
    "                    selection = np.random.choice(myy_test[y_test==0],int(Back_eff(d_score_ANN,0.8)*myy_test[y_test==0].size))\n",
    "                    before_cut = np.histogram(myy_test[y_test==0],bins=bins)[0]\n",
    "                    after_cut = np.histogram(selection,bins=bins)[0]\n",
    "                    # Uncertainty based on no sculpting\n",
    "                    JSD_set = []\n",
    "                    JSD_set_higgs = []\n",
    "                    unc_incl = np.sqrt(after_cut)\n",
    "                    unc_higgs = np.sqrt(after_cut[cut_higgs])\n",
    "                    for i in range(100):\n",
    "                        updated_fracs = []\n",
    "                        updated_fracs_higgs = []\n",
    "                        for i in range(unc_incl.size):\n",
    "                            shift = unc_incl[i]*(np.random.uniform()-0.5)\n",
    "                            updated_fracs.append(after_cut[i]+shift)\n",
    "                        \n",
    "                        JSD_set.append(np.square(distance.jensenshannon(before_cut, updated_fracs)))\n",
    "                        \n",
    "                        for i in range(unc_higgs.size):\n",
    "                            shift_higgs = unc_higgs[i]*(np.random.uniform()-0.5)\n",
    "                            updated_fracs_higgs.append(after_cut[cut_higgs][i]+shift_higgs)\n",
    "                           \n",
    "                        JSD_set_higgs.append(np.square(distance.jensenshannon(before_cut[cut_higgs], updated_fracs_higgs)))\n",
    "                    \n",
    "                    \n",
    "                    std.append(np.percentile(np.sort(JSD_set),68)) # Uncertainty on the current result\n",
    "                \n",
    "                    std_higgs.append(np.percentile(np.sort(JSD_set_higgs),68)) # Uncertainty on the current result, higgs region\n",
    "                \n",
    "                \n",
    "                JSDs_incl_std = np.append(JSDs_incl_std,np.mean(std))\n",
    "                JSDs_higgs_std = np.append(JSDs_higgs_std,np.mean(std_higgs))\n",
    "\n",
    "                JSDs_incl = np.append(JSDs_incl,JSD(d_score_ANN,0.8,\"incl\"))\n",
    "                JSDs_higgs = np.append(JSDs_higgs,JSD(d_score_ANN,0.8,\"higgs\"))\n",
    "                ROC_AUCs = np.append(ROC_AUCs,ROC_AUC(d_score_ANN))\n",
    "                back_effs = np.append(back_effs,Back_eff(d_score_ANN,0.8))\n",
    "                d_scores.append(d_score_ANN)\n",
    "                "
   ]
  },
  {
   "cell_type": "markdown",
   "id": "851e591a",
   "metadata": {},
   "source": [
    "### Calculate the uncertainty on the benchmark result"
   ]
  },
  {
   "cell_type": "code",
   "execution_count": null,
   "id": "18313c48",
   "metadata": {},
   "outputs": [],
   "source": [
    "std = []\n",
    "std_higgs = []\n",
    "JSD_set = []\n",
    "JSD_set_higgs = []\n",
    "\n",
    "for trial in range(1000):\n",
    "    selection = np.random.choice(myy_test[y_test==0],int(0.1645881*myy_test[y_test==0].size))\n",
    "    before_cut = np.histogram(myy_test[y_test==0],bins=bins)[0]\n",
    "    after_cut = np.histogram(selection,bins=bins)[0]\n",
    "    # Uncertainty based on no sculpting\n",
    "\n",
    "    JSD_set.append(np.square(distance.jensenshannon(before_cut, after_cut)))\n",
    "\n",
    "\n",
    "    JSD_set_higgs.append(np.square(distance.jensenshannon(before_cut[cut_higgs], after_cut[cut_higgs])))"
   ]
  },
  {
   "cell_type": "code",
   "execution_count": 140,
   "id": "8ed8b587",
   "metadata": {},
   "outputs": [],
   "source": [
    "benchmark_mean = np.mean(JSD_set)"
   ]
  },
  {
   "cell_type": "code",
   "execution_count": 141,
   "id": "e5e65ba3",
   "metadata": {},
   "outputs": [],
   "source": [
    "benchmark_mean_higgs = np.mean(JSD_set_higgs)"
   ]
  },
  {
   "cell_type": "code",
   "execution_count": 151,
   "id": "67a73d0b",
   "metadata": {},
   "outputs": [
    {
     "name": "stdout",
     "output_type": "stream",
     "text": [
      "Benchmark mean: 0.000799\n"
     ]
    }
   ],
   "source": [
    "print(\"Benchmark mean:\",round(benchmark_mean,6))"
   ]
  },
  {
   "cell_type": "code",
   "execution_count": 155,
   "id": "4b5c12e2",
   "metadata": {},
   "outputs": [
    {
     "name": "stdout",
     "output_type": "stream",
     "text": [
      "Benchmark mean higgs region: 0.000605\n"
     ]
    }
   ],
   "source": [
    "print(\"Benchmark mean higgs region:\",round(benchmark_mean_higgs,6))"
   ]
  },
  {
   "cell_type": "code",
   "execution_count": 144,
   "id": "0e669c1d",
   "metadata": {},
   "outputs": [],
   "source": [
    "benchmark_std = np.percentile(np.sort(JSD_set),68)"
   ]
  },
  {
   "cell_type": "code",
   "execution_count": 145,
   "id": "96ab7410",
   "metadata": {},
   "outputs": [],
   "source": [
    "benchmark_std_higgs = np.percentile(np.sort(JSD_set_higgs),68)"
   ]
  },
  {
   "cell_type": "code",
   "execution_count": 156,
   "id": "bc9f300b",
   "metadata": {},
   "outputs": [
    {
     "name": "stdout",
     "output_type": "stream",
     "text": [
      "Benchmark standard deviation: 0.000875\n"
     ]
    }
   ],
   "source": [
    "print(\"Benchmark standard deviation:\",round(benchmark_std,6))# Uncertainty on the benchmark result"
   ]
  },
  {
   "cell_type": "code",
   "execution_count": 157,
   "id": "9a02016d",
   "metadata": {},
   "outputs": [
    {
     "name": "stdout",
     "output_type": "stream",
     "text": [
      "Benchmark standard deviation higgs region: 0.000706\n"
     ]
    }
   ],
   "source": [
    "print(\"Benchmark standard deviation higgs region:\",round(benchmark_std_higgs,6))# Uncertainty on the benchmark result, higgs"
   ]
  },
  {
   "cell_type": "markdown",
   "id": "020275e7",
   "metadata": {},
   "source": [
    "### Combined plots of hyperparameter optimisation and benchmark results"
   ]
  },
  {
   "cell_type": "code",
   "execution_count": 154,
   "id": "422db967",
   "metadata": {},
   "outputs": [
    {
     "data": {
      "image/png": "[encoded data removed]",
      "text/plain": [
       "<Figure size 640x480 with 1 Axes>"
      ]
     },
     "metadata": {},
     "output_type": "display_data"
    }
   ],
   "source": [
    "plt.rcParams.update({'font.size': 10})\n",
    "back_effs = back_effs.reshape(3,6)\n",
    "JSDs_incl = JSDs_incl.reshape(3,6)\n",
    "JSDs_incl_std = JSDs_incl_std.reshape(3,6)\n",
    "\n",
    "for i in range(3):\n",
    "    #for j in range(3):\n",
    "    plt.scatter(back_effs[i,:],JSDs_incl[i,:],marker=\".\")\n",
    "    plt.errorbar(back_effs[i,:],JSDs_incl[i,:],yerr=(JSDs_incl_std[i,:]/2),linestyle=\"--\",capsize=3)\n",
    "    \n",
    "plt.scatter(0.1645881,0.0007034581,marker=\"x\",color=\"red\")\n",
    "\n",
    "plt.axhspan(ymin=(0.0007034581+(benchmark_std/2)),\n",
    "                 ymax=(0.0007034581-(benchmark_std/2)),color=\"grey\",alpha=0.15)\n",
    "# plt.axhline(y=0.0007034581, color='r', linestyle='-')\n",
    "plt.legend([\"corr. = 0.05\",\"corr. = 0.1\",\"corr. = 0.2\",\"Benchmark (corr. = 0.05)\"],frameon=False)\n",
    "plt.ylabel(\"JSD score ($sig. eff. = 80 \\%$)\")\n",
    "plt.xlabel(\"Background efficiency ($sig. eff. =80 \\%$)\")\n",
    "atlasify(\"Work in progress\")\n",
    "#plt.savefig(\"JSD vs Background_eff (incl).pdf\")\n",
    "#plt.legend(frameon = False)\n",
    "#plt.yscale(\"log\")\n",
    "#plt.ylim([0,0.5])\n",
    "#plt.xlim([0.11,0.12])\n",
    "plt.show()"
   ]
  },
  {
   "cell_type": "code",
   "execution_count": 30,
   "id": "effbdce7",
   "metadata": {},
   "outputs": [],
   "source": [
    "#np.savetxt(\"ANN score\",d_score_ANN)"
   ]
  },
  {
   "cell_type": "code",
   "execution_count": 168,
   "id": "a15164ee",
   "metadata": {},
   "outputs": [
    {
     "name": "stdout",
     "output_type": "stream",
     "text": [
      "Benchmark std = +/- 0.000438\n"
     ]
    }
   ],
   "source": [
    "print(\"Benchmark std = +/-\",round(benchmark_std/2,6))"
   ]
  },
  {
   "cell_type": "code",
   "execution_count": 160,
   "id": "c54fe022",
   "metadata": {},
   "outputs": [
    {
     "data": {
      "image/png": "[encoded data removed]",
      "text/plain": [
       "<Figure size 640x480 with 1 Axes>"
      ]
     },
     "metadata": {},
     "output_type": "display_data"
    }
   ],
   "source": [
    "back_effs = back_effs.reshape(3,6)\n",
    "JSDs_higgs = JSDs_higgs.reshape(3,6)\n",
    "JSDs_higgs_std = JSDs_higgs_std.reshape(3,6)\n",
    "\n",
    "for i in range(3):\n",
    "    #for j in range(3):\n",
    "    plt.scatter(back_effs[i,:],JSDs_higgs[i,:],marker=\".\")\n",
    "    plt.errorbar(back_effs[i,:],JSDs_higgs[i,:],yerr=(JSDs_higgs_std[i,:]/2),linestyle=\"--\",capsize=3)\n",
    "    \n",
    "plt.scatter(0.1645881,0.0003409238,marker=\"x\",color=\"red\")\n",
    "\n",
    "plt.axhspan(ymin=(0.0003409238+(benchmark_std_higgs/2)),\n",
    "                 ymax=(0.0003409238-(benchmark_std_higgs/2)),color=\"grey\",alpha=0.15)\n",
    "plt.legend([\"corr. = 0.05\",\"corr. = 0.1\",\"corr. = 0.2\",\"Benchmark (corr. = 0.05)\"],frameon=False)\n",
    "plt.ylabel(\"JSD score ($sig. eff. = 80 \\%$)\")\n",
    "plt.xlabel(\"Background efficiency ($sig. eff. =80 \\%$)\")\n",
    "atlasify(\"Work in progress\")\n",
    "#plt.savefig(\"JSD vs Background_eff (higgs).pdf\")\n",
    "#plt.yscale(\"log\")\n",
    "#plt.ylim([0,0.5])\n",
    "plt.show()"
   ]
  },
  {
   "cell_type": "code",
   "execution_count": 167,
   "id": "24e24fa6",
   "metadata": {
    "scrolled": true
   },
   "outputs": [
    {
     "name": "stdout",
     "output_type": "stream",
     "text": [
      "Benchmark std = +/- 0.000353\n"
     ]
    }
   ],
   "source": [
    "print(\"Benchmark std = +/-\",round(benchmark_std_higgs/2,6))"
   ]
  },
  {
   "cell_type": "markdown",
   "id": "6953712f",
   "metadata": {},
   "source": [
    "### Best model performance"
   ]
  },
  {
   "cell_type": "code",
   "execution_count": 176,
   "id": "1aba896f",
   "metadata": {},
   "outputs": [],
   "source": [
    "d_score = d_scores[6]"
   ]
  },
  {
   "cell_type": "code",
   "execution_count": 177,
   "id": "d13cc88b",
   "metadata": {},
   "outputs": [
    {
     "name": "stdout",
     "output_type": "stream",
     "text": [
      "Back_eff=  0.11735600448320166\n"
     ]
    },
    {
     "data": {
      "image/png": "[encoded data removed]",
      "text/plain": [
       "<Figure size 800x600 with 2 Axes>"
      ]
     },
     "metadata": {},
     "output_type": "display_data"
    }
   ],
   "source": [
    "plt.rcParams.update({'font.size': 15})\n",
    "selection = (myy_test[y_test==0]>105e3)&(myy_test[y_test==0]<160e3)\n",
    "back = myy_test[y_test==0][selection]\n",
    "sig = myy_test[y_test==1]\n",
    "sig_cut = d_score[y_test==1][np.argsort(-d_score[y_test==1])][:int(d_score[y_test==1].shape[0]*0.8)]\n",
    "d_cut = sig_cut[-1]\n",
    "back_cut = back[d_score[y_test==0][selection]>d_cut]\n",
    "back_eff = back_cut.size/back.size\n",
    "print(\"Back_eff= \",back_eff)\n",
    "bins=np.linspace(105e3,160e3,40)/1000\n",
    "bin_width = bins[1]-bins[0]\n",
    "bin_centres = np.linspace(bins[0]+(bin_width/2),bins[-1]-(bin_width/2),39)\n",
    "\n",
    "dists=[back/1000,back_cut/1000]\n",
    "labels = [\"Before selection\",\"After selection\"]\n",
    "err_label = [\"\",\"Stat. uncertainty\"]\n",
    "fractions = []\n",
    "unscaled_dists = []\n",
    "weights_comb = []\n",
    "fig, ax = plt.subplots(2,1,figsize=(8,6), gridspec_kw={'height_ratios': [2, 1]})\n",
    "for i, values in enumerate(dists):\n",
    "    non_zero = np.count_nonzero(~np.isnan(values))\n",
    "    weights = np.ones_like(values)/float(non_zero)\n",
    "    fraction = ax[0].hist(values, label=labels[i],bins = bins,weights=weights, histtype=\"step\",linewidth=2)\n",
    "    fractions.append(fraction[0])\n",
    "    unscaled = np.histogram(values,bins=bins)\n",
    "    unscaled_dists.append(unscaled[0])\n",
    "    weights_comb.append(weights[0])\n",
    "    ax[0].fill_between(bin_centres, fraction[0]-np.sqrt(unscaled[0])*weights[0], fraction[0]+np.sqrt(unscaled[0])*weights[0], \n",
    "                       alpha=0.8,step=\"mid\", label=err_label[i],hatch=\"////\",facecolor=\"none\",linewidth=0)\n",
    "ax[0].legend()\n",
    "#plt.suptitle(\"normalised m_yy non_res_bkg distributions before and after D cut at {}% sig. eff.\".format(int(100*cut)),y=0.95)\n",
    "ax[0].axvline(x = 121, color = \"red\",alpha=0.5)\n",
    "ax[0].axvline(x = 129, color = \"red\",alpha=0.5)\n",
    "atlasify(\"Work in progress\", axes=ax[0])\n",
    "for i in range(2):\n",
    "    ax[1].hist(bin_centres,bins=bins,weights=fractions[i]/fractions[0],histtype=\"step\",linewidth=2)\n",
    "    y_min= (fractions[i]-np.sqrt(unscaled_dists[i])*weights_comb[i])/fractions[0]\n",
    "    y_max= (fractions[i]+np.sqrt(unscaled_dists[i])*weights_comb[i])/fractions[0]\n",
    "    ax[1].fill_between(bin_centres, y_min, y_max, \n",
    "                           alpha=0.8,step=\"mid\",hatch=\"////\",facecolor=\"none\",linewidth=0)\n",
    "ax[1].set_ylim(0.7,1.3)\n",
    "plt.setp(ax, xlim=[105e3/1000,160e3/1000])\n",
    "\n",
    "plt.xlabel(\"$m_{\\gamma \\gamma}$ [GeV]\")\n",
    "ax[1].axvline(x = 121, color = \"red\",alpha=0.5)\n",
    "ax[1].axvline(x = 129, color = \"red\",alpha=0.5)\n",
    "ax[0].set_ylabel(\"Fraction\")\n",
    "ax[1].set_ylabel(\"Ratio\")\n",
    "\n",
    "# plt.savefig(\"Background ratio plot ANN.png\",dpi=300)\n",
    "plt.show()"
   ]
  },
  {
   "cell_type": "code",
   "execution_count": 178,
   "id": "14888eb1",
   "metadata": {},
   "outputs": [
    {
     "data": {
      "image/png": "[encoded data removed]",
      "text/plain": [
       "<Figure size 640x480 with 1 Axes>"
      ]
     },
     "metadata": {},
     "output_type": "display_data"
    }
   ],
   "source": [
    "effs=[]\n",
    "bins = np.linspace(0,1,50)\n",
    "back = d_score[y_test==0]\n",
    "sig = d_score[y_test==1]\n",
    "for dist in [back,sig]:\n",
    "        # Normalise distributions\n",
    "        non_zero = np.count_nonzero(~np.isnan(dist))\n",
    "        weights = np.ones_like(dist)/float(non_zero)\n",
    "        # Calculate signal and background efficiencies\n",
    "        frac = np.histogram(dist,bins=bins,weights=weights)[0]\n",
    "        eff = 1-np.append(0,np.cumsum(frac))\n",
    "        effs.append(eff)\n",
    "# Plot ROC curve\n",
    "plt.plot(effs[0],effs[1])\n",
    "# Calculate AUC\n",
    "auc = metrics.auc(effs[0], effs[1])\n",
    "plt.text(x=0,y=0.9,s=\"AUC= \"+\"{:.4f}\".format(round(auc, 4)))\n",
    "plt.plot([0,1], [0,1], linestyle='--', color='red')\n",
    "plt.xlabel(\"Background efficiency\")\n",
    "plt.ylabel(\"Signal efficiency\")\n",
    "#plt.legend([\"non res. bkg\",\"VBF\",\"Random classifier\"])\n",
    "plt.show()"
   ]
  },
  {
   "cell_type": "code",
   "execution_count": null,
   "id": "84d6cf6f",
   "metadata": {},
   "outputs": [],
   "source": []
  }
 ],
 "metadata": {
  "kernelspec": {
   "display_name": "Python 3 (ipykernel)",
   "language": "python",
   "name": "python3"
  },
  "language_info": {
   "codemirror_mode": {
    "name": "ipython",
    "version": 3
   },
   "file_extension": ".py",
   "mimetype": "text/x-python",
   "name": "python",
   "nbconvert_exporter": "python",
   "pygments_lexer": "ipython3",
   "version": "3.9.15"
  }
 },
 "nbformat": 4,
 "nbformat_minor": 5
}
